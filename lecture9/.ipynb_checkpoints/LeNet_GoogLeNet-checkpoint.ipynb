{
 "cells": [
  {
   "cell_type": "code",
   "execution_count": 2,
   "id": "d9a2815c",
   "metadata": {},
   "outputs": [],
   "source": [
    "import torch\n",
    "from torch import nn as nn"
   ]
  },
  {
   "cell_type": "markdown",
   "id": "dcc15455",
   "metadata": {},
   "source": [
    "# LeNet (Option 1)"
   ]
  },
  {
   "cell_type": "code",
   "execution_count": 7,
   "id": "7549655c",
   "metadata": {},
   "outputs": [],
   "source": [
    "lenet = nn.Sequential(\n",
    "  nn.Conv2d(1, 6, kernel_size=5, padding=2),\n",
    "  nn.Sigmoid(),\n",
    "  nn.AvgPool2d(kernel_size=2, stride=2),\n",
    "  nn.Conv2d(6, 16, kernel_size=5),\n",
    "  nn.Sigmoid(),\n",
    "  nn.AvgPool2d(kernel_size=2, stride=2),\n",
    "  nn.Flatten(),\n",
    "  nn.Linear(16*5*5, 120),\n",
    "  nn.Sigmoid(),\n",
    "  nn.Linear(120, 84),\n",
    "  nn.Sigmoid(),\n",
    "  nn.Linear(84, 10),\n",
    "  nn.Sigmoid()\n",
    ")"
   ]
  },
  {
   "cell_type": "code",
   "execution_count": 8,
   "id": "6f5e642a",
   "metadata": {},
   "outputs": [
    {
     "name": "stdout",
     "output_type": "stream",
     "text": [
      "Sequential(\n",
      "  (0): Conv2d(1, 6, kernel_size=(5, 5), stride=(1, 1), padding=(2, 2))\n",
      "  (1): Sigmoid()\n",
      "  (2): AvgPool2d(kernel_size=2, stride=2, padding=0)\n",
      "  (3): Conv2d(6, 16, kernel_size=(5, 5), stride=(1, 1))\n",
      "  (4): Sigmoid()\n",
      "  (5): AvgPool2d(kernel_size=2, stride=2, padding=0)\n",
      "  (6): Flatten(start_dim=1, end_dim=-1)\n",
      "  (7): Linear(in_features=400, out_features=120, bias=True)\n",
      "  (8): Sigmoid()\n",
      "  (9): Linear(in_features=120, out_features=84, bias=True)\n",
      "  (10): Sigmoid()\n",
      "  (11): Linear(in_features=84, out_features=10, bias=True)\n",
      "  (12): Sigmoid()\n",
      ")\n"
     ]
    }
   ],
   "source": [
    "print(lenet)"
   ]
  },
  {
   "cell_type": "code",
   "execution_count": 9,
   "id": "cf5b75a6",
   "metadata": {},
   "outputs": [
    {
     "name": "stdout",
     "output_type": "stream",
     "text": [
      "Conv2d output shape:\t torch.Size([5, 6, 28, 28])\n",
      "Sigmoid output shape:\t torch.Size([5, 6, 28, 28])\n",
      "AvgPool2d output shape:\t torch.Size([5, 6, 14, 14])\n",
      "Conv2d output shape:\t torch.Size([5, 16, 10, 10])\n",
      "Sigmoid output shape:\t torch.Size([5, 16, 10, 10])\n",
      "AvgPool2d output shape:\t torch.Size([5, 16, 5, 5])\n",
      "Flatten output shape:\t torch.Size([5, 400])\n",
      "Linear output shape:\t torch.Size([5, 120])\n",
      "Sigmoid output shape:\t torch.Size([5, 120])\n",
      "Linear output shape:\t torch.Size([5, 84])\n",
      "Sigmoid output shape:\t torch.Size([5, 84])\n",
      "Linear output shape:\t torch.Size([5, 10])\n",
      "Sigmoid output shape:\t torch.Size([5, 10])\n"
     ]
    }
   ],
   "source": [
    "X = torch.rand(size=(5, 1, 28, 28))\n",
    "for layer in lenet:\n",
    "    X = layer(X)\n",
    "    print(layer.__class__.__name__,'output shape:\\t', X.shape)"
   ]
  },
  {
   "cell_type": "markdown",
   "id": "385b4fde",
   "metadata": {},
   "source": [
    "# LeNet (Option 2)"
   ]
  },
  {
   "cell_type": "code",
   "execution_count": 11,
   "id": "38bafc70",
   "metadata": {},
   "outputs": [],
   "source": [
    "class Lenet(nn.Module):\n",
    "    def __init__(self):\n",
    "        super(Lenet, self).__init__()\n",
    "        \n",
    "        # define the layers\n",
    "        self.c1 = nn.Conv2d(1, 6, kernel_size=5, padding=2)\n",
    "        self.c2 = nn.Conv2d(6, 16, kernel_size=5),\n",
    "        self.s1 = nn.Sigmoid()\n",
    "        self.s2 = nn.Sigmoid(),\n",
    "        self.s3 = nn.Sigmoid(),\n",
    "        self.ap1 = nn.AvgPool2d(kernel_size=2, stride=2)\n",
    "        nn.AvgPool2d(kernel_size=2, stride=2),\n",
    "        nn.Flatten(),\n",
    "        nn.Linear(16*5*5, 120),\n",
    "        nn.Linear(120, 84),\n",
    "        nn.Sigmoid(),\n",
    "        llast = nn.Linear(84, 10)\n",
    "\n",
    "    def forward(self, x):\n",
    "        # how the data pass through the layer in forward\n",
    "        x = self.c1(x)\n",
    "        x = self.s1(x)\n",
    "        x = self.ap1(x)\n",
    "        x = c2(x)\n",
    "        ...\n",
    "        x = llast(x)\n",
    "        return x\n",
    "\n",
    "lenet = Lenet() # instantiate the objects - exucute __init__\n",
    "lenet(trainbatch) # runs the forward"
   ]
  },
  {
   "cell_type": "markdown",
   "id": "aabf9e5d",
   "metadata": {},
   "source": [
    "# GoogLeNet"
   ]
  },
  {
   "cell_type": "code",
   "execution_count": 13,
   "id": "0b7385a5",
   "metadata": {},
   "outputs": [],
   "source": [
    "from torch.nn import functional as F"
   ]
  },
  {
   "cell_type": "code",
   "execution_count": null,
   "id": "232febc5",
   "metadata": {},
   "outputs": [],
   "source": [
    "class Inception(nn.Module):\n",
    "    def __init__(self, in_channels, oc1, oc2):\n",
    "        super(Model, self).__init__()\n",
    "        # define the layers\n",
    "        self.c1 = nn.Conv2d(in_channels, oc1, kernel_size=1)\n",
    "        self.c2 = nn.Conv2d(in_channels, oc2[0], kernel_size=1)\n",
    "        self.c3 = nn.Conv2d(oc2[0], oc2[1], kernel_size=3, padding=1)\n",
    "        self.c4 = nn.Conv2d(in_channels, oc2[3], kernel_size=1)\n",
    "        self.c5 = nn.Conv2d(oc2[3], oc2[4], kernel_size=5, padding=2)\n",
    "        self.c6 = nn.MaxPool2d(kernel_size=3, padding=1)\n",
    "        self.c7 = nn.Conv2d(in_channels, oc2[5], kernel_size=1)\n",
    "    \n",
    "    def forward(self, x):\n",
    "        # how the data pass through the layer in forward\n",
    "        out1 = F.relu(self.c1(x))\n",
    "\n",
    "        out2 = F.relu(self.c2(x))\n",
    "        out2 = F.relu(self.c3(out2))\n",
    "\n",
    "        out3 = F.relu(self.c4(x))\n",
    "        out3 = F.relu(self.c5(out3))\n",
    "\n",
    "        out4 = F.relu(self.c7(self.c6(x)))\n",
    "\n",
    "        x = torch.cat([out1, out2, out3, out4], dim=1)\n",
    "        return x\n",
    " \n",
    "incept_block = Inception(3, 16, [14, 45, ...])\n",
    "incept_block(x)"
   ]
  }
 ],
 "metadata": {
  "kernelspec": {
   "display_name": "Python 3 (ipykernel)",
   "language": "python",
   "name": "python3"
  },
  "language_info": {
   "codemirror_mode": {
    "name": "ipython",
    "version": 3
   },
   "file_extension": ".py",
   "mimetype": "text/x-python",
   "name": "python",
   "nbconvert_exporter": "python",
   "pygments_lexer": "ipython3",
   "version": "3.8.0"
  }
 },
 "nbformat": 4,
 "nbformat_minor": 5
}
