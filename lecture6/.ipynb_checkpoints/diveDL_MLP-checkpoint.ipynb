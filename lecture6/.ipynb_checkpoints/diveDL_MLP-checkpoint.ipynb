{
 "cells": [
  {
   "cell_type": "code",
   "execution_count": 11,
   "id": "aa97b732",
   "metadata": {},
   "outputs": [],
   "source": [
    "import torch\n",
    "import pandas as pd\n",
    "import numpy as np\n",
    "from torch import nn\n",
    "from torch.utils.data import DataLoader, TensorDataset\n",
    "from torchvision import datasets, transforms\n",
    "from matplotlib import pyplot as plt\n",
    "%matplotlib inline"
   ]
  },
  {
   "cell_type": "code",
   "execution_count": 12,
   "id": "9e421dfe",
   "metadata": {},
   "outputs": [],
   "source": [
    "mnist_train = datasets.FashionMNIST(\"..\\datasets\", train=True, download=True, transform=transforms.ToTensor())\n",
    "mnist_test = datasets.FashionMNIST(\"..\\datasets\", train=False, download=True, transform=transforms.ToTensor())"
   ]
  },
  {
   "cell_type": "code",
   "execution_count": 14,
   "id": "7670d705",
   "metadata": {},
   "outputs": [],
   "source": [
    "def dloaders(batch_size):\n",
    "    train_loader = DataLoader(mnist_train, batch_size=batch_size, shuffle=True)\n",
    "    test_loader = DataLoader(mnist_test, batch_size=batch_size, shuffle=False)\n",
    "    return train_loader, test_loader"
   ]
  },
  {
   "cell_type": "markdown",
   "id": "3c5784a3",
   "metadata": {},
   "source": [
    "- 28x28 = 784 pixel values\n",
    "- 10 classes\n",
    "- 256 hidden units"
   ]
  },
  {
   "cell_type": "markdown",
   "id": "b31f1973",
   "metadata": {},
   "source": [
    "## Model parameters"
   ]
  },
  {
   "cell_type": "code",
   "execution_count": 7,
   "id": "0a6a8b6d",
   "metadata": {},
   "outputs": [],
   "source": [
    "num_inputs = 784\n",
    "num_outputs = 10\n",
    "num_hiddens = 256\n",
    "\n",
    "W1 = nn.Parameter(torch.randn(num_inputs, num_hiddens, requires_grad=True) * 0.01)\n",
    "b1 = nn.Parameter(torch.zeros(num_hiddens, requires_grad=True))\n",
    "W2 = nn.Parameter(torch.randn(num_inputs, num_hiddens, requires_grad=True) * 0.01)\n",
    "b2 = nn.Parameter(torch.zeros(num_hiddens, requires_grad=True))\n",
    "\n",
    "params =  [W1, b1, W2, b2]"
   ]
  },
  {
   "cell_type": "markdown",
   "id": "95d68d86",
   "metadata": {},
   "source": [
    "## Activation function\n",
    "- ``torch.zeros_like`` Returns a tensor filled with the scalar value 0, with the same size as input"
   ]
  },
  {
   "cell_type": "code",
   "execution_count": 8,
   "id": "a1e4c8d2",
   "metadata": {},
   "outputs": [],
   "source": [
    "def relu(X):\n",
    "    a = torch.zeros_like(X)\n",
    "    return torch.max(X, a)"
   ]
  },
  {
   "cell_type": "markdown",
   "id": "b67259f3",
   "metadata": {},
   "source": [
    "## Model\n",
    "Because we are disregarding spatial structure, we reshape each two-dimensional image into a flat vector of length num_inputs."
   ]
  },
  {
   "cell_type": "code",
   "execution_count": 9,
   "id": "18963dfd",
   "metadata": {},
   "outputs": [],
   "source": [
    "def net(X):\n",
    "    X = X.reshape((-1, num_inputs))\n",
    "    H = relu(X@W1 + b1) # @ means matrix multiplication\n",
    "    return (H@W2 + b2)"
   ]
  },
  {
   "cell_type": "markdown",
   "id": "2f480770",
   "metadata": {},
   "source": [
    "## Loss function"
   ]
  },
  {
   "cell_type": "code",
   "execution_count": 10,
   "id": "213e9920",
   "metadata": {},
   "outputs": [],
   "source": [
    "loss = nn.CrossEntropyLoss()"
   ]
  },
  {
   "cell_type": "markdown",
   "id": "52004708",
   "metadata": {},
   "source": [
    "## Training"
   ]
  },
  {
   "cell_type": "code",
   "execution_count": null,
   "id": "620870f5",
   "metadata": {},
   "outputs": [],
   "source": [
    "num_epochs = 10\n",
    "learning_rate = 0.1\n",
    "updater = torch.optim.SGD(params, lr=learning_rate)\n"
   ]
  }
 ],
 "metadata": {
  "kernelspec": {
   "display_name": "Python 3 (ipykernel)",
   "language": "python",
   "name": "python3"
  },
  "language_info": {
   "codemirror_mode": {
    "name": "ipython",
    "version": 3
   },
   "file_extension": ".py",
   "mimetype": "text/x-python",
   "name": "python",
   "nbconvert_exporter": "python",
   "pygments_lexer": "ipython3",
   "version": "3.8.0"
  }
 },
 "nbformat": 4,
 "nbformat_minor": 5
}
