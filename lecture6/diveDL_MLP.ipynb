{
 "cells": [
  {
   "cell_type": "code",
   "execution_count": 1,
   "id": "aa97b732",
   "metadata": {},
   "outputs": [],
   "source": [
    "import torch\n",
    "import pandas as pd\n",
    "import numpy as np\n",
    "from torch import nn\n",
    "from torch.utils.data import DataLoader, TensorDataset\n",
    "from torchvision import datasets, transforms\n",
    "from matplotlib import pyplot as plt\n",
    "%matplotlib inline"
   ]
  },
  {
   "cell_type": "code",
   "execution_count": 2,
   "id": "9e421dfe",
   "metadata": {},
   "outputs": [],
   "source": [
    "mnist_train = datasets.FashionMNIST(\"..\\datasets\", train=True, download=True, transform=transforms.ToTensor())\n",
    "mnist_test = datasets.FashionMNIST(\"..\\datasets\", train=False, download=True, transform=transforms.ToTensor())"
   ]
  },
  {
   "cell_type": "code",
   "execution_count": 3,
   "id": "3be90197",
   "metadata": {},
   "outputs": [],
   "source": [
    "def dloaders(batch_size):\n",
    "    train_loader = DataLoader(mnist_train, batch_size=batch_size, shuffle=True)\n",
    "    test_loader = DataLoader(mnist_test, batch_size=batch_size, shuffle=False)\n",
    "    return train_loader, test_loader"
   ]
  },
  {
   "cell_type": "markdown",
   "id": "3c5784a3",
   "metadata": {},
   "source": [
    "- 28x28 = 784 pixel values\n",
    "- 10 classes\n",
    "- 256 hidden units"
   ]
  },
  {
   "cell_type": "markdown",
   "id": "b31f1973",
   "metadata": {},
   "source": [
    "## Model parameters"
   ]
  },
  {
   "cell_type": "code",
   "execution_count": 4,
   "id": "0a6a8b6d",
   "metadata": {},
   "outputs": [],
   "source": [
    "num_inputs = 784\n",
    "num_outputs = 10\n",
    "num_hiddens = 256\n",
    "\n",
    "W1 = nn.Parameter(torch.randn(num_inputs, num_hiddens, requires_grad=True) * 0.01)\n",
    "b1 = nn.Parameter(torch.zeros(num_hiddens, requires_grad=True))\n",
    "W2 = nn.Parameter(torch.randn(num_inputs, num_hiddens, requires_grad=True) * 0.01)\n",
    "b2 = nn.Parameter(torch.zeros(num_hiddens, requires_grad=True))\n",
    "\n",
    "params =  [W1, b1, W2, b2]"
   ]
  },
  {
   "cell_type": "markdown",
   "id": "95d68d86",
   "metadata": {},
   "source": [
    "## Activation function\n",
    "- ``torch.zeros_like`` Returns a tensor filled with the scalar value 0, with the same size as input"
   ]
  },
  {
   "cell_type": "code",
   "execution_count": 5,
   "id": "a1e4c8d2",
   "metadata": {},
   "outputs": [],
   "source": [
    "def relu(X):\n",
    "    a = torch.zeros_like(X)\n",
    "    return torch.max(X, a)"
   ]
  },
  {
   "cell_type": "markdown",
   "id": "b67259f3",
   "metadata": {},
   "source": [
    "## Model\n",
    "Because we are disregarding spatial structure, we reshape each two-dimensional image into a flat vector of length num_inputs."
   ]
  },
  {
   "cell_type": "code",
   "execution_count": 6,
   "id": "18963dfd",
   "metadata": {},
   "outputs": [],
   "source": [
    "def init_weights(m):\n",
    "    if isinstance(m, nn.Linear): # is model instance of nn.Linear?\n",
    "        nn.init.normal_(m.weight, std=0.01) # initialize weights with normal distribution\n",
    "        m.bias.data.fill_(0.01)"
   ]
  },
  {
   "cell_type": "code",
   "execution_count": 7,
   "id": "fa2a2434",
   "metadata": {},
   "outputs": [],
   "source": [
    "def init_model(in_features, out_features, output):\n",
    "    model = nn.Sequential(\n",
    "        nn.Flatten(), \n",
    "        nn.Linear(in_features, out_features),\n",
    "        nn.ReLU(),\n",
    "        nn.Linear(out_features, output)\n",
    "    )\n",
    "    model.apply(init_weights)\n",
    "    return model"
   ]
  },
  {
   "cell_type": "markdown",
   "id": "2f480770",
   "metadata": {},
   "source": [
    "## Loss function"
   ]
  },
  {
   "cell_type": "code",
   "execution_count": 8,
   "id": "213e9920",
   "metadata": {},
   "outputs": [],
   "source": [
    "loss = nn.CrossEntropyLoss()"
   ]
  },
  {
   "cell_type": "markdown",
   "id": "1b363869",
   "metadata": {},
   "source": [
    "## Training procedure"
   ]
  },
  {
   "cell_type": "code",
   "execution_count": 9,
   "id": "a614278b",
   "metadata": {},
   "outputs": [],
   "source": [
    "train_losses, test_losses = list(), list()\n",
    "train_accuracies, test_accuracies = list(), list()\n",
    "# these lists are just for plotting\n",
    "plt_train_losses, plt_test_losses = list(), list()\n",
    "plt_train_accuracies, plt_test_accuracies = list(), list() \n",
    "\n",
    "def fit(model, train_loader, epochs, learning_rate, loss_func=nn.CrossEntropyLoss(), opt_func=torch.optim.SGD):\n",
    "    \n",
    "    train_losses.clear()\n",
    "    test_losses.clear()\n",
    "    train_accuracies.clear()\n",
    "    test_accuracies.clear()\n",
    "    plt_train_losses.clear()\n",
    "    plt_test_losses.clear()\n",
    "    plt_train_accuracies.clear()\n",
    "    plt_test_accuracies.clear() \n",
    "    \n",
    "    loss = loss_func # computes softmax and then the cross entropy\n",
    "    optimizer = opt_func(model.parameters(), learning_rate) # objective function\n",
    "    \n",
    "    for epoch in range(epochs):\n",
    "        \n",
    "        \n",
    "        # --Training Phase--\n",
    "        \n",
    "        for i, (x_batch, y_batch) in enumerate(train_loader):\n",
    "\n",
    "            # 1. forward\n",
    "            y_hat = model(x_batch) # logits\n",
    "\n",
    "            # 2. compute objective function (softmax, cross entropy)\n",
    "            l = loss(y_hat, y_batch)\n",
    "\n",
    "            # 3. cleaning gradients\n",
    "            optimizer.zero_grad() # params.grad_zero_()\n",
    "\n",
    "            # 4. accumulate partial derivatives\n",
    "            l.backward() #params.grad.add_(dJ/dparams)\n",
    "\n",
    "            # 5. step in the opposite direction of the gradient\n",
    "            optimizer.step() # with torch.no_grad(): params = params - lr * params.grad\n",
    "            \n",
    "            # metrics\n",
    "            train_losses.append(l.item())\n",
    "            acc = accuracy(y_hat, y_batch)\n",
    "            train_accuracies.append(acc)\n",
    "        \n",
    "        # just for plotting\n",
    "        plt_train_accuracies.append(torch.tensor(train_accuracies).mean())\n",
    "        plt_train_losses.append(torch.tensor(train_losses).mean())\n",
    "        \n",
    "        print(f'Epoch {epoch + 1}', end=', ') \n",
    "        print(f'training loss = {torch.tensor(train_losses).mean():.2f}', end=', ')\n",
    "        print(f'training accuracy = {torch.tensor(train_accuracies).mean():.2f}')\n",
    "        \n",
    "        \n",
    "        # --Validation Phase--\n",
    "        \n",
    "        for i, (x_batch, y_batch) in enumerate(test_loader):\n",
    "            \n",
    "            with torch.no_grad():\n",
    "                y_hat = model(x_batch)\n",
    "            \n",
    "            l = loss(y_hat, y_batch)\n",
    "            \n",
    "            test_losses.append(l.item())\n",
    "            acc = accuracy(y_hat, y_batch)\n",
    "            test_accuracies.append(acc)\n",
    "        \n",
    "        # just for plotting\n",
    "        plt_test_accuracies.append(torch.tensor(test_accuracies).mean())\n",
    "        plt_test_losses.append(torch.tensor(test_losses).mean())\n",
    "        \n",
    "        print(f'Epoch {epoch + 1}', end=', ') \n",
    "        print(f'test loss = {torch.tensor(test_losses).mean():.2f}', end=', ')\n",
    "        print(f'test accuracy = {torch.tensor(test_accuracies).mean():.2f}')"
   ]
  },
  {
   "cell_type": "markdown",
   "id": "7edd610f",
   "metadata": {},
   "source": [
    "## Accuracy"
   ]
  },
  {
   "cell_type": "code",
   "execution_count": 10,
   "id": "1ef4b0c2",
   "metadata": {},
   "outputs": [],
   "source": [
    "def accuracy(y_hat, y):\n",
    "    _, predictions = torch.max(y_hat, dim=1) # single class with highest probability. simply retain indices\n",
    "    correct = (predictions == y).float()\n",
    "    accuracy = correct.sum() / len(predictions) # same as .mean()\n",
    "    accuracy = torch.round(accuracy * 100)\n",
    "    return accuracy"
   ]
  },
  {
   "cell_type": "markdown",
   "id": "4961655c",
   "metadata": {},
   "source": [
    "## Prediction"
   ]
  },
  {
   "cell_type": "code",
   "execution_count": 11,
   "id": "e3e57d06",
   "metadata": {},
   "outputs": [],
   "source": [
    "def predict(model, test_loader):\n",
    "    wrong = 0\n",
    "    correct = 0\n",
    "    for X, y in test_loader:\n",
    "        trues = y\n",
    "        preds = model(X).argmax(axis=1)\n",
    "        for true, pred in zip(trues, preds):\n",
    "            if true != pred:\n",
    "                wrong += 1\n",
    "            else:\n",
    "                correct += 1\n",
    "    print(f'Correct classified: {correct}')\n",
    "    print(f'Wrong classified: {wrong}')\n",
    "    print(f'Total Accuracy: {correct / (correct + wrong) * 100}')"
   ]
  },
  {
   "cell_type": "markdown",
   "id": "52004708",
   "metadata": {},
   "source": [
    "## Training"
   ]
  },
  {
   "cell_type": "code",
   "execution_count": 12,
   "id": "620870f5",
   "metadata": {},
   "outputs": [],
   "source": [
    "epochs = 10\n",
    "learning_rate = 0.1\n",
    "updater = torch.optim.SGD(params, lr=learning_rate)\n",
    "batch_size = 50"
   ]
  },
  {
   "cell_type": "code",
   "execution_count": 13,
   "id": "683a0010",
   "metadata": {},
   "outputs": [
    {
     "name": "stdout",
     "output_type": "stream",
     "text": [
      "Epoch 1, training loss = 0.65, training accuracy = 76.86\n",
      "Epoch 1, test loss = 0.48, test accuracy = 82.62\n",
      "Epoch 2, training loss = 0.54, training accuracy = 80.71\n",
      "Epoch 2, test loss = 0.46, test accuracy = 83.06\n",
      "Epoch 3, training loss = 0.49, training accuracy = 82.48\n",
      "Epoch 3, test loss = 0.45, test accuracy = 83.42\n",
      "Epoch 4, training loss = 0.46, training accuracy = 83.64\n",
      "Epoch 4, test loss = 0.43, test accuracy = 84.17\n",
      "Epoch 5, training loss = 0.43, training accuracy = 84.46\n",
      "Epoch 5, test loss = 0.42, test accuracy = 84.60\n",
      "Epoch 6, training loss = 0.41, training accuracy = 85.08\n",
      "Epoch 6, test loss = 0.41, test accuracy = 84.85\n",
      "Epoch 7, training loss = 0.40, training accuracy = 85.58\n",
      "Epoch 7, test loss = 0.41, test accuracy = 85.15\n",
      "Epoch 8, training loss = 0.39, training accuracy = 86.01\n",
      "Epoch 8, test loss = 0.40, test accuracy = 85.31\n",
      "Epoch 9, training loss = 0.38, training accuracy = 86.38\n",
      "Epoch 9, test loss = 0.40, test accuracy = 85.52\n",
      "Epoch 10, training loss = 0.37, training accuracy = 86.70\n",
      "Epoch 10, test loss = 0.39, test accuracy = 85.78\n"
     ]
    }
   ],
   "source": [
    "train_loader, test_loader = dloaders(batch_size=batch_size)\n",
    "model = init_model(in_features=28*28, out_features=256, output=10)\n",
    "fit(model, train_loader, epochs, learning_rate) # training"
   ]
  },
  {
   "cell_type": "code",
   "execution_count": 14,
   "id": "8f05e11f",
   "metadata": {},
   "outputs": [
    {
     "data": {
      "image/png": "[encoded data removed]",
      "text/plain": [
       "<Figure size 432x288 with 2 Axes>"
      ]
     },
     "metadata": {
      "needs_background": "light"
     },
     "output_type": "display_data"
    }
   ],
   "source": [
    "# Losses\n",
    "plt.subplot(1, 2, 1)\n",
    "plt.plot(plt_train_losses, label='train')\n",
    "plt.plot(plt_test_losses, label='test')\n",
    "plt.legend()\n",
    "plt.title('Training/Test Loss')\n",
    "\n",
    "# Accuracies\n",
    "plt.subplot(1, 2, 2)\n",
    "plt.plot(plt_train_accuracies, label='train')\n",
    "plt.plot(plt_test_accuracies, label='test')\n",
    "plt.legend()\n",
    "plt.title('Training/Test Accuracy')\n",
    "\n",
    "plt.show()"
   ]
  },
  {
   "cell_type": "code",
   "execution_count": 15,
   "id": "20535461",
   "metadata": {},
   "outputs": [
    {
     "name": "stdout",
     "output_type": "stream",
     "text": [
      "Correct classified: 8809\n",
      "Wrong classified: 1191\n",
      "Total Accuracy: 88.09\n"
     ]
    }
   ],
   "source": [
    "predict(model, test_loader)"
   ]
  },
  {
   "cell_type": "code",
   "execution_count": null,
   "id": "2fe01c6a",
   "metadata": {},
   "outputs": [],
   "source": []
  }
 ],
 "metadata": {
  "kernelspec": {
   "display_name": "Python 3 (ipykernel)",
   "language": "python",
   "name": "python3"
  },
  "language_info": {
   "codemirror_mode": {
    "name": "ipython",
    "version": 3
   },
   "file_extension": ".py",
   "mimetype": "text/x-python",
   "name": "python",
   "nbconvert_exporter": "python",
   "pygments_lexer": "ipython3",
   "version": "3.8.0"
  }
 },
 "nbformat": 4,
 "nbformat_minor": 5
}
