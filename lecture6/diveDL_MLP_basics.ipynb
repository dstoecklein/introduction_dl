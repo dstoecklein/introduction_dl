{
 "cells": [
  {
   "cell_type": "markdown",
   "id": "9a147788",
   "metadata": {},
   "source": [
    "# Multilayer Perceptron\n",
    "- Simplest Deep neural network\n",
    "- Multiple layers each fully connected (Every input influences every neuron)\n",
    "- Overcome linearity by introducing one or more hidden layers\n",
    "- Single hidden Layer: Number of Layers are 2 since we need to calculate hidden layer + output layer"
   ]
  },
  {
   "cell_type": "markdown",
   "id": "6d0d1ba7",
   "metadata": {},
   "source": [
    "## From linear to non-linear\n"
   ]
  }
 ],
 "metadata": {
  "kernelspec": {
   "display_name": "Python 3 (ipykernel)",
   "language": "python",
   "name": "python3"
  },
  "language_info": {
   "codemirror_mode": {
    "name": "ipython",
    "version": 3
   },
   "file_extension": ".py",
   "mimetype": "text/x-python",
   "name": "python",
   "nbconvert_exporter": "python",
   "pygments_lexer": "ipython3",
   "version": "3.8.0"
  }
 },
 "nbformat": 4,
 "nbformat_minor": 5
}
