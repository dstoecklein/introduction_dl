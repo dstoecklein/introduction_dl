{
 "cells": [
  {
   "cell_type": "code",
   "execution_count": 5,
   "id": "e9e3ea91",
   "metadata": {},
   "outputs": [],
   "source": [
    "import torch\n",
    "from torch import nn\n",
    "from torch.nn import functional as F"
   ]
  },
  {
   "cell_type": "code",
   "execution_count": 6,
   "id": "5b73d706",
   "metadata": {},
   "outputs": [],
   "source": [
    "class MLP(nn.Module):\n",
    "    # declare two fully connected layers\n",
    "    def __init__(self):\n",
    "        # Constructor of 'Module' to perform\n",
    "        super().__init__()\n",
    "        \n",
    "        self.hidden = nn.Linear(20, 256)\n",
    "        self.out = nn.Linear(256, 10)\n",
    "        \n",
    "    def forward(self, X):\n",
    "        # Here relu is a function from nn.functional\n",
    "        # X as input, calculate hidden with activation function applied, give output\n",
    "        return self.out(F.relu(self.hidden(X)))"
   ]
  },
  {
   "cell_type": "code",
   "execution_count": 7,
   "id": "9ed588e6",
   "metadata": {},
   "outputs": [],
   "source": [
    "X = torch.rand(2, 20)"
   ]
  },
  {
   "cell_type": "code",
   "execution_count": 11,
   "id": "b5c7fc2c",
   "metadata": {},
   "outputs": [
    {
     "data": {
      "text/plain": [
       "tensor([[ 5.7123e-02,  2.7672e-02,  1.2821e-01, -5.2614e-02, -1.3891e-01,\n",
       "         -2.3043e-01, -2.1319e-01,  1.1065e-01, -3.6065e-01,  1.9441e-02],\n",
       "        [ 7.5933e-02,  4.4776e-02, -4.2851e-02, -1.8542e-04, -1.6603e-01,\n",
       "         -1.0389e-01, -4.2922e-01, -2.3421e-02, -3.1653e-01,  1.5062e-01]],\n",
       "       grad_fn=<AddmmBackward0>)"
      ]
     },
     "execution_count": 11,
     "metadata": {},
     "output_type": "execute_result"
    }
   ],
   "source": [
    "net = MLP()\n",
    "net(X)"
   ]
  },
  {
   "cell_type": "code",
   "execution_count": null,
   "id": "eb2e520b",
   "metadata": {},
   "outputs": [],
   "source": []
  }
 ],
 "metadata": {
  "kernelspec": {
   "display_name": "Python 3 (ipykernel)",
   "language": "python",
   "name": "python3"
  },
  "language_info": {
   "codemirror_mode": {
    "name": "ipython",
    "version": 3
   },
   "file_extension": ".py",
   "mimetype": "text/x-python",
   "name": "python",
   "nbconvert_exporter": "python",
   "pygments_lexer": "ipython3",
   "version": "3.8.0"
  }
 },
 "nbformat": 4,
 "nbformat_minor": 5
}
