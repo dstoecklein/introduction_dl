{
 "cells": [
  {
   "cell_type": "markdown",
   "id": "8db805e4",
   "metadata": {},
   "source": [
    "# Problem\n",
    "- How to find out that we found pattern and not only memorized the data? We dont want the model to say \"that's Bob, he has dementia!\"\n",
    "- So we want to discover patterns that generalize"
   ]
  },
  {
   "cell_type": "markdown",
   "id": "2a12b64c",
   "metadata": {},
   "source": [
    "## Overfitting\n",
    "- The phenomenon of fitting our training data more closely than we fit the underlying distribution"
   ]
  },
  {
   "cell_type": "markdown",
   "id": "303d314f",
   "metadata": {},
   "source": [
    "# 1. Regularization Methods\n",
    "- Methods to combat overfitting"
   ]
  },
  {
   "cell_type": "markdown",
   "id": "fcc0b131",
   "metadata": {},
   "source": [
    "##  1.1 Training error and generalization error\n",
    "- We must differentiate between them\n",
    "- training error: error of our model as calculated on the training data\n",
    "- generalizaton error: expectation of our model's error if we apply it to an infinite stream of additional data (can never calculate exaclty)\n",
    "- we want a little gap between them"
   ]
  },
  {
   "cell_type": "markdown",
   "id": "742c0290",
   "metadata": {},
   "source": [
    "## 1.2 Weight decay (L2 regularization)\n",
    "- large weights can indicate overfitting\n",
    "- with weight decay the goal is to keep the weights small"
   ]
  },
  {
   "cell_type": "markdown",
   "id": "615e8ed6",
   "metadata": {},
   "source": [
    "## 1.3 Dropout\n",
    "- injecting gaussian noise to enforce smoothness during forward propagation\n",
    "- While training, zeroing out some nodes in each layer before calculating the subsequent layer\n",
    "- dropoutlayer which drop out neurons"
   ]
  },
  {
   "cell_type": "markdown",
   "id": "0f6767cb",
   "metadata": {},
   "source": [
    "## Summary\n",
    "- Since the generalization error cannot be estimated based on the training error, simply minimizing the training error will not necessarily mean a reduction in the generalization error. Machine learning models need to be careful to safeguard against overfitting so as to minimize the generalization error.\n",
    "- A validation set can be used for model selection, provided that it is not used too liberally.\n",
    "- Underfitting means that a model is not able to reduce the training error. When training error is much lower than validation error, there is overfitting.\n",
    "- We should choose an appropriately complex model and avoid using insufficient training samples."
   ]
  }
 ],
 "metadata": {
  "kernelspec": {
   "display_name": "Python 3 (ipykernel)",
   "language": "python",
   "name": "python3"
  },
  "language_info": {
   "codemirror_mode": {
    "name": "ipython",
    "version": 3
   },
   "file_extension": ".py",
   "mimetype": "text/x-python",
   "name": "python",
   "nbconvert_exporter": "python",
   "pygments_lexer": "ipython3",
   "version": "3.8.0"
  }
 },
 "nbformat": 4,
 "nbformat_minor": 5
}
