{
 "cells": [
  {
   "cell_type": "markdown",
   "id": "4200b0f2",
   "metadata": {},
   "source": [
    "## Authors:\n",
    "#### Daniel Stöckein (5018039), Alexander Triol (5018451)"
   ]
  },
  {
   "cell_type": "code",
   "execution_count": 1,
   "id": "3401ab84",
   "metadata": {},
   "outputs": [],
   "source": [
    "import torch\n",
    "import pandas as pd\n",
    "import numpy as np\n",
    "from torch import nn\n",
    "from torch.utils.data import DataLoader, TensorDataset\n",
    "from torchvision import datasets, transforms\n",
    "from matplotlib import pyplot as plt\n",
    "%matplotlib inline"
   ]
  },
  {
   "cell_type": "markdown",
   "id": "f050aa62",
   "metadata": {},
   "source": [
    "## 1. Load Data & Data understanding\n",
    "- get an understanding of the data"
   ]
  },
  {
   "cell_type": "code",
   "execution_count": 2,
   "id": "a752b661",
   "metadata": {
    "scrolled": true
   },
   "outputs": [],
   "source": [
    "mnist_train = datasets.FashionMNIST(\"..\\datasets\", train=True, download=True, transform=transforms.ToTensor())\n",
    "mnist_test = datasets.FashionMNIST(\"..\\datasets\", train=False, download=True, transform=transforms.ToTensor())"
   ]
  },
  {
   "cell_type": "code",
   "execution_count": 3,
   "id": "c19d9b9c",
   "metadata": {},
   "outputs": [
    {
     "name": "stdout",
     "output_type": "stream",
     "text": [
      "60000 10000\n"
     ]
    }
   ],
   "source": [
    "print(len(mnist_train), len(mnist_test))"
   ]
  },
  {
   "cell_type": "code",
   "execution_count": 18,
   "id": "7fb92d23",
   "metadata": {},
   "outputs": [
    {
     "data": {
      "text/plain": [
       "(tensor([[[0.0000, 0.0000, 0.0000, 0.0000, 0.0000, 0.0000, 0.0000, 0.0000,\n",
       "           0.0000, 0.0000, 0.0000, 0.0000, 0.0000, 0.0000, 0.0000, 0.0000,\n",
       "           0.0000, 0.0000, 0.0000, 0.0000, 0.0000, 0.0000, 0.0000, 0.0000,\n",
       "           0.0000, 0.0000, 0.0000, 0.0000],\n",
       "          [0.0000, 0.0000, 0.0000, 0.0000, 0.0000, 0.0000, 0.0000, 0.0000,\n",
       "           0.0000, 0.0000, 0.0000, 0.0000, 0.0000, 0.0000, 0.0000, 0.0000,\n",
       "           0.0000, 0.0000, 0.0000, 0.0000, 0.0000, 0.0000, 0.0000, 0.0000,\n",
       "           0.0000, 0.0000, 0.0000, 0.0000],\n",
       "          [0.0000, 0.0000, 0.0000, 0.0000, 0.0000, 0.0000, 0.0000, 0.0000,\n",
       "           0.0000, 0.0000, 0.0000, 0.0000, 0.0000, 0.0000, 0.0000, 0.0000,\n",
       "           0.0000, 0.0000, 0.0000, 0.0000, 0.0000, 0.0000, 0.0000, 0.0000,\n",
       "           0.0000, 0.0000, 0.0000, 0.0000],\n",
       "          [0.0000, 0.0000, 0.0000, 0.0000, 0.0000, 0.0000, 0.0000, 0.0000,\n",
       "           0.0000, 0.0000, 0.0000, 0.0000, 0.0039, 0.0000, 0.0000, 0.0510,\n",
       "           0.2863, 0.0000, 0.0000, 0.0039, 0.0157, 0.0000, 0.0000, 0.0000,\n",
       "           0.0000, 0.0039, 0.0039, 0.0000],\n",
       "          [0.0000, 0.0000, 0.0000, 0.0000, 0.0000, 0.0000, 0.0000, 0.0000,\n",
       "           0.0000, 0.0000, 0.0000, 0.0000, 0.0118, 0.0000, 0.1412, 0.5333,\n",
       "           0.4980, 0.2431, 0.2118, 0.0000, 0.0000, 0.0000, 0.0039, 0.0118,\n",
       "           0.0157, 0.0000, 0.0000, 0.0118],\n",
       "          [0.0000, 0.0000, 0.0000, 0.0000, 0.0000, 0.0000, 0.0000, 0.0000,\n",
       "           0.0000, 0.0000, 0.0000, 0.0000, 0.0235, 0.0000, 0.4000, 0.8000,\n",
       "           0.6902, 0.5255, 0.5647, 0.4824, 0.0902, 0.0000, 0.0000, 0.0000,\n",
       "           0.0000, 0.0471, 0.0392, 0.0000],\n",
       "          [0.0000, 0.0000, 0.0000, 0.0000, 0.0000, 0.0000, 0.0000, 0.0000,\n",
       "           0.0000, 0.0000, 0.0000, 0.0000, 0.0000, 0.0000, 0.6078, 0.9255,\n",
       "           0.8118, 0.6980, 0.4196, 0.6118, 0.6314, 0.4275, 0.2510, 0.0902,\n",
       "           0.3020, 0.5098, 0.2824, 0.0588],\n",
       "          [0.0000, 0.0000, 0.0000, 0.0000, 0.0000, 0.0000, 0.0000, 0.0000,\n",
       "           0.0000, 0.0000, 0.0000, 0.0039, 0.0000, 0.2706, 0.8118, 0.8745,\n",
       "           0.8549, 0.8471, 0.8471, 0.6392, 0.4980, 0.4745, 0.4784, 0.5725,\n",
       "           0.5529, 0.3451, 0.6745, 0.2588],\n",
       "          [0.0000, 0.0000, 0.0000, 0.0000, 0.0000, 0.0000, 0.0000, 0.0000,\n",
       "           0.0000, 0.0039, 0.0039, 0.0039, 0.0000, 0.7843, 0.9098, 0.9098,\n",
       "           0.9137, 0.8980, 0.8745, 0.8745, 0.8431, 0.8353, 0.6431, 0.4980,\n",
       "           0.4824, 0.7686, 0.8980, 0.0000],\n",
       "          [0.0000, 0.0000, 0.0000, 0.0000, 0.0000, 0.0000, 0.0000, 0.0000,\n",
       "           0.0000, 0.0000, 0.0000, 0.0000, 0.0000, 0.7176, 0.8824, 0.8471,\n",
       "           0.8745, 0.8941, 0.9216, 0.8902, 0.8784, 0.8706, 0.8784, 0.8667,\n",
       "           0.8745, 0.9608, 0.6784, 0.0000],\n",
       "          [0.0000, 0.0000, 0.0000, 0.0000, 0.0000, 0.0000, 0.0000, 0.0000,\n",
       "           0.0000, 0.0000, 0.0000, 0.0000, 0.0000, 0.7569, 0.8941, 0.8549,\n",
       "           0.8353, 0.7765, 0.7059, 0.8314, 0.8235, 0.8275, 0.8353, 0.8745,\n",
       "           0.8627, 0.9529, 0.7922, 0.0000],\n",
       "          [0.0000, 0.0000, 0.0000, 0.0000, 0.0000, 0.0000, 0.0000, 0.0000,\n",
       "           0.0000, 0.0039, 0.0118, 0.0000, 0.0471, 0.8588, 0.8627, 0.8314,\n",
       "           0.8549, 0.7529, 0.6627, 0.8902, 0.8157, 0.8549, 0.8784, 0.8314,\n",
       "           0.8863, 0.7725, 0.8196, 0.2039],\n",
       "          [0.0000, 0.0000, 0.0000, 0.0000, 0.0000, 0.0000, 0.0000, 0.0000,\n",
       "           0.0000, 0.0000, 0.0235, 0.0000, 0.3882, 0.9569, 0.8706, 0.8627,\n",
       "           0.8549, 0.7961, 0.7765, 0.8667, 0.8431, 0.8353, 0.8706, 0.8627,\n",
       "           0.9608, 0.4667, 0.6549, 0.2196],\n",
       "          [0.0000, 0.0000, 0.0000, 0.0000, 0.0000, 0.0000, 0.0000, 0.0000,\n",
       "           0.0000, 0.0157, 0.0000, 0.0000, 0.2157, 0.9255, 0.8941, 0.9020,\n",
       "           0.8941, 0.9412, 0.9098, 0.8353, 0.8549, 0.8745, 0.9176, 0.8510,\n",
       "           0.8510, 0.8196, 0.3608, 0.0000],\n",
       "          [0.0000, 0.0000, 0.0039, 0.0157, 0.0235, 0.0275, 0.0078, 0.0000,\n",
       "           0.0000, 0.0000, 0.0000, 0.0000, 0.9294, 0.8863, 0.8510, 0.8745,\n",
       "           0.8706, 0.8588, 0.8706, 0.8667, 0.8471, 0.8745, 0.8980, 0.8431,\n",
       "           0.8549, 1.0000, 0.3020, 0.0000],\n",
       "          [0.0000, 0.0118, 0.0000, 0.0000, 0.0000, 0.0000, 0.0000, 0.0000,\n",
       "           0.0000, 0.2431, 0.5686, 0.8000, 0.8941, 0.8118, 0.8353, 0.8667,\n",
       "           0.8549, 0.8157, 0.8275, 0.8549, 0.8784, 0.8745, 0.8588, 0.8431,\n",
       "           0.8784, 0.9569, 0.6235, 0.0000],\n",
       "          [0.0000, 0.0000, 0.0000, 0.0000, 0.0706, 0.1725, 0.3216, 0.4196,\n",
       "           0.7412, 0.8941, 0.8627, 0.8706, 0.8510, 0.8863, 0.7843, 0.8039,\n",
       "           0.8275, 0.9020, 0.8784, 0.9176, 0.6902, 0.7373, 0.9804, 0.9725,\n",
       "           0.9137, 0.9333, 0.8431, 0.0000],\n",
       "          [0.0000, 0.2235, 0.7333, 0.8157, 0.8784, 0.8667, 0.8784, 0.8157,\n",
       "           0.8000, 0.8392, 0.8157, 0.8196, 0.7843, 0.6235, 0.9608, 0.7569,\n",
       "           0.8078, 0.8745, 1.0000, 1.0000, 0.8667, 0.9176, 0.8667, 0.8275,\n",
       "           0.8627, 0.9098, 0.9647, 0.0000],\n",
       "          [0.0118, 0.7922, 0.8941, 0.8784, 0.8667, 0.8275, 0.8275, 0.8392,\n",
       "           0.8039, 0.8039, 0.8039, 0.8627, 0.9412, 0.3137, 0.5882, 1.0000,\n",
       "           0.8980, 0.8667, 0.7373, 0.6039, 0.7490, 0.8235, 0.8000, 0.8196,\n",
       "           0.8706, 0.8941, 0.8824, 0.0000],\n",
       "          [0.3843, 0.9137, 0.7765, 0.8235, 0.8706, 0.8980, 0.8980, 0.9176,\n",
       "           0.9765, 0.8627, 0.7608, 0.8431, 0.8510, 0.9451, 0.2549, 0.2863,\n",
       "           0.4157, 0.4588, 0.6588, 0.8588, 0.8667, 0.8431, 0.8510, 0.8745,\n",
       "           0.8745, 0.8784, 0.8980, 0.1137],\n",
       "          [0.2941, 0.8000, 0.8314, 0.8000, 0.7569, 0.8039, 0.8275, 0.8824,\n",
       "           0.8471, 0.7255, 0.7725, 0.8078, 0.7765, 0.8353, 0.9412, 0.7647,\n",
       "           0.8902, 0.9608, 0.9373, 0.8745, 0.8549, 0.8314, 0.8196, 0.8706,\n",
       "           0.8627, 0.8667, 0.9020, 0.2627],\n",
       "          [0.1882, 0.7961, 0.7176, 0.7608, 0.8353, 0.7725, 0.7255, 0.7451,\n",
       "           0.7608, 0.7529, 0.7922, 0.8392, 0.8588, 0.8667, 0.8627, 0.9255,\n",
       "           0.8824, 0.8471, 0.7804, 0.8078, 0.7294, 0.7098, 0.6941, 0.6745,\n",
       "           0.7098, 0.8039, 0.8078, 0.4510],\n",
       "          [0.0000, 0.4784, 0.8588, 0.7569, 0.7020, 0.6706, 0.7176, 0.7686,\n",
       "           0.8000, 0.8235, 0.8353, 0.8118, 0.8275, 0.8235, 0.7843, 0.7686,\n",
       "           0.7608, 0.7490, 0.7647, 0.7490, 0.7765, 0.7529, 0.6902, 0.6118,\n",
       "           0.6549, 0.6941, 0.8235, 0.3608],\n",
       "          [0.0000, 0.0000, 0.2902, 0.7412, 0.8314, 0.7490, 0.6863, 0.6745,\n",
       "           0.6863, 0.7098, 0.7255, 0.7373, 0.7412, 0.7373, 0.7569, 0.7765,\n",
       "           0.8000, 0.8196, 0.8235, 0.8235, 0.8275, 0.7373, 0.7373, 0.7608,\n",
       "           0.7529, 0.8471, 0.6667, 0.0000],\n",
       "          [0.0078, 0.0000, 0.0000, 0.0000, 0.2588, 0.7843, 0.8706, 0.9294,\n",
       "           0.9373, 0.9490, 0.9647, 0.9529, 0.9569, 0.8667, 0.8627, 0.7569,\n",
       "           0.7490, 0.7020, 0.7137, 0.7137, 0.7098, 0.6902, 0.6510, 0.6588,\n",
       "           0.3882, 0.2275, 0.0000, 0.0000],\n",
       "          [0.0000, 0.0000, 0.0000, 0.0000, 0.0000, 0.0000, 0.0000, 0.1569,\n",
       "           0.2392, 0.1725, 0.2824, 0.1608, 0.1373, 0.0000, 0.0000, 0.0000,\n",
       "           0.0000, 0.0000, 0.0000, 0.0000, 0.0000, 0.0000, 0.0000, 0.0000,\n",
       "           0.0000, 0.0000, 0.0000, 0.0000],\n",
       "          [0.0000, 0.0000, 0.0000, 0.0000, 0.0000, 0.0000, 0.0000, 0.0000,\n",
       "           0.0000, 0.0000, 0.0000, 0.0000, 0.0000, 0.0000, 0.0000, 0.0000,\n",
       "           0.0000, 0.0000, 0.0000, 0.0000, 0.0000, 0.0000, 0.0000, 0.0000,\n",
       "           0.0000, 0.0000, 0.0000, 0.0000],\n",
       "          [0.0000, 0.0000, 0.0000, 0.0000, 0.0000, 0.0000, 0.0000, 0.0000,\n",
       "           0.0000, 0.0000, 0.0000, 0.0000, 0.0000, 0.0000, 0.0000, 0.0000,\n",
       "           0.0000, 0.0000, 0.0000, 0.0000, 0.0000, 0.0000, 0.0000, 0.0000,\n",
       "           0.0000, 0.0000, 0.0000, 0.0000]]]),\n",
       " 9)"
      ]
     },
     "execution_count": 18,
     "metadata": {},
     "output_type": "execute_result"
    }
   ],
   "source": [
    "mnist_train[0]"
   ]
  },
  {
   "cell_type": "code",
   "execution_count": 17,
   "id": "b4f7fb29",
   "metadata": {
    "scrolled": true
   },
   "outputs": [
    {
     "name": "stdout",
     "output_type": "stream",
     "text": [
      "torch.Size([1, 28, 28])\n"
     ]
    }
   ],
   "source": [
    "print(mnist_train[1][0].shape)"
   ]
  },
  {
   "cell_type": "markdown",
   "id": "c79319a4",
   "metadata": {},
   "source": [
    "### 1.1 Plotting some images"
   ]
  },
  {
   "cell_type": "code",
   "execution_count": 5,
   "id": "97cf24d5",
   "metadata": {},
   "outputs": [
    {
     "data": {
      "text/plain": [
       "<Figure size 432x288 with 0 Axes>"
      ]
     },
     "metadata": {},
     "output_type": "display_data"
    },
    {
     "data": {
      "image/png": "[encoded data removed]",
      "text/plain": [
       "<Figure size 432x288 with 8 Axes>"
      ]
     },
     "metadata": {
      "needs_background": "light"
     },
     "output_type": "display_data"
    }
   ],
   "source": [
    "plt.figure()\n",
    "f, axarr = plt.subplots(1,8)\n",
    "for i in range(8):\n",
    "    image, label = mnist_train[i]\n",
    "    axarr[i].imshow(image[0])\n",
    "    axarr[i].set_title(label)"
   ]
  },
  {
   "cell_type": "markdown",
   "id": "953cc2ab",
   "metadata": {},
   "source": [
    "### 1.2 Dataset description\n",
    "- training set: 60.000 images\n",
    "- test set: 10.000 images\n",
    "- number of channels: 1 (greyscale)\n",
    "- height: 28px\n",
    "- width: 28px\n",
    "- features: 28x28px = 784\n",
    "- outputs: 10 categories\n",
    "\n",
    "https://github.com/zalandoresearch/fashion-mnist"
   ]
  },
  {
   "cell_type": "markdown",
   "id": "2997ba3f",
   "metadata": {},
   "source": [
    "## 2. Preparing DataLoaders to iterate over batches"
   ]
  },
  {
   "cell_type": "code",
   "execution_count": 6,
   "id": "8a5673f8",
   "metadata": {},
   "outputs": [],
   "source": [
    "def dloaders(batch_size):\n",
    "    train_loader = DataLoader(mnist_train, batch_size=batch_size, shuffle=True)\n",
    "    test_loader = DataLoader(mnist_test, batch_size=batch_size, shuffle=False)\n",
    "    return train_loader, test_loader"
   ]
  },
  {
   "cell_type": "markdown",
   "id": "dda262c9",
   "metadata": {},
   "source": [
    "## 3. Model definition\n",
    "$$\\mathbf{\\hat{o}} = \\mathbf{x}^T \\mathbf{W} + \\mathbf{b}^T$$"
   ]
  },
  {
   "cell_type": "markdown",
   "id": "3bb77721",
   "metadata": {},
   "source": [
    "### 3.1. initialize model parameters\n",
    "init weights in ``nn.Sequential``: https://stackoverflow.com/questions/49433936/how-to-initialize-weights-in-pytorch"
   ]
  },
  {
   "cell_type": "code",
   "execution_count": 7,
   "id": "f0fb0fb7",
   "metadata": {},
   "outputs": [],
   "source": [
    "def init_weights(m):\n",
    "    if isinstance(m, nn.Linear): # is model instance of nn.Linear?\n",
    "        nn.init.normal_(m.weight, std=0.01) # initialize weights with normal distribution\n",
    "        m.bias.data.fill_(0.01)"
   ]
  },
  {
   "cell_type": "markdown",
   "id": "ea2a198b",
   "metadata": {},
   "source": [
    "### 3.2. initialize model\n",
    "`torch.nn.Sequential(*args)` A sequential container. Modules will be added to it in the order they are passed in the constructor. Alternatively, an OrderedDict of modules can be passed in. The forward() method of Sequential accepts any input and forwards it to the first module it contains. It then “chains” outputs to inputs sequentially for each subsequent module, finally returning the output of the last module. https://pytorch.org/docs/stable/generated/torch.nn.Sequential.html\n",
    "\n",
    "`torch.nn.Flatten(start_dim=1, end_dim=- 1)` Flattening a tensor means to remove all of the dimensions except for one. Flattens a contiguous range of dims into a tensor. For use with `Sequential`. https://pytorch.org/docs/stable/generated/torch.nn.Flatten.html\n",
    "\n",
    "`torch.nn.Linear(in_features, out_features, bias=True, device=None, dtype=None)` Applies a linear transformation to the incoming data. https://pytorch.org/docs/stable/generated/torch.nn.Linear.html"
   ]
  },
  {
   "cell_type": "code",
   "execution_count": 8,
   "id": "73710079",
   "metadata": {},
   "outputs": [],
   "source": [
    "def init_model(in_features, out_features):\n",
    "    model = nn.Sequential(nn.Flatten(), nn.Linear(in_features, out_features))\n",
    "    model.apply(init_weights)\n",
    "    return model"
   ]
  },
  {
   "cell_type": "markdown",
   "id": "b5360a97",
   "metadata": {},
   "source": [
    "## 4. Loss function (Cross Entropy Loss)\n",
    "`torch.nn.CrossEntropyLoss(weight=None, size_average=None, ignore_index=- 100, reduce=None, reduction='mean',...)`"
   ]
  },
  {
   "cell_type": "markdown",
   "id": "80574522",
   "metadata": {},
   "source": [
    "## 5. Optimization (SGD)\n",
    "`torch.optim.SGD(params, lr=<required parameter>, momentum=0, dampening=0, weight_decay=0, nesterov=False)`"
   ]
  },
  {
   "cell_type": "markdown",
   "id": "2cf30402",
   "metadata": {},
   "source": [
    "## 6. Training procedure"
   ]
  },
  {
   "cell_type": "code",
   "execution_count": 9,
   "id": "a82c6965",
   "metadata": {},
   "outputs": [],
   "source": [
    "train_losses, test_losses = list(), list()\n",
    "train_accuracies, test_accuracies = list(), list()\n",
    "# these lists are just for plotting\n",
    "plt_train_losses, plt_test_losses = list(), list()\n",
    "plt_train_accuracies, plt_test_accuracies = list(), list() \n",
    "\n",
    "def fit(model, train_loader, epochs, learning_rate, loss_func=nn.CrossEntropyLoss(), opt_func=torch.optim.SGD):\n",
    "    \n",
    "    train_losses.clear()\n",
    "    test_losses.clear()\n",
    "    train_accuracies.clear()\n",
    "    test_accuracies.clear()\n",
    "    plt_train_losses.clear()\n",
    "    plt_test_losses.clear()\n",
    "    plt_train_accuracies.clear()\n",
    "    plt_test_accuracies.clear() \n",
    "    \n",
    "    loss = loss_func # computes softmax and then the cross entropy\n",
    "    optimizer = opt_func(model.parameters(), learning_rate) # objective function\n",
    "    \n",
    "    for epoch in range(epochs):\n",
    "        \n",
    "        \n",
    "        # --Training Phase--\n",
    "        \n",
    "        for i, (x_batch, y_batch) in enumerate(train_loader):\n",
    "\n",
    "            # 1. forward\n",
    "            y_hat = model(x_batch) # logits\n",
    "\n",
    "            # 2. compute objective function (softmax, cross entropy)\n",
    "            l = loss(y_hat, y_batch)\n",
    "\n",
    "            # 3. cleaning gradients\n",
    "            optimizer.zero_grad() # params.grad_zero_()\n",
    "\n",
    "            # 4. accumulate partial derivatives\n",
    "            l.backward() #params.grad.add_(dJ/dparams)\n",
    "\n",
    "            # 5. step in the opposite direction of the gradient\n",
    "            optimizer.step() # with torch.no_grad(): params = params - lr * params.grad\n",
    "            \n",
    "            # metrics\n",
    "            train_losses.append(l.item())\n",
    "            acc = accuracy(y_hat, y_batch)\n",
    "            train_accuracies.append(acc)\n",
    "        \n",
    "        # just for plotting\n",
    "        plt_train_accuracies.append(torch.tensor(train_accuracies).mean())\n",
    "        plt_train_losses.append(torch.tensor(train_losses).mean())\n",
    "        \n",
    "        print(f'Epoch {epoch + 1}', end=', ') \n",
    "        print(f'training loss = {torch.tensor(train_losses).mean():.2f}', end=', ')\n",
    "        print(f'training accuracy = {torch.tensor(train_accuracies).mean():.2f}')\n",
    "        \n",
    "        \n",
    "        # --Validation Phase--\n",
    "        \n",
    "        for i, (x_batch, y_batch) in enumerate(test_loader):\n",
    "            \n",
    "            with torch.no_grad():\n",
    "                y_hat = model(x_batch)\n",
    "            \n",
    "            l = loss(y_hat, y_batch)\n",
    "            \n",
    "            test_losses.append(l.item())\n",
    "            acc = accuracy(y_hat, y_batch)\n",
    "            test_accuracies.append(acc)\n",
    "        \n",
    "        # just for plotting\n",
    "        plt_test_accuracies.append(torch.tensor(test_accuracies).mean())\n",
    "        plt_test_losses.append(torch.tensor(test_losses).mean())\n",
    "        \n",
    "        print(f'Epoch {epoch + 1}', end=', ') \n",
    "        print(f'test loss = {torch.tensor(test_losses).mean():.2f}', end=', ')\n",
    "        print(f'test accuracy = {torch.tensor(test_accuracies).mean():.2f}')"
   ]
  },
  {
   "cell_type": "markdown",
   "id": "5d51962c",
   "metadata": {},
   "source": [
    "## 7. Accuracy\n",
    "Correct predicted samples / total\n",
    "$$ \\frac{\\hat{\\mathbf{y}}==y}{\\mathbf{n}} $$"
   ]
  },
  {
   "cell_type": "code",
   "execution_count": 10,
   "id": "87d4e119",
   "metadata": {},
   "outputs": [],
   "source": [
    "def accuracy(y_hat, y):\n",
    "    _, predictions = torch.max(y_hat, dim=1) # single class with highest probability. simply retain indices\n",
    "    correct = (predictions == y).float()\n",
    "    accuracy = correct.sum() / len(predictions) # same as .mean()\n",
    "    accuracy = torch.round(accuracy * 100)\n",
    "    return accuracy"
   ]
  },
  {
   "cell_type": "markdown",
   "id": "37834cd3",
   "metadata": {},
   "source": [
    "Method to compare actual labels with given labels of test set. Simply prints the amount of correct & wrong classified"
   ]
  },
  {
   "cell_type": "code",
   "execution_count": 11,
   "id": "bca9e444",
   "metadata": {},
   "outputs": [],
   "source": [
    "def predict(model, test_loader):\n",
    "    wrong = 0\n",
    "    correct = 0\n",
    "    for X, y in test_loader:\n",
    "        trues = y\n",
    "        preds = model(X).argmax(axis=1)\n",
    "        for true, pred in zip(trues, preds):\n",
    "            if true != pred:\n",
    "                wrong += 1\n",
    "            else:\n",
    "                correct += 1\n",
    "    print(f'Correct classified: {correct}')\n",
    "    print(f'Wrong classified: {wrong}')\n",
    "    print(f'Total Accuracy: {correct / (correct + wrong) * 100}')"
   ]
  },
  {
   "cell_type": "markdown",
   "id": "33e6af30",
   "metadata": {},
   "source": [
    "## 8. Playground"
   ]
  },
  {
   "cell_type": "markdown",
   "id": "d8c62d6f",
   "metadata": {},
   "source": [
    "### 1. Attempt"
   ]
  },
  {
   "cell_type": "code",
   "execution_count": 12,
   "id": "e4fe73c4",
   "metadata": {},
   "outputs": [],
   "source": [
    "# hyperparameters\n",
    "batch_size = 50\n",
    "epochs = 10\n",
    "learning_rate = 0.01"
   ]
  },
  {
   "cell_type": "code",
   "execution_count": 13,
   "id": "83b21b95",
   "metadata": {},
   "outputs": [
    {
     "name": "stdout",
     "output_type": "stream",
     "text": [
      "Epoch 1, training loss = 0.91, training accuracy = 72.50\n",
      "Epoch 1, test loss = 0.71, test accuracy = 76.82\n",
      "Epoch 2, training loss = 0.77, training accuracy = 76.13\n",
      "Epoch 2, test loss = 0.66, test accuracy = 78.27\n",
      "Epoch 3, training loss = 0.71, training accuracy = 77.84\n",
      "Epoch 3, test loss = 0.64, test accuracy = 79.03\n",
      "Epoch 4, training loss = 0.67, training accuracy = 78.93\n",
      "Epoch 4, test loss = 0.62, test accuracy = 79.63\n",
      "Epoch 5, training loss = 0.64, training accuracy = 79.69\n",
      "Epoch 5, test loss = 0.60, test accuracy = 80.04\n",
      "Epoch 6, training loss = 0.62, training accuracy = 80.26\n",
      "Epoch 6, test loss = 0.59, test accuracy = 80.39\n",
      "Epoch 7, training loss = 0.60, training accuracy = 80.70\n",
      "Epoch 7, test loss = 0.58, test accuracy = 80.68\n",
      "Epoch 8, training loss = 0.59, training accuracy = 81.08\n",
      "Epoch 8, test loss = 0.57, test accuracy = 80.91\n",
      "Epoch 9, training loss = 0.58, training accuracy = 81.38\n",
      "Epoch 9, test loss = 0.57, test accuracy = 81.11\n",
      "Epoch 10, training loss = 0.57, training accuracy = 81.66\n",
      "Epoch 10, test loss = 0.56, test accuracy = 81.27\n"
     ]
    }
   ],
   "source": [
    "train_loader, test_loader = dloaders(batch_size=batch_size) # data iters\n",
    "model = init_model(in_features=28*28, out_features=10) # model initialization\n",
    "fit(model, train_loader, epochs, learning_rate) # training"
   ]
  },
  {
   "cell_type": "code",
   "execution_count": 264,
   "id": "30289500",
   "metadata": {
    "scrolled": true
   },
   "outputs": [
    {
     "data": {
      "image/png": "[encoded data removed]",
      "text/plain": [
       "<Figure size 432x288 with 2 Axes>"
      ]
     },
     "metadata": {
      "needs_background": "light"
     },
     "output_type": "display_data"
    }
   ],
   "source": [
    "# Losses\n",
    "plt.subplot(1, 2, 1)\n",
    "plt.plot(plt_train_losses, label='train')\n",
    "plt.plot(plt_test_losses, label='test')\n",
    "plt.legend()\n",
    "plt.title('Training/Test Loss')\n",
    "\n",
    "# Accuracies\n",
    "plt.subplot(1, 2, 2)\n",
    "plt.plot(plt_train_accuracies, label='train')\n",
    "plt.plot(plt_test_accuracies, label='test')\n",
    "plt.legend()\n",
    "plt.title('Training/Test Accuracy')\n",
    "\n",
    "plt.show()"
   ]
  },
  {
   "cell_type": "code",
   "execution_count": 265,
   "id": "453e64b3",
   "metadata": {},
   "outputs": [
    {
     "name": "stdout",
     "output_type": "stream",
     "text": [
      "Correct classified: 8288\n",
      "Wrong classified: 1712\n",
      "Total Accuracy: 82.88\n"
     ]
    }
   ],
   "source": [
    "predict(model, test_loader)"
   ]
  },
  {
   "cell_type": "markdown",
   "id": "c0477067",
   "metadata": {},
   "source": [
    "### Summary 1. Attempt\n",
    "With a learning rate of 0.01, 10 epochs and a batch size of 50 our model was able to reach a total accuracy of around 83% - meaning around 8300 correct classified images on the test data."
   ]
  },
  {
   "cell_type": "markdown",
   "id": "5959f331",
   "metadata": {},
   "source": [
    "## Permute Data"
   ]
  },
  {
   "cell_type": "code",
   "execution_count": 14,
   "id": "8e3d8947",
   "metadata": {},
   "outputs": [],
   "source": [
    "idx_permute = torch.from_numpy(np.random.permutation(784)).long()\n",
    "transform_permute = transforms.Compose([transforms.ToTensor(), transforms.Lambda(lambda x: x.view(-1)[idx_permute].view(1, 28, 28) )])"
   ]
  },
  {
   "cell_type": "markdown",
   "id": "d20f7c4f",
   "metadata": {},
   "source": [
    "## 2. Attempt"
   ]
  },
  {
   "cell_type": "code",
   "execution_count": 266,
   "id": "dc91274b",
   "metadata": {},
   "outputs": [],
   "source": [
    "# hyperparameters\n",
    "batch_size = 256\n",
    "epochs = 30\n",
    "learning_rate = 0.2"
   ]
  },
  {
   "cell_type": "code",
   "execution_count": 267,
   "id": "37db7ed1",
   "metadata": {},
   "outputs": [
    {
     "name": "stdout",
     "output_type": "stream",
     "text": [
      "Epoch 1, training loss = 0.79, training accuracy = 74.49\n",
      "Epoch 1, test loss = 0.62, test accuracy = 78.88\n",
      "Epoch 2, training loss = 0.68, training accuracy = 77.79\n",
      "Epoch 2, test loss = 0.73, test accuracy = 77.96\n",
      "Epoch 3, training loss = 0.63, training accuracy = 79.31\n",
      "Epoch 3, test loss = 0.68, test accuracy = 78.86\n",
      "Epoch 4, training loss = 0.59, training accuracy = 80.31\n",
      "Epoch 4, test loss = 0.64, test accuracy = 79.59\n",
      "Epoch 5, training loss = 0.57, training accuracy = 81.03\n",
      "Epoch 5, test loss = 0.61, test accuracy = 80.19\n",
      "Epoch 6, training loss = 0.55, training accuracy = 81.51\n",
      "Epoch 6, test loss = 0.59, test accuracy = 80.45\n",
      "Epoch 7, training loss = 0.54, training accuracy = 81.89\n",
      "Epoch 7, test loss = 0.60, test accuracy = 80.01\n",
      "Epoch 8, training loss = 0.53, training accuracy = 82.22\n",
      "Epoch 8, test loss = 0.59, test accuracy = 80.34\n",
      "Epoch 9, training loss = 0.52, training accuracy = 82.48\n",
      "Epoch 9, test loss = 0.58, test accuracy = 80.40\n",
      "Epoch 10, training loss = 0.51, training accuracy = 82.71\n",
      "Epoch 10, test loss = 0.57, test accuracy = 80.65\n",
      "Epoch 11, training loss = 0.51, training accuracy = 82.90\n",
      "Epoch 11, test loss = 0.58, test accuracy = 80.69\n",
      "Epoch 12, training loss = 0.50, training accuracy = 83.05\n",
      "Epoch 12, test loss = 0.57, test accuracy = 80.88\n",
      "Epoch 13, training loss = 0.50, training accuracy = 83.22\n",
      "Epoch 13, test loss = 0.56, test accuracy = 81.02\n",
      "Epoch 14, training loss = 0.49, training accuracy = 83.35\n",
      "Epoch 14, test loss = 0.56, test accuracy = 81.12\n",
      "Epoch 15, training loss = 0.49, training accuracy = 83.48\n",
      "Epoch 15, test loss = 0.56, test accuracy = 81.11\n",
      "Epoch 16, training loss = 0.48, training accuracy = 83.59\n",
      "Epoch 16, test loss = 0.55, test accuracy = 81.29\n",
      "Epoch 17, training loss = 0.48, training accuracy = 83.68\n",
      "Epoch 17, test loss = 0.55, test accuracy = 81.42\n",
      "Epoch 18, training loss = 0.48, training accuracy = 83.77\n",
      "Epoch 18, test loss = 0.54, test accuracy = 81.56\n",
      "Epoch 19, training loss = 0.48, training accuracy = 83.85\n",
      "Epoch 19, test loss = 0.54, test accuracy = 81.61\n",
      "Epoch 20, training loss = 0.47, training accuracy = 83.94\n",
      "Epoch 20, test loss = 0.54, test accuracy = 81.71\n",
      "Epoch 21, training loss = 0.47, training accuracy = 84.01\n",
      "Epoch 21, test loss = 0.54, test accuracy = 81.40\n",
      "Epoch 22, training loss = 0.47, training accuracy = 84.07\n",
      "Epoch 22, test loss = 0.54, test accuracy = 81.48\n",
      "Epoch 23, training loss = 0.47, training accuracy = 84.15\n",
      "Epoch 23, test loss = 0.54, test accuracy = 81.56\n",
      "Epoch 24, training loss = 0.46, training accuracy = 84.21\n",
      "Epoch 24, test loss = 0.54, test accuracy = 81.63\n",
      "Epoch 25, training loss = 0.46, training accuracy = 84.27\n",
      "Epoch 25, test loss = 0.53, test accuracy = 81.70\n",
      "Epoch 26, training loss = 0.46, training accuracy = 84.33\n",
      "Epoch 26, test loss = 0.53, test accuracy = 81.68\n",
      "Epoch 27, training loss = 0.46, training accuracy = 84.38\n",
      "Epoch 27, test loss = 0.53, test accuracy = 81.66\n",
      "Epoch 28, training loss = 0.46, training accuracy = 84.43\n",
      "Epoch 28, test loss = 0.53, test accuracy = 81.77\n",
      "Epoch 29, training loss = 0.46, training accuracy = 84.46\n",
      "Epoch 29, test loss = 0.53, test accuracy = 81.87\n",
      "Epoch 30, training loss = 0.45, training accuracy = 84.51\n",
      "Epoch 30, test loss = 0.53, test accuracy = 81.86\n"
     ]
    }
   ],
   "source": [
    "train_loader, test_loader = dloaders(batch_size=batch_size) # data iters\n",
    "model = init_model(in_features=28*28, out_features=10) # model initialization\n",
    "fit(model, train_loader, epochs, learning_rate) # training"
   ]
  },
  {
   "cell_type": "code",
   "execution_count": 268,
   "id": "da48f19b",
   "metadata": {},
   "outputs": [
    {
     "data": {
      "image/png": "[encoded data removed]",
      "text/plain": [
       "<Figure size 432x288 with 2 Axes>"
      ]
     },
     "metadata": {
      "needs_background": "light"
     },
     "output_type": "display_data"
    }
   ],
   "source": [
    "# Losses\n",
    "plt.subplot(1, 2, 1)\n",
    "plt.plot(plt_train_losses, label='train')\n",
    "plt.plot(plt_test_losses, label='test')\n",
    "plt.legend()\n",
    "plt.title('Training/Test Loss')\n",
    "\n",
    "# Accuracies\n",
    "plt.subplot(1, 2, 2)\n",
    "plt.plot(plt_train_accuracies, label='train')\n",
    "plt.plot(plt_test_accuracies, label='test')\n",
    "plt.legend()\n",
    "plt.title('Training/Test Accuracy')\n",
    "\n",
    "plt.show()"
   ]
  },
  {
   "cell_type": "code",
   "execution_count": 269,
   "id": "c78ae2ba",
   "metadata": {
    "scrolled": true
   },
   "outputs": [
    {
     "name": "stdout",
     "output_type": "stream",
     "text": [
      "Correct classified: 8189\n",
      "Wrong classified: 1811\n",
      "Total Accuracy: 81.89\n"
     ]
    }
   ],
   "source": [
    "predict(model, test_loader)"
   ]
  },
  {
   "cell_type": "markdown",
   "id": "739537d0",
   "metadata": {},
   "source": [
    "### Summary 2. Attempt\n",
    "Next we increased the batch size to 256, epochs to 30 and the learning rate to 0.2. The model reached a slightly higher accuracy and slightly lower loss. However, the model was not able to reach a higher accuracy on the entire test dataset. Thats probably due to the high batch size."
   ]
  },
  {
   "cell_type": "markdown",
   "id": "2a94b75d",
   "metadata": {},
   "source": [
    "## 3. Attempt"
   ]
  },
  {
   "cell_type": "code",
   "execution_count": 270,
   "id": "67fb6b28",
   "metadata": {},
   "outputs": [],
   "source": [
    "# hyperparameters\n",
    "batch_size = 100\n",
    "epochs = 15\n",
    "learning_rate = 0.001"
   ]
  },
  {
   "cell_type": "code",
   "execution_count": 271,
   "id": "39e8e424",
   "metadata": {},
   "outputs": [
    {
     "name": "stdout",
     "output_type": "stream",
     "text": [
      "Epoch 1, training loss = 1.86, training accuracy = 53.11\n",
      "Epoch 1, test loss = 1.55, test accuracy = 65.37\n",
      "Epoch 2, training loss = 1.62, training accuracy = 59.90\n",
      "Epoch 2, test loss = 1.40, test accuracy = 65.84\n",
      "Epoch 3, training loss = 1.47, training accuracy = 62.49\n",
      "Epoch 3, test loss = 1.30, test accuracy = 66.30\n",
      "Epoch 4, training loss = 1.36, training accuracy = 64.10\n",
      "Epoch 4, test loss = 1.23, test accuracy = 66.87\n",
      "Epoch 5, training loss = 1.29, training accuracy = 65.33\n",
      "Epoch 5, test loss = 1.18, test accuracy = 67.47\n",
      "Epoch 6, training loss = 1.23, training accuracy = 66.35\n",
      "Epoch 6, test loss = 1.14, test accuracy = 68.05\n",
      "Epoch 7, training loss = 1.18, training accuracy = 67.26\n",
      "Epoch 7, test loss = 1.10, test accuracy = 68.57\n",
      "Epoch 8, training loss = 1.14, training accuracy = 68.06\n",
      "Epoch 8, test loss = 1.07, test accuracy = 69.06\n",
      "Epoch 9, training loss = 1.10, training accuracy = 68.76\n",
      "Epoch 9, test loss = 1.04, test accuracy = 69.54\n",
      "Epoch 10, training loss = 1.07, training accuracy = 69.38\n",
      "Epoch 10, test loss = 1.02, test accuracy = 69.97\n",
      "Epoch 11, training loss = 1.05, training accuracy = 69.93\n",
      "Epoch 11, test loss = 1.00, test accuracy = 70.38\n",
      "Epoch 12, training loss = 1.02, training accuracy = 70.43\n",
      "Epoch 12, test loss = 0.98, test accuracy = 70.73\n",
      "Epoch 13, training loss = 1.00, training accuracy = 70.89\n",
      "Epoch 13, test loss = 0.96, test accuracy = 71.07\n",
      "Epoch 14, training loss = 0.98, training accuracy = 71.31\n",
      "Epoch 14, test loss = 0.95, test accuracy = 71.40\n",
      "Epoch 15, training loss = 0.97, training accuracy = 71.71\n",
      "Epoch 15, test loss = 0.94, test accuracy = 71.70\n"
     ]
    }
   ],
   "source": [
    "train_loader, test_loader = dloaders(batch_size=batch_size) # data iters\n",
    "model = init_model(in_features=28*28, out_features=10) # model initialization\n",
    "fit(model, train_loader, epochs, learning_rate) # training"
   ]
  },
  {
   "cell_type": "code",
   "execution_count": 272,
   "id": "cca5839c",
   "metadata": {
    "scrolled": true
   },
   "outputs": [
    {
     "data": {
      "image/png": "[encoded data removed]",
      "text/plain": [
       "<Figure size 432x288 with 2 Axes>"
      ]
     },
     "metadata": {
      "needs_background": "light"
     },
     "output_type": "display_data"
    }
   ],
   "source": [
    "# Losses\n",
    "plt.subplot(1, 2, 1)\n",
    "plt.plot(plt_train_losses, label='train')\n",
    "plt.plot(plt_test_losses, label='test')\n",
    "plt.legend()\n",
    "plt.title('Training/Test Loss')\n",
    "\n",
    "# Accuracies\n",
    "plt.subplot(1, 2, 2)\n",
    "plt.plot(plt_train_accuracies, label='train')\n",
    "plt.plot(plt_test_accuracies, label='test')\n",
    "plt.legend()\n",
    "plt.title('Training/Test Accuracy')\n",
    "\n",
    "plt.show()"
   ]
  },
  {
   "cell_type": "code",
   "execution_count": 273,
   "id": "04242316",
   "metadata": {
    "scrolled": true
   },
   "outputs": [
    {
     "name": "stdout",
     "output_type": "stream",
     "text": [
      "Correct classified: 7592\n",
      "Wrong classified: 2408\n",
      "Total Accuracy: 75.92\n"
     ]
    }
   ],
   "source": [
    "predict(model, test_loader)"
   ]
  },
  {
   "cell_type": "markdown",
   "id": "72271195",
   "metadata": {},
   "source": [
    "## Summary\n",
    "On our model the following hyperparameters worked the best:\n",
    "- batch_size = 50\n",
    "- epochs = 10\n",
    "- learning_rate = 0.01\n",
    "\n",
    "We those parameters our model reached a total accuracy of 83% on the test data. For every epoch and every attempt we printed the accuracy & loss for the training aswell as for the test data. The values were always pretty close to each other, which is a good thing. Especially for the accuracy - a training accuracy that is subjectively far higher than test accuracy indicates overfitting. Overall the test-accuracy is more important since it indicates how good the model was trained / performs on unkown data."
   ]
  },
  {
   "cell_type": "code",
   "execution_count": null,
   "id": "67559036",
   "metadata": {},
   "outputs": [],
   "source": []
  }
 ],
 "metadata": {
  "kernelspec": {
   "display_name": "Python [conda env:dl]",
   "language": "python",
   "name": "conda-env-dl-py"
  },
  "language_info": {
   "codemirror_mode": {
    "name": "ipython",
    "version": 3
   },
   "file_extension": ".py",
   "mimetype": "text/x-python",
   "name": "python",
   "nbconvert_exporter": "python",
   "pygments_lexer": "ipython3",
   "version": "3.9.7"
  }
 },
 "nbformat": 4,
 "nbformat_minor": 5
}
