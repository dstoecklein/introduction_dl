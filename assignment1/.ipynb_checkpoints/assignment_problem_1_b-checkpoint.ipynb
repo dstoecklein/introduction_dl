{
 "cells": [
  {
   "cell_type": "markdown",
   "id": "4200b0f2",
   "metadata": {},
   "source": [
    "## Authors:\n",
    "#### Daniel Stöckein (5018039), Alexander Triol ()"
   ]
  },
  {
   "cell_type": "code",
   "execution_count": 3,
   "id": "3401ab84",
   "metadata": {},
   "outputs": [],
   "source": [
    "import torch\n",
    "import pandas as pd\n",
    "import numpy as np\n",
    "from torch import nn\n",
    "from torch.utils.data import DataLoader, TensorDataset\n",
    "from torchvision import datasets, transforms\n",
    "from matplotlib import pyplot as plt\n",
    "%matplotlib inline"
   ]
  },
  {
   "cell_type": "markdown",
   "id": "f050aa62",
   "metadata": {},
   "source": [
    "## 1. Load Data & Data understanding\n",
    "- get an understanding of the data"
   ]
  },
  {
   "cell_type": "code",
   "execution_count": 4,
   "id": "a752b661",
   "metadata": {
    "scrolled": true
   },
   "outputs": [],
   "source": [
    "mnist_train = datasets.FashionMNIST(\"..\\datasets\", train=True, download=True, transform=transforms.ToTensor())\n",
    "mnist_test = datasets.FashionMNIST(\"..\\datasets\", train=False, download=True, transform=transforms.ToTensor())"
   ]
  },
  {
   "cell_type": "code",
   "execution_count": 5,
   "id": "3c920f1d",
   "metadata": {
    "scrolled": true
   },
   "outputs": [
    {
     "data": {
      "text/plain": [
       "tensor([[[0.0000, 0.0000, 0.0000, 0.0000, 0.0000, 0.0000, 0.0000, 0.0000,\n",
       "          0.0000, 0.0863, 0.4627, 0.0941, 0.0000, 0.0000, 0.0000, 0.0000,\n",
       "          0.0000, 0.1882, 0.3451, 0.0196, 0.0000, 0.0000, 0.0000, 0.0000,\n",
       "          0.0000, 0.0000, 0.0000, 0.0000],\n",
       "         [0.0000, 0.0000, 0.0000, 0.0000, 0.0000, 0.0000, 0.0000, 0.0000,\n",
       "          0.0471, 0.3922, 0.8314, 0.8039, 0.7255, 0.7020, 0.6784, 0.7294,\n",
       "          0.7569, 0.8667, 0.5569, 0.3333, 0.0000, 0.0000, 0.0000, 0.0000,\n",
       "          0.0000, 0.0000, 0.0000, 0.0000],\n",
       "         [0.0000, 0.0000, 0.0000, 0.0000, 0.0000, 0.0000, 0.0000, 0.0000,\n",
       "          0.0000, 0.3333, 0.2980, 0.7804, 0.8824, 0.9725, 1.0000, 0.9333,\n",
       "          0.8863, 0.6157, 0.2667, 0.3137, 0.0000, 0.0000, 0.0000, 0.0000,\n",
       "          0.0000, 0.0000, 0.0000, 0.0000],\n",
       "         [0.0000, 0.0000, 0.0000, 0.0000, 0.0000, 0.0000, 0.0000, 0.0000,\n",
       "          0.0000, 0.3569, 0.2706, 0.3569, 0.7882, 0.8549, 0.8824, 0.8196,\n",
       "          0.6196, 0.2392, 0.3647, 0.2824, 0.0000, 0.0000, 0.0000, 0.0000,\n",
       "          0.0000, 0.0000, 0.0000, 0.0000],\n",
       "         [0.0000, 0.0000, 0.0000, 0.0000, 0.0000, 0.0000, 0.0000, 0.0000,\n",
       "          0.0000, 0.3098, 0.3490, 0.2392, 0.2314, 0.3412, 0.4235, 0.2941,\n",
       "          0.2196, 0.2980, 0.3804, 0.2863, 0.0000, 0.0000, 0.0000, 0.0000,\n",
       "          0.0000, 0.0000, 0.0000, 0.0000],\n",
       "         [0.0000, 0.0000, 0.0000, 0.0000, 0.0000, 0.0000, 0.0000, 0.0000,\n",
       "          0.0000, 0.2941, 0.3490, 0.3137, 0.3137, 0.2627, 0.2471, 0.2863,\n",
       "          0.3255, 0.3137, 0.3765, 0.2824, 0.0000, 0.0000, 0.0000, 0.0000,\n",
       "          0.0000, 0.0000, 0.0000, 0.0000],\n",
       "         [0.0000, 0.0000, 0.0000, 0.0000, 0.0000, 0.0000, 0.0000, 0.0000,\n",
       "          0.0000, 0.3020, 0.3451, 0.3020, 0.3137, 0.3255, 0.3255, 0.3255,\n",
       "          0.3255, 0.3176, 0.3725, 0.2980, 0.0000, 0.0000, 0.0000, 0.0000,\n",
       "          0.0000, 0.0000, 0.0000, 0.0000],\n",
       "         [0.0000, 0.0000, 0.0000, 0.0000, 0.0000, 0.0000, 0.0000, 0.0000,\n",
       "          0.0000, 0.3490, 0.3765, 0.3137, 0.3255, 0.3176, 0.3294, 0.3333,\n",
       "          0.3333, 0.3333, 0.3804, 0.3294, 0.0000, 0.0000, 0.0000, 0.0000,\n",
       "          0.0000, 0.0000, 0.0000, 0.0000],\n",
       "         [0.0000, 0.0000, 0.0000, 0.0000, 0.0000, 0.0000, 0.0000, 0.0000,\n",
       "          0.0000, 0.3647, 0.3804, 0.3176, 0.3333, 0.3294, 0.3333, 0.3412,\n",
       "          0.3451, 0.3294, 0.3882, 0.3412, 0.0000, 0.0000, 0.0000, 0.0000,\n",
       "          0.0000, 0.0000, 0.0000, 0.0000],\n",
       "         [0.0000, 0.0000, 0.0000, 0.0000, 0.0000, 0.0000, 0.0000, 0.0000,\n",
       "          0.0000, 0.3725, 0.3412, 0.3294, 0.3412, 0.3451, 0.3333, 0.3412,\n",
       "          0.3412, 0.3294, 0.3608, 0.3412, 0.0000, 0.0000, 0.0000, 0.0000,\n",
       "          0.0000, 0.0000, 0.0000, 0.0000],\n",
       "         [0.0000, 0.0000, 0.0000, 0.0000, 0.0000, 0.0000, 0.0000, 0.0000,\n",
       "          0.0000, 0.3804, 0.3412, 0.3412, 0.3333, 0.3451, 0.3412, 0.3412,\n",
       "          0.3412, 0.3451, 0.3333, 0.4196, 0.0000, 0.0000, 0.0000, 0.0000,\n",
       "          0.0000, 0.0000, 0.0000, 0.0000],\n",
       "         [0.0000, 0.0000, 0.0000, 0.0000, 0.0000, 0.0000, 0.0000, 0.0000,\n",
       "          0.0667, 0.3922, 0.3451, 0.3412, 0.3412, 0.3451, 0.3412, 0.3412,\n",
       "          0.3333, 0.3490, 0.3020, 0.4627, 0.0314, 0.0000, 0.0000, 0.0000,\n",
       "          0.0000, 0.0000, 0.0000, 0.0000],\n",
       "         [0.0000, 0.0000, 0.0000, 0.0000, 0.0000, 0.0000, 0.0000, 0.0000,\n",
       "          0.0392, 0.3647, 0.3412, 0.3412, 0.3412, 0.3412, 0.3412, 0.3451,\n",
       "          0.3412, 0.3490, 0.3137, 0.4039, 0.0000, 0.0000, 0.0000, 0.0000,\n",
       "          0.0000, 0.0000, 0.0000, 0.0000],\n",
       "         [0.0000, 0.0000, 0.0000, 0.0000, 0.0000, 0.0000, 0.0000, 0.0000,\n",
       "          0.0353, 0.3765, 0.3412, 0.3412, 0.3412, 0.3412, 0.3412, 0.3451,\n",
       "          0.3412, 0.3451, 0.3412, 0.4039, 0.0000, 0.0000, 0.0000, 0.0000,\n",
       "          0.0000, 0.0000, 0.0000, 0.0000],\n",
       "         [0.0000, 0.0000, 0.0000, 0.0000, 0.0000, 0.0000, 0.0000, 0.0000,\n",
       "          0.0471, 0.3765, 0.3333, 0.3412, 0.3412, 0.3412, 0.3333, 0.3412,\n",
       "          0.3412, 0.3451, 0.3490, 0.3922, 0.0078, 0.0000, 0.0000, 0.0000,\n",
       "          0.0000, 0.0000, 0.0000, 0.0000],\n",
       "         [0.0000, 0.0000, 0.0000, 0.0000, 0.0000, 0.0000, 0.0000, 0.0000,\n",
       "          0.0784, 0.3725, 0.3294, 0.3451, 0.3333, 0.3412, 0.3451, 0.3451,\n",
       "          0.3451, 0.3490, 0.3451, 0.3882, 0.0314, 0.0000, 0.0000, 0.0000,\n",
       "          0.0000, 0.0000, 0.0000, 0.0000],\n",
       "         [0.0000, 0.0000, 0.0000, 0.0000, 0.0000, 0.0000, 0.0000, 0.0000,\n",
       "          0.0824, 0.3765, 0.3333, 0.3412, 0.3333, 0.3451, 0.3451, 0.3451,\n",
       "          0.3451, 0.3490, 0.3490, 0.3882, 0.0392, 0.0000, 0.0000, 0.0000,\n",
       "          0.0000, 0.0000, 0.0000, 0.0000],\n",
       "         [0.0000, 0.0000, 0.0000, 0.0000, 0.0000, 0.0000, 0.0000, 0.0000,\n",
       "          0.0941, 0.3765, 0.3333, 0.3412, 0.3333, 0.3412, 0.3451, 0.3451,\n",
       "          0.3490, 0.3451, 0.3569, 0.4000, 0.0549, 0.0000, 0.0000, 0.0000,\n",
       "          0.0000, 0.0000, 0.0000, 0.0000],\n",
       "         [0.0000, 0.0000, 0.0000, 0.0000, 0.0000, 0.0000, 0.0000, 0.0000,\n",
       "          0.0980, 0.3647, 0.3294, 0.3451, 0.3412, 0.3412, 0.3412, 0.3412,\n",
       "          0.3412, 0.3490, 0.3569, 0.4039, 0.1137, 0.0000, 0.0000, 0.0000,\n",
       "          0.0000, 0.0000, 0.0000, 0.0000],\n",
       "         [0.0000, 0.0000, 0.0000, 0.0000, 0.0000, 0.0000, 0.0000, 0.0000,\n",
       "          0.1176, 0.3725, 0.3333, 0.3451, 0.3451, 0.3412, 0.3412, 0.3412,\n",
       "          0.3412, 0.3490, 0.3451, 0.4000, 0.1451, 0.0000, 0.0000, 0.0000,\n",
       "          0.0000, 0.0000, 0.0000, 0.0000],\n",
       "         [0.0000, 0.0000, 0.0000, 0.0000, 0.0000, 0.0000, 0.0000, 0.0000,\n",
       "          0.1333, 0.3765, 0.3451, 0.3412, 0.3412, 0.3412, 0.3412, 0.3412,\n",
       "          0.3412, 0.3333, 0.3333, 0.3804, 0.1490, 0.0000, 0.0000, 0.0000,\n",
       "          0.0000, 0.0000, 0.0000, 0.0000],\n",
       "         [0.0000, 0.0000, 0.0000, 0.0000, 0.0000, 0.0000, 0.0000, 0.0000,\n",
       "          0.1569, 0.3765, 0.3412, 0.3333, 0.3412, 0.3412, 0.3412, 0.3412,\n",
       "          0.3412, 0.3333, 0.3294, 0.3608, 0.1922, 0.0000, 0.0000, 0.0000,\n",
       "          0.0000, 0.0000, 0.0000, 0.0000],\n",
       "         [0.0000, 0.0000, 0.0000, 0.0000, 0.0000, 0.0000, 0.0000, 0.0000,\n",
       "          0.1804, 0.3725, 0.3255, 0.3294, 0.3412, 0.3412, 0.3412, 0.3412,\n",
       "          0.3412, 0.3412, 0.3294, 0.3412, 0.3294, 0.0000, 0.0000, 0.0000,\n",
       "          0.0000, 0.0000, 0.0000, 0.0000],\n",
       "         [0.0000, 0.0000, 0.0000, 0.0000, 0.0000, 0.0000, 0.0000, 0.0000,\n",
       "          0.2824, 0.3725, 0.3333, 0.3294, 0.3333, 0.3451, 0.3412, 0.3412,\n",
       "          0.3490, 0.3412, 0.3333, 0.3255, 0.2471, 0.0000, 0.0000, 0.0000,\n",
       "          0.0000, 0.0000, 0.0000, 0.0000],\n",
       "         [0.0000, 0.0000, 0.0000, 0.0000, 0.0000, 0.0000, 0.0000, 0.0000,\n",
       "          0.2510, 0.3922, 0.3294, 0.3412, 0.3451, 0.3333, 0.3451, 0.3451,\n",
       "          0.3294, 0.3412, 0.3255, 0.3725, 0.2078, 0.0000, 0.0000, 0.0000,\n",
       "          0.0000, 0.0000, 0.0000, 0.0000],\n",
       "         [0.0000, 0.0000, 0.0000, 0.0000, 0.0000, 0.0000, 0.0000, 0.0000,\n",
       "          0.0392, 0.4000, 0.3922, 0.3569, 0.3569, 0.3490, 0.3333, 0.3294,\n",
       "          0.3294, 0.3412, 0.4235, 0.4157, 0.0549, 0.0000, 0.0000, 0.0000,\n",
       "          0.0000, 0.0000, 0.0000, 0.0000],\n",
       "         [0.0000, 0.0000, 0.0000, 0.0000, 0.0000, 0.0000, 0.0000, 0.0000,\n",
       "          0.0000, 0.0314, 0.2863, 0.3647, 0.4078, 0.4196, 0.4039, 0.4039,\n",
       "          0.4157, 0.4000, 0.2941, 0.0392, 0.0000, 0.0000, 0.0000, 0.0000,\n",
       "          0.0000, 0.0000, 0.0000, 0.0000],\n",
       "         [0.0000, 0.0000, 0.0000, 0.0000, 0.0000, 0.0000, 0.0000, 0.0000,\n",
       "          0.0039, 0.0000, 0.0000, 0.0000, 0.0706, 0.1647, 0.2235, 0.2196,\n",
       "          0.1255, 0.0314, 0.0000, 0.0000, 0.0039, 0.0000, 0.0000, 0.0000,\n",
       "          0.0000, 0.0000, 0.0000, 0.0000]]])"
      ]
     },
     "metadata": {},
     "output_type": "display_data"
    },
    {
     "name": "stdout",
     "output_type": "stream",
     "text": [
      "None\n"
     ]
    },
    {
     "data": {
      "text/plain": [
       "0"
      ]
     },
     "metadata": {},
     "output_type": "display_data"
    },
    {
     "name": "stdout",
     "output_type": "stream",
     "text": [
      "None\n"
     ]
    }
   ],
   "source": [
    "print(display(mnist_train[2][0])) # features\n",
    "print(display(mnist_train[2][1])) # labels"
   ]
  },
  {
   "cell_type": "code",
   "execution_count": 6,
   "id": "c19d9b9c",
   "metadata": {},
   "outputs": [
    {
     "name": "stdout",
     "output_type": "stream",
     "text": [
      "60000 10000\n"
     ]
    }
   ],
   "source": [
    "print(len(mnist_train), len(mnist_test))"
   ]
  },
  {
   "cell_type": "code",
   "execution_count": 7,
   "id": "b4f7fb29",
   "metadata": {
    "scrolled": true
   },
   "outputs": [
    {
     "name": "stdout",
     "output_type": "stream",
     "text": [
      "torch.Size([1, 28, 28])\n"
     ]
    }
   ],
   "source": [
    "print(mnist_train[1][0].shape)"
   ]
  },
  {
   "cell_type": "markdown",
   "id": "c79319a4",
   "metadata": {},
   "source": [
    "### 1.1 Plotting some images"
   ]
  },
  {
   "cell_type": "code",
   "execution_count": 61,
   "id": "97cf24d5",
   "metadata": {},
   "outputs": [
    {
     "data": {
      "text/plain": [
       "<Figure size 432x288 with 0 Axes>"
      ]
     },
     "metadata": {},
     "output_type": "display_data"
    },
    {
     "data": {
      "image/png": "[encoded data removed]",
      "text/plain": [
       "<Figure size 432x288 with 8 Axes>"
      ]
     },
     "metadata": {
      "needs_background": "light"
     },
     "output_type": "display_data"
    }
   ],
   "source": [
    "plt.figure()\n",
    "f, axarr = plt.subplots(1,8)\n",
    "for i in range(8):\n",
    "    image, label = mnist_train[i]\n",
    "    axarr[i].imshow(image[0])\n",
    "    axarr[i].set_title(label)"
   ]
  },
  {
   "cell_type": "markdown",
   "id": "953cc2ab",
   "metadata": {},
   "source": [
    "### 1.2 Dataset description\n",
    "- training set: 60.000 images\n",
    "- test set: 10.000 images\n",
    "- number of channels: 1 (greyscale)\n",
    "- height: 28px\n",
    "- width: 28px\n",
    "- features: 28x28px = 784\n",
    "- outputs: 10 categories\n",
    "\n",
    "https://github.com/zalandoresearch/fashion-mnist"
   ]
  },
  {
   "cell_type": "markdown",
   "id": "2997ba3f",
   "metadata": {},
   "source": [
    "## 2. Preparing DataLoaders to iterate over batches"
   ]
  },
  {
   "cell_type": "code",
   "execution_count": 152,
   "id": "8a5673f8",
   "metadata": {},
   "outputs": [],
   "source": [
    "batch_size = 50\n",
    "\n",
    "train_loader = DataLoader(mnist_train, batch_size=batch_size, shuffle=True)\n",
    "test_loader = DataLoader(mnist_test, batch_size=batch_size, shuffle=False)"
   ]
  },
  {
   "cell_type": "markdown",
   "id": "dda262c9",
   "metadata": {},
   "source": [
    "## 3. Model definition\n",
    "$$\\mathbf{\\hat{o}} = \\mathbf{x}^T \\mathbf{W} + \\mathbf{b}$$"
   ]
  },
  {
   "cell_type": "markdown",
   "id": "ea2a198b",
   "metadata": {},
   "source": [
    "`torch.nn.Sequential(*args)` A sequential container. Modules will be added to it in the order they are passed in the constructor. Alternatively, an OrderedDict of modules can be passed in. The forward() method of Sequential accepts any input and forwards it to the first module it contains. It then “chains” outputs to inputs sequentially for each subsequent module, finally returning the output of the last module. https://pytorch.org/docs/stable/generated/torch.nn.Sequential.html"
   ]
  },
  {
   "cell_type": "markdown",
   "id": "65f49c92",
   "metadata": {},
   "source": [
    "`torch.nn.Flatten(start_dim=1, end_dim=- 1)` Flattening a tensor means to remove all of the dimensions except for one. Flattens a contiguous range of dims into a tensor. For use with `Sequential`. https://pytorch.org/docs/stable/generated/torch.nn.Flatten.html\n",
    "\n",
    "<img src=\"flatten.png\" width=\"400\">"
   ]
  },
  {
   "cell_type": "markdown",
   "id": "99a20ce9",
   "metadata": {},
   "source": [
    "`torch.nn.Linear(in_features, out_features, bias=True, device=None, dtype=None)` Applies a linear transformation to the incoming data. https://pytorch.org/docs/stable/generated/torch.nn.Linear.html"
   ]
  },
  {
   "cell_type": "code",
   "execution_count": 239,
   "id": "a59c5137",
   "metadata": {},
   "outputs": [],
   "source": [
    "model = nn.Sequential(nn.Flatten(), nn.Linear(28*28, 10))\n",
    "\n",
    "def init_weights(m):\n",
    "    if type(m) == nn.Linear:\n",
    "        nn.init.normal_(m.weight, std=0.01) # initialize weights with normal distribution\n",
    "\n",
    "model.apply(init_weights);"
   ]
  },
  {
   "cell_type": "markdown",
   "id": "b5360a97",
   "metadata": {},
   "source": [
    "## 4. Loss function (Cross Entropy Loss)\n",
    "`torch.nn.CrossEntropyLoss(weight=None, size_average=None, ignore_index=- 100, reduce=None, reduction='mean', label_smoothing=0.0)`"
   ]
  },
  {
   "cell_type": "code",
   "execution_count": 240,
   "id": "087094bb",
   "metadata": {},
   "outputs": [],
   "source": [
    "loss = nn.CrossEntropyLoss() # computes softmax and then the cross entropy"
   ]
  },
  {
   "cell_type": "markdown",
   "id": "80574522",
   "metadata": {},
   "source": [
    "## 5. Optimization (SGD)\n",
    "`torch.optim.SGD(params, lr=<required parameter>, momentum=0, dampening=0, weight_decay=0, nesterov=False)`"
   ]
  },
  {
   "cell_type": "code",
   "execution_count": 241,
   "id": "cdbe075a",
   "metadata": {},
   "outputs": [],
   "source": [
    "optimizer = torch.optim.SGD(model.parameters(), lr=0.01)"
   ]
  },
  {
   "cell_type": "markdown",
   "id": "2cf30402",
   "metadata": {},
   "source": [
    "## 6. Training procedure"
   ]
  },
  {
   "cell_type": "code",
   "execution_count": 242,
   "id": "a82c6965",
   "metadata": {},
   "outputs": [],
   "source": [
    "train_loss, test_loss = [], []\n",
    "train_acc, test_acc = [], []\n",
    "\n",
    "def fit(model, train_loader, epochs, learning_rate, opt_func=torch.optim.SGD):\n",
    "    \n",
    "    optimizer = opt_func(model.parameters(), learning_rate)\n",
    "    \n",
    "    running_loss = .0\n",
    "    correct = 0\n",
    "    total = 0\n",
    "    \n",
    "    for epoch in range(epochs):\n",
    "\n",
    "        for i, (x_batch, y_batch) in enumerate(train_loader):\n",
    "\n",
    "            # 1. forward\n",
    "            y_hat = model(x_batch) # logits\n",
    "\n",
    "            # 2. compute objective function (softmax, cross entropy)\n",
    "            l = loss(y_hat, y_batch)\n",
    "\n",
    "            # 3. cleaning gradients\n",
    "            optimizer.zero_grad() # params.grad_zero_()\n",
    "\n",
    "            # 4. accumulate partial derivatives\n",
    "            l.backward() #params.grad.add_(dJ/dparams)\n",
    "\n",
    "            # 5. step in the opposite direction of the gradient\n",
    "            optimizer.step() # with torch.no_grad(): params = params - lr * params.grad\n",
    "\n",
    "            running_loss += l.item()\n",
    "            \n",
    "            _, predicted = torch.max(y_hat, dim=1)\n",
    "            total += len(predictions)\n",
    "            correct += (predicted == y_batch).sum().item()\n",
    "            \n",
    "        running_loss /= len(train_loader)\n",
    "        train_loss.append(running_loss)\n",
    "        \n",
    "        running_acc = correct / total\n",
    "        train_acc.append(running_acc)\n",
    "        \n",
    "        print(f'Epoch {epoch + 1}') \n",
    "        print(\"accuracy = {}\".format(running_acc * 100))\n",
    "        print(\"loss = {}\".format(running_loss))\n",
    "        \n",
    "        # evaluate on the test set\n",
    "        # note this is usually performed on the validation set\n",
    "        # for simplicity we just evaluate it on the test set\n",
    "        with torch.no_grad():\n",
    "            correct = 0\n",
    "            total = 0\n",
    "            test_running_loss = .0\n",
    "\n",
    "            for i, (x_batch, y_batch) in enumerate(test_loader):\n",
    "                y_hat = model(x_batch)\n",
    "                l = loss(y_hat, y_batch)\n",
    "\n",
    "                test_running_loss += l.item()\n",
    "                _, predicted = torch.max(y_hat, dim=1)\n",
    "                total += len(predictions)\n",
    "                correct += (predicted == y_batch).sum().item()\n",
    "\n",
    "            test_running_loss /= len(test_loader)\n",
    "            test_loss.append(test_running_loss)\n",
    "            test_running_acc = correct / total\n",
    "            test_acc.append(test_running_acc)\n",
    "\n",
    "            print(\"test accuracy = {}\".format(test_running_acc * 100))\n",
    "            print(\"test loss = {}\".format(test_running_loss))"
   ]
  },
  {
   "cell_type": "markdown",
   "id": "5d51962c",
   "metadata": {},
   "source": [
    "## 7. Accuracy\n",
    "$$ \\frac{\\hat{\\mathbf{y}}==y}{\\mathbf{n}} $$"
   ]
  },
  {
   "cell_type": "code",
   "execution_count": 243,
   "id": "87d4e119",
   "metadata": {},
   "outputs": [],
   "source": [
    "def accuracy(y_hat, y):\n",
    "    _, predictions = torch.max(y_hat, dim=1) # single class with highest probability. simply retain indices\n",
    "    correct = (predictions == y).float()\n",
    "    accuracy = correct.sum() / len(predictions)\n",
    "    accuracy = torch.round(accuracy * 100)\n",
    "    return accuracy"
   ]
  },
  {
   "cell_type": "code",
   "execution_count": 244,
   "id": "44f806fa",
   "metadata": {
    "scrolled": true
   },
   "outputs": [
    {
     "name": "stdout",
     "output_type": "stream",
     "text": [
      "Epoch 1\n",
      "accuracy = 72.52666666666666\n",
      "loss = 0.9056752956906955\n",
      "test accuracy = 77.14999999999999\n",
      "test loss = 0.7040144982933998\n",
      "Epoch 2\n",
      "accuracy = 79.33142857142857\n",
      "loss = 0.6379804224799904\n",
      "test accuracy = 79.61\n",
      "test loss = 0.621498754620552\n",
      "Epoch 3\n",
      "accuracy = 81.02285714285713\n",
      "loss = 0.5798219728892902\n",
      "test accuracy = 80.45\n",
      "test loss = 0.585048530548811\n",
      "Epoch 4\n",
      "accuracy = 81.94428571428571\n",
      "loss = 0.5474948263655458\n",
      "test accuracy = 81.22\n",
      "test loss = 0.559796288907528\n",
      "Epoch 5\n",
      "accuracy = 82.52571428571429\n",
      "loss = 0.5267963415613183\n",
      "test accuracy = 81.62\n",
      "test loss = 0.5434000143408775\n",
      "Epoch 6\n",
      "accuracy = 82.88142857142857\n",
      "loss = 0.5117559494704199\n",
      "test accuracy = 82.1\n",
      "test loss = 0.5319094000756741\n",
      "Epoch 7\n",
      "accuracy = 83.13142857142857\n",
      "loss = 0.5003131592325146\n",
      "test accuracy = 82.12\n",
      "test loss = 0.5268586702644825\n",
      "Epoch 8\n",
      "accuracy = 83.40857142857143\n",
      "loss = 0.4909857201049768\n",
      "test accuracy = 82.62\n",
      "test loss = 0.5147172325849533\n",
      "Epoch 9\n",
      "accuracy = 83.68571428571428\n",
      "loss = 0.48315986649339976\n",
      "test accuracy = 82.78\n",
      "test loss = 0.5084298095107078\n",
      "Epoch 10\n",
      "accuracy = 83.86857142857143\n",
      "loss = 0.47709594472958106\n",
      "test accuracy = 82.78999999999999\n",
      "test loss = 0.5030425938963891\n"
     ]
    }
   ],
   "source": [
    "epochs = 10\n",
    "learning_rate = 0.01\n",
    "\n",
    "fit(model, train_loader, epochs, learning_rate, opt_func=torch.optim.SGD)"
   ]
  },
  {
   "cell_type": "code",
   "execution_count": 245,
   "id": "a77d671b",
   "metadata": {
    "scrolled": true
   },
   "outputs": [
    {
     "data": {
      "image/png": "[encoded data removed]",
      "text/plain": [
       "<Figure size 432x288 with 1 Axes>"
      ]
     },
     "metadata": {
      "needs_background": "light"
     },
     "output_type": "display_data"
    }
   ],
   "source": [
    "plt.plot(train_loss, label='train')\n",
    "plt.plot(test_loss, label='test')\n",
    "plt.legend()\n",
    "plt.title('Training/Test Loss')\n",
    "plt.show()"
   ]
  },
  {
   "cell_type": "code",
   "execution_count": 246,
   "id": "c58e02ed",
   "metadata": {},
   "outputs": [
    {
     "data": {
      "image/png": "[encoded data removed]",
      "text/plain": [
       "<Figure size 432x288 with 1 Axes>"
      ]
     },
     "metadata": {
      "needs_background": "light"
     },
     "output_type": "display_data"
    }
   ],
   "source": [
    "plt.plot(train_acc, label='train')\n",
    "plt.plot(test_acc, label='test')\n",
    "plt.legend()\n",
    "plt.title('Training/Test Accuracy')\n",
    "plt.show()"
   ]
  },
  {
   "cell_type": "code",
   "execution_count": null,
   "id": "da4f3f0e",
   "metadata": {},
   "outputs": [],
   "source": []
  }
 ],
 "metadata": {
  "kernelspec": {
   "display_name": "Python 3 (ipykernel)",
   "language": "python",
   "name": "python3"
  },
  "language_info": {
   "codemirror_mode": {
    "name": "ipython",
    "version": 3
   },
   "file_extension": ".py",
   "mimetype": "text/x-python",
   "name": "python",
   "nbconvert_exporter": "python",
   "pygments_lexer": "ipython3",
   "version": "3.8.0"
  }
 },
 "nbformat": 4,
 "nbformat_minor": 5
}
