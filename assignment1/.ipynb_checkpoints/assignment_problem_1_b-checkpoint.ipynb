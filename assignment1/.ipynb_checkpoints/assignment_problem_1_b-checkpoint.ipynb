{
 "cells": [
  {
   "cell_type": "markdown",
   "id": "4200b0f2",
   "metadata": {},
   "source": [
    "## Authors:\n",
    "#### Daniel Stöckein (5018039), Alexander Triol ()"
   ]
  },
  {
   "cell_type": "code",
   "execution_count": 161,
   "id": "3401ab84",
   "metadata": {},
   "outputs": [],
   "source": [
    "import torch\n",
    "import pandas as pd\n",
    "import numpy as np\n",
    "from torch import nn\n",
    "from torch.utils.data import DataLoader, TensorDataset\n",
    "from torchvision import datasets, transforms\n",
    "from matplotlib import pyplot as plt\n",
    "%matplotlib inline"
   ]
  },
  {
   "cell_type": "markdown",
   "id": "f050aa62",
   "metadata": {},
   "source": [
    "## 1. Load Data & Data understanding\n",
    "- get an understanding of the data"
   ]
  },
  {
   "cell_type": "code",
   "execution_count": 162,
   "id": "a752b661",
   "metadata": {
    "scrolled": true
   },
   "outputs": [],
   "source": [
    "mnist_train = datasets.FashionMNIST(\"..\\datasets\", train=True, download=True, transform=transforms.ToTensor())\n",
    "mnist_test = datasets.FashionMNIST(\"..\\datasets\", train=False, download=True, transform=transforms.ToTensor())"
   ]
  },
  {
   "cell_type": "code",
   "execution_count": 163,
   "id": "c19d9b9c",
   "metadata": {},
   "outputs": [
    {
     "name": "stdout",
     "output_type": "stream",
     "text": [
      "60000 10000\n"
     ]
    }
   ],
   "source": [
    "print(len(mnist_train), len(mnist_test))"
   ]
  },
  {
   "cell_type": "code",
   "execution_count": 164,
   "id": "b4f7fb29",
   "metadata": {
    "scrolled": true
   },
   "outputs": [
    {
     "name": "stdout",
     "output_type": "stream",
     "text": [
      "torch.Size([1, 28, 28])\n"
     ]
    }
   ],
   "source": [
    "print(mnist_train[1][0].shape)"
   ]
  },
  {
   "cell_type": "markdown",
   "id": "c79319a4",
   "metadata": {},
   "source": [
    "### 1.1 Plotting some images"
   ]
  },
  {
   "cell_type": "code",
   "execution_count": 165,
   "id": "97cf24d5",
   "metadata": {},
   "outputs": [
    {
     "data": {
      "text/plain": [
       "<Figure size 432x288 with 0 Axes>"
      ]
     },
     "metadata": {},
     "output_type": "display_data"
    },
    {
     "data": {
      "image/png": "[encoded data removed]",
      "text/plain": [
       "<Figure size 432x288 with 8 Axes>"
      ]
     },
     "metadata": {
      "needs_background": "light"
     },
     "output_type": "display_data"
    }
   ],
   "source": [
    "plt.figure()\n",
    "f, axarr = plt.subplots(1,8)\n",
    "for i in range(8):\n",
    "    image, label = mnist_train[i]\n",
    "    axarr[i].imshow(image[0])\n",
    "    axarr[i].set_title(label)"
   ]
  },
  {
   "cell_type": "markdown",
   "id": "953cc2ab",
   "metadata": {},
   "source": [
    "### 1.2 Dataset description\n",
    "- training set: 60.000 images\n",
    "- test set: 10.000 images\n",
    "- number of channels: 1 (greyscale)\n",
    "- height: 28px\n",
    "- width: 28px\n",
    "- features: 28x28px = 784\n",
    "- outputs: 10 categories\n",
    "\n",
    "https://github.com/zalandoresearch/fashion-mnist"
   ]
  },
  {
   "cell_type": "markdown",
   "id": "2997ba3f",
   "metadata": {},
   "source": [
    "## 2. Preparing DataLoaders to iterate over batches"
   ]
  },
  {
   "cell_type": "code",
   "execution_count": 166,
   "id": "8a5673f8",
   "metadata": {},
   "outputs": [],
   "source": [
    "def dloaders(batch_size):\n",
    "    train_loader = DataLoader(mnist_train, batch_size=batch_size, shuffle=True)\n",
    "    test_loader = DataLoader(mnist_test, batch_size=batch_size, shuffle=False)\n",
    "    return train_loader, test_loader"
   ]
  },
  {
   "cell_type": "markdown",
   "id": "dda262c9",
   "metadata": {},
   "source": [
    "## 3. Model definition\n",
    "$$\\mathbf{\\hat{o}} = \\mathbf{x}^T \\mathbf{W} + \\mathbf{b}$$"
   ]
  },
  {
   "cell_type": "markdown",
   "id": "9f93b62f",
   "metadata": {},
   "source": [
    "### 3.1. initialize model parameters\n",
    "init weights in ``nn.Sequential``: https://stackoverflow.com/questions/49433936/how-to-initialize-weights-in-pytorch"
   ]
  },
  {
   "cell_type": "code",
   "execution_count": 167,
   "id": "bba9efac",
   "metadata": {},
   "outputs": [],
   "source": [
    "def init_weights(m):\n",
    "    if isinstance(m, nn.Linear): # is model instance of nn.Linear?\n",
    "        nn.init.normal_(m.weight, std=0.01) # initialize weights with normal distribution\n",
    "        m.bias.data.fill_(0.01)"
   ]
  },
  {
   "cell_type": "markdown",
   "id": "ea2a198b",
   "metadata": {},
   "source": [
    "### 3.2. initialize model\n",
    "`torch.nn.Sequential(*args)` A sequential container. Modules will be added to it in the order they are passed in the constructor. Alternatively, an OrderedDict of modules can be passed in. The forward() method of Sequential accepts any input and forwards it to the first module it contains. It then “chains” outputs to inputs sequentially for each subsequent module, finally returning the output of the last module. https://pytorch.org/docs/stable/generated/torch.nn.Sequential.html\n",
    "\n",
    "`torch.nn.Flatten(start_dim=1, end_dim=- 1)` Flattening a tensor means to remove all of the dimensions except for one. Flattens a contiguous range of dims into a tensor. For use with `Sequential`. https://pytorch.org/docs/stable/generated/torch.nn.Flatten.html\n",
    "\n",
    "<img src=\"flatten.png\" width=\"400\">\n",
    "\n",
    "`torch.nn.Linear(in_features, out_features, bias=True, device=None, dtype=None)` Applies a linear transformation to the incoming data. https://pytorch.org/docs/stable/generated/torch.nn.Linear.html"
   ]
  },
  {
   "cell_type": "code",
   "execution_count": 168,
   "id": "9ef282ab",
   "metadata": {},
   "outputs": [],
   "source": [
    "def init_model(in_features, out_features):\n",
    "    model = nn.Sequential(nn.Flatten(), nn.Linear(in_features, out_features))\n",
    "    model.apply(init_weights)\n",
    "    return model"
   ]
  },
  {
   "cell_type": "markdown",
   "id": "b5360a97",
   "metadata": {},
   "source": [
    "## 4. Loss function (Cross Entropy Loss)\n",
    "`torch.nn.CrossEntropyLoss(weight=None, size_average=None, ignore_index=- 100, reduce=None, reduction='mean',...)`"
   ]
  },
  {
   "cell_type": "markdown",
   "id": "80574522",
   "metadata": {},
   "source": [
    "## 5. Optimization (SGD)\n",
    "`torch.optim.SGD(params, lr=<required parameter>, momentum=0, dampening=0, weight_decay=0, nesterov=False)`"
   ]
  },
  {
   "cell_type": "markdown",
   "id": "2cf30402",
   "metadata": {},
   "source": [
    "## 6. Training procedure"
   ]
  },
  {
   "cell_type": "code",
   "execution_count": 169,
   "id": "a82c6965",
   "metadata": {},
   "outputs": [],
   "source": [
    "train_losses, test_losses = list(), list()\n",
    "train_accuracies, test_accuracies = list(), list()\n",
    "# these lists are just for plotting\n",
    "plt_train_losses, plt_test_losses = list(), list()\n",
    "plt_train_accuracies, plt_test_accuracies = list(), list() \n",
    "\n",
    "def fit(model, train_loader, epochs, learning_rate, loss_func=nn.CrossEntropyLoss(), opt_func=torch.optim.SGD):\n",
    "    \n",
    "    loss = loss_func # computes softmax and then the cross entropy\n",
    "    optimizer = opt_func(model.parameters(), learning_rate) # objective function\n",
    "    \n",
    "    for epoch in range(epochs):\n",
    "        \n",
    "        \n",
    "        # --Training Phase--\n",
    "        \n",
    "        for i, (x_batch, y_batch) in enumerate(train_loader):\n",
    "\n",
    "            # 1. forward\n",
    "            y_hat = model(x_batch) # logits\n",
    "\n",
    "            # 2. compute objective function (softmax, cross entropy)\n",
    "            l = loss(y_hat, y_batch)\n",
    "\n",
    "            # 3. cleaning gradients\n",
    "            optimizer.zero_grad() # params.grad_zero_()\n",
    "\n",
    "            # 4. accumulate partial derivatives\n",
    "            l.backward() #params.grad.add_(dJ/dparams)\n",
    "\n",
    "            # 5. step in the opposite direction of the gradient\n",
    "            optimizer.step() # with torch.no_grad(): params = params - lr * params.grad\n",
    "            \n",
    "            # metrics\n",
    "            train_losses.append(l.item())\n",
    "            acc = accuracy(y_hat, y_batch)\n",
    "            train_accuracies.append(acc)\n",
    "        \n",
    "        # just for plotting\n",
    "        plt_train_accuracies.append(torch.tensor(train_accuracies).mean())\n",
    "        plt_train_losses.append(torch.tensor(train_losses).mean())\n",
    "        \n",
    "        print(f'Epoch {epoch + 1}', end=', ') \n",
    "        print(f'training loss = {torch.tensor(train_losses).mean():.2f}', end=', ')\n",
    "        print(f'training accuracy = {torch.tensor(train_accuracies).mean():.2f}')\n",
    "        \n",
    "        \n",
    "        # --Validation Phase--\n",
    "        \n",
    "        for i, (x_batch, y_batch) in enumerate(test_loader):\n",
    "            \n",
    "            with torch.no_grad():\n",
    "                y_hat = model(x_batch)\n",
    "            \n",
    "            l = loss(y_hat, y_batch)\n",
    "            \n",
    "            test_losses.append(l.item())\n",
    "            acc = accuracy(y_hat, y_batch)\n",
    "            test_accuracies.append(acc)\n",
    "        \n",
    "        # just for plotting\n",
    "        plt_test_accuracies.append(torch.tensor(test_accuracies).mean())\n",
    "        plt_test_losses.append(torch.tensor(test_losses).mean())\n",
    "        \n",
    "        print(f'Epoch {epoch + 1}', end=', ') \n",
    "        print(f'test loss = {torch.tensor(test_losses).mean():.2f}', end=', ')\n",
    "        print(f'test accuracy = {torch.tensor(test_accuracies).mean():.2f}')"
   ]
  },
  {
   "cell_type": "markdown",
   "id": "5d51962c",
   "metadata": {},
   "source": [
    "## 7. Accuracy\n",
    "Correct predicted samples / total\n",
    "$$ \\frac{\\hat{\\mathbf{y}}==y}{\\mathbf{n}} $$"
   ]
  },
  {
   "cell_type": "code",
   "execution_count": 170,
   "id": "87d4e119",
   "metadata": {},
   "outputs": [],
   "source": [
    "def accuracy(y_hat, y):\n",
    "    _, predictions = torch.max(y_hat, dim=1) # single class with highest probability. simply retain indices\n",
    "    correct = (predictions == y).float()\n",
    "    accuracy = correct.sum() / len(predictions) # same as .mean()\n",
    "    accuracy = torch.round(accuracy * 100)\n",
    "    return accuracy"
   ]
  },
  {
   "cell_type": "markdown",
   "id": "e1c9d1ac",
   "metadata": {},
   "source": [
    "Method to compare actual labels with given labels of test set. Simply prints the amount of correct & wrong classified"
   ]
  },
  {
   "cell_type": "code",
   "execution_count": 195,
   "id": "cc24337a",
   "metadata": {},
   "outputs": [],
   "source": [
    "def predict(model, test_loader):\n",
    "    wrong = 0\n",
    "    correct = 0\n",
    "    for X, y in test_loader:\n",
    "        trues = y\n",
    "        preds = model(X).argmax(axis=1)\n",
    "        for true, pred in zip(trues, preds):\n",
    "            if true != pred:\n",
    "                wrong += 1\n",
    "            else:\n",
    "                correct += 1\n",
    "    print(f'Correct classified: {correct}')\n",
    "    print(f'Wrong classified: {wrong}')\n",
    "    print(f'Total Accuracy: {correct / (correct + wrong) * 100}')"
   ]
  },
  {
   "cell_type": "markdown",
   "id": "0ac18ca6",
   "metadata": {},
   "source": [
    "## 8. Playground"
   ]
  },
  {
   "cell_type": "markdown",
   "id": "9b70a794",
   "metadata": {},
   "source": [
    "### 1. Attempt"
   ]
  },
  {
   "cell_type": "code",
   "execution_count": 171,
   "id": "908960a2",
   "metadata": {},
   "outputs": [],
   "source": [
    "# hyperparameters\n",
    "batch_size = 50\n",
    "epochs = 10\n",
    "learning_rate = 0.01"
   ]
  },
  {
   "cell_type": "code",
   "execution_count": 172,
   "id": "2f1829be",
   "metadata": {},
   "outputs": [
    {
     "name": "stdout",
     "output_type": "stream",
     "text": [
      "Epoch 1, training loss = 0.91, training accuracy = 72.72\n",
      "Epoch 1, test loss = 0.70, test accuracy = 77.06\n",
      "Epoch 2, training loss = 0.77, training accuracy = 76.22\n",
      "Epoch 2, test loss = 0.66, test accuracy = 78.25\n",
      "Epoch 3, training loss = 0.71, training accuracy = 77.90\n",
      "Epoch 3, test loss = 0.64, test accuracy = 79.04\n",
      "Epoch 4, training loss = 0.67, training accuracy = 78.98\n",
      "Epoch 4, test loss = 0.62, test accuracy = 79.64\n",
      "Epoch 5, training loss = 0.64, training accuracy = 79.72\n",
      "Epoch 5, test loss = 0.60, test accuracy = 80.07\n",
      "Epoch 6, training loss = 0.62, training accuracy = 80.30\n",
      "Epoch 6, test loss = 0.59, test accuracy = 80.40\n",
      "Epoch 7, training loss = 0.60, training accuracy = 80.74\n",
      "Epoch 7, test loss = 0.58, test accuracy = 80.65\n",
      "Epoch 8, training loss = 0.59, training accuracy = 81.11\n",
      "Epoch 8, test loss = 0.57, test accuracy = 80.90\n",
      "Epoch 9, training loss = 0.58, training accuracy = 81.42\n",
      "Epoch 9, test loss = 0.57, test accuracy = 81.11\n",
      "Epoch 10, training loss = 0.57, training accuracy = 81.68\n",
      "Epoch 10, test loss = 0.56, test accuracy = 81.28\n"
     ]
    }
   ],
   "source": [
    "train_loader, test_loader = dloaders(batch_size=batch_size) # data iters\n",
    "model = init_model(in_features=28*28, out_features=10) # model initialization\n",
    "fit(model, train_loader, epochs, learning_rate) # training"
   ]
  },
  {
   "cell_type": "code",
   "execution_count": 174,
   "id": "9d3a77fe",
   "metadata": {},
   "outputs": [
    {
     "data": {
      "image/png": "[encoded data removed]",
      "text/plain": [
       "<Figure size 432x288 with 2 Axes>"
      ]
     },
     "metadata": {
      "needs_background": "light"
     },
     "output_type": "display_data"
    }
   ],
   "source": [
    "# Losses\n",
    "plt.subplot(1, 2, 1)\n",
    "plt.plot(plt_train_losses, label='train')\n",
    "plt.plot(plt_test_losses, label='test')\n",
    "plt.legend()\n",
    "plt.title('Training/Test Loss')\n",
    "\n",
    "# Accuracies\n",
    "plt.subplot(1, 2, 2)\n",
    "plt.plot(plt_train_accuracies, label='train')\n",
    "plt.plot(plt_test_accuracies, label='test')\n",
    "plt.legend()\n",
    "plt.title('Training/Test Accuracy')\n",
    "\n",
    "plt.show()"
   ]
  },
  {
   "cell_type": "code",
   "execution_count": 196,
   "id": "1f25d1d0",
   "metadata": {},
   "outputs": [
    {
     "name": "stdout",
     "output_type": "stream",
     "text": [
      "Correct classified: 8358\n",
      "Wrong classified: 1642\n",
      "Total Accuracy: 83.58\n"
     ]
    }
   ],
   "source": [
    "predict(model, test_loader)"
   ]
  },
  {
   "cell_type": "markdown",
   "id": "c8fd48f0",
   "metadata": {},
   "source": [
    "### Summary 1. Attempt\n",
    "Some text"
   ]
  },
  {
   "cell_type": "markdown",
   "id": "25d88003",
   "metadata": {},
   "source": [
    "## 2. Attempt"
   ]
  },
  {
   "cell_type": "code",
   "execution_count": 175,
   "id": "a8f24ca1",
   "metadata": {},
   "outputs": [],
   "source": [
    "# hyperparameters\n",
    "batch_size = 126\n",
    "epochs = 30\n",
    "learning_rate = 0.05"
   ]
  },
  {
   "cell_type": "code",
   "execution_count": 176,
   "id": "cfe4ff6e",
   "metadata": {},
   "outputs": [
    {
     "name": "stdout",
     "output_type": "stream",
     "text": [
      "Epoch 1, training loss = 0.57, training accuracy = 81.45\n",
      "Epoch 1, test loss = 0.56, test accuracy = 81.17\n",
      "Epoch 2, training loss = 0.57, training accuracy = 81.45\n",
      "Epoch 2, test loss = 0.56, test accuracy = 81.08\n",
      "Epoch 3, training loss = 0.57, training accuracy = 81.50\n",
      "Epoch 3, test loss = 0.56, test accuracy = 81.10\n",
      "Epoch 4, training loss = 0.57, training accuracy = 81.56\n",
      "Epoch 4, test loss = 0.56, test accuracy = 81.12\n",
      "Epoch 5, training loss = 0.57, training accuracy = 81.64\n",
      "Epoch 5, test loss = 0.56, test accuracy = 81.18\n",
      "Epoch 6, training loss = 0.56, training accuracy = 81.72\n",
      "Epoch 6, test loss = 0.56, test accuracy = 81.22\n",
      "Epoch 7, training loss = 0.56, training accuracy = 81.81\n",
      "Epoch 7, test loss = 0.56, test accuracy = 81.28\n",
      "Epoch 8, training loss = 0.56, training accuracy = 81.89\n",
      "Epoch 8, test loss = 0.56, test accuracy = 81.33\n",
      "Epoch 9, training loss = 0.55, training accuracy = 81.98\n",
      "Epoch 9, test loss = 0.55, test accuracy = 81.30\n",
      "Epoch 10, training loss = 0.55, training accuracy = 82.06\n",
      "Epoch 10, test loss = 0.55, test accuracy = 81.35\n",
      "Epoch 11, training loss = 0.55, training accuracy = 82.15\n",
      "Epoch 11, test loss = 0.55, test accuracy = 81.41\n",
      "Epoch 12, training loss = 0.54, training accuracy = 82.23\n",
      "Epoch 12, test loss = 0.55, test accuracy = 81.46\n",
      "Epoch 13, training loss = 0.54, training accuracy = 82.31\n",
      "Epoch 13, test loss = 0.55, test accuracy = 81.51\n",
      "Epoch 14, training loss = 0.54, training accuracy = 82.39\n",
      "Epoch 14, test loss = 0.54, test accuracy = 81.57\n",
      "Epoch 15, training loss = 0.54, training accuracy = 82.46\n",
      "Epoch 15, test loss = 0.54, test accuracy = 81.62\n",
      "Epoch 16, training loss = 0.53, training accuracy = 82.54\n",
      "Epoch 16, test loss = 0.54, test accuracy = 81.67\n",
      "Epoch 17, training loss = 0.53, training accuracy = 82.61\n",
      "Epoch 17, test loss = 0.54, test accuracy = 81.71\n",
      "Epoch 18, training loss = 0.53, training accuracy = 82.68\n",
      "Epoch 18, test loss = 0.54, test accuracy = 81.76\n",
      "Epoch 19, training loss = 0.53, training accuracy = 82.75\n",
      "Epoch 19, test loss = 0.54, test accuracy = 81.81\n",
      "Epoch 20, training loss = 0.52, training accuracy = 82.82\n",
      "Epoch 20, test loss = 0.53, test accuracy = 81.85\n",
      "Epoch 21, training loss = 0.52, training accuracy = 82.88\n",
      "Epoch 21, test loss = 0.53, test accuracy = 81.90\n",
      "Epoch 22, training loss = 0.52, training accuracy = 82.94\n",
      "Epoch 22, test loss = 0.53, test accuracy = 81.94\n",
      "Epoch 23, training loss = 0.52, training accuracy = 83.00\n",
      "Epoch 23, test loss = 0.53, test accuracy = 81.98\n",
      "Epoch 24, training loss = 0.51, training accuracy = 83.06\n",
      "Epoch 24, test loss = 0.53, test accuracy = 82.02\n",
      "Epoch 25, training loss = 0.51, training accuracy = 83.12\n",
      "Epoch 25, test loss = 0.53, test accuracy = 82.06\n",
      "Epoch 26, training loss = 0.51, training accuracy = 83.18\n",
      "Epoch 26, test loss = 0.52, test accuracy = 82.10\n",
      "Epoch 27, training loss = 0.51, training accuracy = 83.24\n",
      "Epoch 27, test loss = 0.52, test accuracy = 82.12\n",
      "Epoch 28, training loss = 0.51, training accuracy = 83.29\n",
      "Epoch 28, test loss = 0.52, test accuracy = 82.16\n",
      "Epoch 29, training loss = 0.51, training accuracy = 83.34\n",
      "Epoch 29, test loss = 0.52, test accuracy = 82.19\n",
      "Epoch 30, training loss = 0.50, training accuracy = 83.39\n",
      "Epoch 30, test loss = 0.52, test accuracy = 82.22\n"
     ]
    }
   ],
   "source": [
    "train_loader, test_loader = dloaders(batch_size=batch_size) # data iters\n",
    "model = init_model(in_features=28*28, out_features=10) # model initialization\n",
    "fit(model, train_loader, epochs, learning_rate) # training"
   ]
  },
  {
   "cell_type": "code",
   "execution_count": 177,
   "id": "d9b7c446",
   "metadata": {},
   "outputs": [
    {
     "data": {
      "image/png": "[encoded data removed]",
      "text/plain": [
       "<Figure size 432x288 with 2 Axes>"
      ]
     },
     "metadata": {
      "needs_background": "light"
     },
     "output_type": "display_data"
    }
   ],
   "source": [
    "# Losses\n",
    "plt.subplot(1, 2, 1)\n",
    "plt.plot(plt_train_losses, label='train')\n",
    "plt.plot(plt_test_losses, label='test')\n",
    "plt.legend()\n",
    "plt.title('Training/Test Loss')\n",
    "\n",
    "# Accuracies\n",
    "plt.subplot(1, 2, 2)\n",
    "plt.plot(plt_train_accuracies, label='train')\n",
    "plt.plot(plt_test_accuracies, label='test')\n",
    "plt.legend()\n",
    "plt.title('Training/Test Accuracy')\n",
    "\n",
    "plt.show()"
   ]
  },
  {
   "cell_type": "code",
   "execution_count": 197,
   "id": "9ab39944",
   "metadata": {},
   "outputs": [
    {
     "name": "stdout",
     "output_type": "stream",
     "text": [
      "Correct classified: 8358\n",
      "Wrong classified: 1642\n",
      "Total Accuracy: 83.58\n"
     ]
    }
   ],
   "source": [
    "predict(model, test_loader)"
   ]
  }
 ],
 "metadata": {
  "kernelspec": {
   "display_name": "Python 3 (ipykernel)",
   "language": "python",
   "name": "python3"
  },
  "language_info": {
   "codemirror_mode": {
    "name": "ipython",
    "version": 3
   },
   "file_extension": ".py",
   "mimetype": "text/x-python",
   "name": "python",
   "nbconvert_exporter": "python",
   "pygments_lexer": "ipython3",
   "version": "3.8.0"
  }
 },
 "nbformat": 4,
 "nbformat_minor": 5
}
