{
 "cells": [
  {
   "cell_type": "markdown",
   "id": "5ffc3573",
   "metadata": {},
   "source": [
    "## Data pre-processing using pandas\n",
    "- clean datetime values (they are different formats)\n",
    "- merge x and y values\n",
    "- - ? probably best through their day interval ?"
   ]
  },
  {
   "cell_type": "code",
   "execution_count": null,
   "id": "4bfb1ab8",
   "metadata": {},
   "outputs": [],
   "source": [
    "import pandas as pd\n",
    "df = pd.read_csv(\"data\\data_X.csv\", engine='python', sep=',', encoding='utf8')\n",
    "print(df.head(100))"
   ]
  },
  {
   "cell_type": "code",
   "execution_count": null,
   "id": "139e3f80",
   "metadata": {},
   "outputs": [],
   "source": []
  }
 ],
 "metadata": {
  "kernelspec": {
   "display_name": "Python 3 (ipykernel)",
   "language": "python",
   "name": "python3"
  },
  "language_info": {
   "codemirror_mode": {
    "name": "ipython",
    "version": 3
   },
   "file_extension": ".py",
   "mimetype": "text/x-python",
   "name": "python",
   "nbconvert_exporter": "python",
   "pygments_lexer": "ipython3",
   "version": "3.8.0"
  }
 },
 "nbformat": 4,
 "nbformat_minor": 5
}
