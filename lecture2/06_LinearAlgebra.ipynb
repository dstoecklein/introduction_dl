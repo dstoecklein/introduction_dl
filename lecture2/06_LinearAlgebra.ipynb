{
 "cells": [
  {
   "cell_type": "markdown",
   "id": "09213e4a",
   "metadata": {
    "slideshow": {
     "slide_type": "slide"
    }
   },
   "source": [
    "# Linear algebra in PyTorch\n",
    "\n",
    "* objects\n",
    "* operations"
   ]
  },
  {
   "cell_type": "markdown",
   "id": "ab098154",
   "metadata": {
    "slideshow": {
     "slide_type": "slide"
    }
   },
   "source": [
    "## Scalars\n",
    "\n",
    "tensors with 1 element, they have no shape (size)."
   ]
  },
  {
   "cell_type": "code",
   "execution_count": null,
   "id": "ed7c4774",
   "metadata": {},
   "outputs": [],
   "source": [
    "import torch\n",
    "x, y = torch.tensor(2.58), torch.tensor(1276)\n",
    "x, y"
   ]
  },
  {
   "cell_type": "code",
   "execution_count": null,
   "id": "c9603898",
   "metadata": {},
   "outputs": [],
   "source": [
    "x.shape, x.numel(), x.dtype, y.dtype"
   ]
  },
  {
   "cell_type": "markdown",
   "id": "e7d14a29",
   "metadata": {
    "slideshow": {
     "slide_type": "slide"
    }
   },
   "source": [
    "## Vectors\n",
    "\n",
    "1-dim `torch.tensor`"
   ]
  },
  {
   "cell_type": "code",
   "execution_count": null,
   "id": "baaa339f",
   "metadata": {},
   "outputs": [],
   "source": [
    "x = torch.arange(5)\n",
    "x"
   ]
  },
  {
   "cell_type": "code",
   "execution_count": null,
   "id": "3e007c7e",
   "metadata": {},
   "outputs": [],
   "source": [
    "x.shape, x.numel(), len(x), x.dtype"
   ]
  },
  {
   "cell_type": "markdown",
   "id": "b9b43bea",
   "metadata": {
    "slideshow": {
     "slide_type": "slide"
    }
   },
   "source": [
    "\n",
    "## Matrices\n",
    "\n",
    "2-dim `torch.tensor`"
   ]
  },
  {
   "cell_type": "code",
   "execution_count": null,
   "id": "efdf06da",
   "metadata": {},
   "outputs": [],
   "source": [
    "A = torch.arange(12).view(3, 4)\n",
    "A"
   ]
  },
  {
   "cell_type": "code",
   "execution_count": null,
   "id": "f84edd73",
   "metadata": {},
   "outputs": [],
   "source": [
    "A.shape, A.numel(), len(A), A.dtype"
   ]
  },
  {
   "cell_type": "markdown",
   "id": "73a9407f",
   "metadata": {
    "slideshow": {
     "slide_type": "slide"
    }
   },
   "source": [
    "## Tensors\n",
    "\n",
    "higher-dim `torch.tensor`"
   ]
  },
  {
   "cell_type": "code",
   "execution_count": null,
   "id": "488bfcf2",
   "metadata": {},
   "outputs": [],
   "source": [
    "Z = torch.arange(24).view(-1, 3, 4)\n",
    "Z"
   ]
  },
  {
   "cell_type": "code",
   "execution_count": null,
   "id": "164c3ad8",
   "metadata": {},
   "outputs": [],
   "source": [
    "Z.shape, Z.numel(), len(Z), Z.dtype"
   ]
  },
  {
   "cell_type": "markdown",
   "id": "3adf9137",
   "metadata": {
    "slideshow": {
     "slide_type": "slide"
    }
   },
   "source": [
    "## Basic operations\n",
    "\n",
    "### Transpose - flip axes"
   ]
  },
  {
   "cell_type": "code",
   "execution_count": null,
   "id": "0d90c4f2",
   "metadata": {},
   "outputs": [],
   "source": [
    "A, A.T"
   ]
  },
  {
   "cell_type": "code",
   "execution_count": null,
   "id": "3256bc9a",
   "metadata": {},
   "outputs": [],
   "source": [
    "A.shape, A.T.shape"
   ]
  },
  {
   "cell_type": "markdown",
   "id": "f2cedb7a",
   "metadata": {
    "origin_pos": 52,
    "slideshow": {
     "slide_type": "slide"
    }
   },
   "source": [
    "## Reduction operation\n",
    "There are many, check documentation\n"
   ]
  },
  {
   "cell_type": "code",
   "execution_count": null,
   "id": "a84a9d60",
   "metadata": {
    "origin_pos": 54,
    "tab": [
     "pytorch"
    ]
   },
   "outputs": [],
   "source": [
    "x = torch.arange(4, dtype=torch.float32)\n",
    "x, x.sum()"
   ]
  },
  {
   "cell_type": "markdown",
   "id": "c20a32cb",
   "metadata": {
    "origin_pos": 56,
    "slideshow": {
     "slide_type": "slide"
    }
   },
   "source": [
    "### Reduction axis specification"
   ]
  },
  {
   "cell_type": "code",
   "execution_count": null,
   "id": "94de7293",
   "metadata": {
    "origin_pos": 58,
    "tab": [
     "pytorch"
    ]
   },
   "outputs": [],
   "source": [
    "# reduce all elements\n",
    "A.shape, A.sum()"
   ]
  },
  {
   "cell_type": "code",
   "execution_count": null,
   "id": "edf39f0b",
   "metadata": {
    "origin_pos": 62,
    "tab": [
     "pytorch"
    ]
   },
   "outputs": [],
   "source": [
    "# reduce along axis=0 (rows)\n",
    "A_sum_axis0 = A.sum(axis=0)\n",
    "A_sum_axis0, A_sum_axis0.shape"
   ]
  },
  {
   "cell_type": "code",
   "execution_count": null,
   "id": "71fa74dc",
   "metadata": {
    "origin_pos": 66,
    "tab": [
     "pytorch"
    ]
   },
   "outputs": [],
   "source": [
    "# reduce along axis=1 (columns)\n",
    "A_sum_axis1 = A.sum(axis=1)\n",
    "A_sum_axis1, A_sum_axis1.shape"
   ]
  },
  {
   "cell_type": "code",
   "execution_count": null,
   "id": "c869664f",
   "metadata": {
    "origin_pos": 70,
    "tab": [
     "pytorch"
    ]
   },
   "outputs": [],
   "source": [
    "# reduce along all axis\n",
    "A.sum(axis=[0, 1]), A.sum()"
   ]
  },
  {
   "cell_type": "markdown",
   "id": "2c15d44a",
   "metadata": {
    "origin_pos": 80,
    "slideshow": {
     "slide_type": "slide"
    }
   },
   "source": [
    "### Non-Reduction Sum\n",
    "\n",
    "Reduce elements but keep number of axes unchanged `keepdims=True`(useful for broadcasting)\n"
   ]
  },
  {
   "cell_type": "code",
   "execution_count": null,
   "id": "d96bd9c7",
   "metadata": {
    "origin_pos": 82,
    "tab": [
     "pytorch"
    ]
   },
   "outputs": [],
   "source": [
    "A.sum(axis=1, keepdims=True), A.sum(axis=1, keepdims=True).shape"
   ]
  },
  {
   "cell_type": "code",
   "execution_count": null,
   "id": "7902705a",
   "metadata": {},
   "outputs": [],
   "source": [
    "A.sum(axis=1), A.sum(axis=1).shape"
   ]
  },
  {
   "cell_type": "markdown",
   "id": "026e3d4f",
   "metadata": {
    "origin_pos": 92,
    "slideshow": {
     "slide_type": "slide"
    }
   },
   "source": [
    "## Dot Products\n",
    "\n",
    "two vectors $\\mathbf{x}, \\mathbf{y} \\in \\mathbb{R}^d$\n",
    "\n",
    "**dot product**: $\\quad \\mathbf{x}^\\top \\mathbf{y} = \\langle \\mathbf{x}, \\mathbf{y}  \\rangle = \\sum_{i=1}^{d} x_i y_i$."
   ]
  },
  {
   "cell_type": "code",
   "execution_count": null,
   "id": "f7997c1c",
   "metadata": {
    "origin_pos": 94,
    "tab": [
     "pytorch"
    ]
   },
   "outputs": [],
   "source": [
    "x = torch.arange(4.)\n",
    "y = torch.ones(4, dtype=torch.float32)\n",
    "x, y"
   ]
  },
  {
   "cell_type": "code",
   "execution_count": null,
   "id": "729f374b",
   "metadata": {},
   "outputs": [],
   "source": [
    "x, y, torch.dot(x, y), (x*y).sum(), x.dot(y)"
   ]
  },
  {
   "cell_type": "markdown",
   "id": "b51f5af0",
   "metadata": {
    "origin_pos": 100,
    "slideshow": {
     "slide_type": "slide"
    }
   },
   "source": [
    "## Matrix-Vector Products\n",
    "\n",
    "matrix $\\mathbf{A} \\in \\mathbb{R}^{m \\times n}$ and vector $\\mathbf{x} \\in \\mathbb{R}^n$"
   ]
  },
  {
   "cell_type": "code",
   "execution_count": null,
   "id": "101a54e9",
   "metadata": {
    "origin_pos": 105,
    "tab": [
     "pytorch"
    ]
   },
   "outputs": [],
   "source": [
    "A = torch.randn(3,4)\n",
    "A"
   ]
  },
  {
   "cell_type": "code",
   "execution_count": null,
   "id": "ac3bf6e4",
   "metadata": {},
   "outputs": [],
   "source": [
    "A.shape, x.shape, torch.mv(A, x), A.mv(x), A[2,:].dot(x)"
   ]
  },
  {
   "cell_type": "markdown",
   "id": "ca6415f0",
   "metadata": {
    "origin_pos": 107,
    "slideshow": {
     "slide_type": "slide"
    }
   },
   "source": [
    "## Matrix-Matrix Multiplication\n",
    "\n",
    "$\\mathbf{A} \\in \\mathbb{R}^{n \\times k}$ and $\\mathbf{B} \\in \\mathbb{R}^{k \\times m}$:"
   ]
  },
  {
   "cell_type": "code",
   "execution_count": null,
   "id": "1682498b",
   "metadata": {
    "origin_pos": 109,
    "tab": [
     "pytorch"
    ]
   },
   "outputs": [],
   "source": [
    "n, k, m = 3, 4, 2\n",
    "A, B = torch.randn(n,k), torch.randn(k, m)\n",
    "C = torch.mm(A, B)\n",
    "C, C.shape"
   ]
  },
  {
   "cell_type": "markdown",
   "id": "012a99b7",
   "metadata": {
    "slideshow": {
     "slide_type": "slide"
    }
   },
   "source": [
    "`torch.matmul` generic function for all the above"
   ]
  },
  {
   "cell_type": "code",
   "execution_count": null,
   "id": "e001c626",
   "metadata": {},
   "outputs": [],
   "source": [
    "torch.matmul(x, y), torch.matmul(A, x), torch.matmul(A, B)"
   ]
  },
  {
   "cell_type": "markdown",
   "id": "24d7781d",
   "metadata": {
    "origin_pos": 111,
    "slideshow": {
     "slide_type": "slide"
    }
   },
   "source": [
    "## Norms\n",
    "$L_2$ norm $\\qquad \\|\\mathbf{x}\\| = \\|\\mathbf{x}\\|_2 = \\sqrt{\\sum_i x_i^2}$."
   ]
  },
  {
   "cell_type": "code",
   "execution_count": null,
   "id": "6e741a89",
   "metadata": {
    "origin_pos": 113,
    "tab": [
     "pytorch"
    ]
   },
   "outputs": [],
   "source": [
    "x, torch.norm(x), torch.norm(x[:2])"
   ]
  },
  {
   "cell_type": "markdown",
   "id": "d864dc33",
   "metadata": {
    "origin_pos": 115,
    "slideshow": {
     "slide_type": "slide"
    }
   },
   "source": [
    "### Other norms\n",
    "\n",
    "$L_1$ norm $\\qquad \\|\\mathbf{x}\\|_1 = \\sum_{i=1}^n \\left|x_i \\right|$\n",
    "\n",
    "\n",
    "$L_p$ norm $\\qquad \\|\\mathbf{x}\\|_p = \\left(\\sum_{i=1}^n \\left|x_i \\right|^p \\right)^{1/p}$\n",
    "\n",
    "Frobenious norm $\\qquad \\|\\mathbf{X}\\|_F = \\sqrt{\\sum_{i=1}^m \\sum_{j=1}^n x_{ij}^2}$"
   ]
  },
  {
   "cell_type": "code",
   "execution_count": null,
   "id": "a9d3d164",
   "metadata": {
    "origin_pos": 117,
    "tab": [
     "pytorch"
    ]
   },
   "outputs": [],
   "source": [
    "x, torch.abs(x).sum(), torch.norm(x, 1), torch.norm(x, 3.)"
   ]
  },
  {
   "cell_type": "code",
   "execution_count": null,
   "id": "586b9851",
   "metadata": {},
   "outputs": [],
   "source": [
    "A, torch.norm(A), torch.norm(A, 'fro'), torch.norm(A.flatten(), 2)"
   ]
  }
 ],
 "metadata": {
  "celltoolbar": "Slideshow",
  "kernelspec": {
   "display_name": "Python 3 (ipykernel)",
   "language": "python",
   "name": "python3"
  },
  "language_info": {
   "codemirror_mode": {
    "name": "ipython",
    "version": 3
   },
   "file_extension": ".py",
   "mimetype": "text/x-python",
   "name": "python",
   "nbconvert_exporter": "python",
   "pygments_lexer": "ipython3",
   "version": "3.9.7"
  }
 },
 "nbformat": 4,
 "nbformat_minor": 5
}
