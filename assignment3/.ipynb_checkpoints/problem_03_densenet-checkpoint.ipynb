{
 "cells": [
  {
   "cell_type": "markdown",
   "id": "28f0233e",
   "metadata": {
    "id": "28f0233e"
   },
   "source": [
    "## Authors:\n",
    "#### Daniel Stöckein (5018039), Alexander Triol (5018451)"
   ]
  },
  {
   "cell_type": "code",
   "execution_count": 4,
   "id": "8774d5ec",
   "metadata": {
    "executionInfo": {
     "elapsed": 5805,
     "status": "ok",
     "timestamp": 1640717594787,
     "user": {
      "displayName": "Daniel Stöcklein",
      "photoUrl": "https://lh3.googleusercontent.com/a-/AOh14Gi33pVgYI64xYI25ZQ0bqhA_UOee29NpS9DkGmi=s64",
      "userId": "00224803795401246365"
     },
     "user_tz": -60
    },
    "id": "8774d5ec"
   },
   "outputs": [],
   "source": [
    "import pandas as pd\n",
    "import numpy as np\n",
    "import torch\n",
    "from torch import nn\n",
    "import torch.nn.functional as F\n",
    "from torch.utils.data import DataLoader, TensorDataset\n",
    "from torchvision import datasets, transforms\n",
    "from matplotlib import pyplot as plt\n",
    "%matplotlib inline\n",
    "import time"
   ]
  },
  {
   "cell_type": "code",
   "execution_count": 5,
   "id": "d5f0eca1",
   "metadata": {
    "executionInfo": {
     "elapsed": 6,
     "status": "ok",
     "timestamp": 1640717594788,
     "user": {
      "displayName": "Daniel Stöcklein",
      "photoUrl": "https://lh3.googleusercontent.com/a-/AOh14Gi33pVgYI64xYI25ZQ0bqhA_UOee29NpS9DkGmi=s64",
      "userId": "00224803795401246365"
     },
     "user_tz": -60
    },
    "id": "d5f0eca1"
   },
   "outputs": [],
   "source": [
    "device = torch.device(\"cuda\" if torch.cuda.is_available() else \"cpu\")"
   ]
  },
  {
   "cell_type": "markdown",
   "id": "26f80e81",
   "metadata": {
    "id": "26f80e81"
   },
   "source": [
    "## 1. Load Data"
   ]
  },
  {
   "cell_type": "code",
   "execution_count": 6,
   "id": "476534eb",
   "metadata": {
    "colab": {
     "base_uri": "https://localhost:8080/",
     "height": 435,
     "referenced_widgets": [
      "078837b295564314bfe4add510b41ee7",
      "a6f99b6638c647a49948f422564e8223",
      "8260840741b64bba8f86c4824f62e6e8",
      "4e9b2dd8d82f4a54ad588faa59f36cd1",
      "56266b6cd715457885e4796b617bd58a",
      "157b509c66764e8397f6a7e89ce5f4ed",
      "ea40dfb78ad142558fcdd4749dfb7401",
      "95376b991275409fabdfd56a433151e6",
      "b8ba1d0e2ed44c40b0f2f5bca10acc5f",
      "ffe08acd76084cf39e983d841a667692",
      "5fcb861e262c4b60bdd65555be18ee9f",
      "76b6e2f2febf4e36b662076f8ac33b78",
      "edeebcad6abd477bbd75dff0d71b4dde",
      "562cb99c1aa6472aab761ceb7649426e",
      "e0eaacfd13f544a8af82a71563a18492",
      "18fefd9cfb1c4ebb997041deb6fe09a3",
      "b2b9391c90254ffeb360be874c943a19",
      "5faf990d74244ff9bcd2decd975a3433",
      "79d81c9e2ada45fd864af1710c109384",
      "bda4043101ba4ba3b9dbee949f1e9d3e",
      "2aeed5c1922a43569830360d5e54d435",
      "f8e1cca2e4fb4df48fbf580957b1c688",
      "b42129555f7e404691537437a2d9a408",
      "ae2df34fefd143538ea8bae2d32ba982",
      "c017a064939e49aca5eac687949feaf1",
      "8511dec74e504c3d8a96a77484ba96be",
      "466783dea9fd4fd992e51420e0a5ecd3",
      "0b04085544144998bbe9c253f35b8968",
      "049d25ecd0004293a5691577cb382743",
      "94341c237e084023958ecd3122e14f49",
      "50b421d53a7e40adb72d719c0b1e50fb",
      "fe5a4b83eae946b386183c7bdbb1e918",
      "6366af7160264495affbc203f54f2a5b",
      "f7126ff68a9144e1b698385d37a25127",
      "3f782d881eff4e9ba248547e62ca2602",
      "5ac945ac6a624ef98b71564350abf3ba",
      "5432f0d137864be08bdd9a479a48a7ab",
      "a16e7415c45e46f685192aaccabb2b27",
      "cc4941b945ed4f6ab16c2a3cc776407b",
      "01be35cf81564ebe967144db0b71b2b0",
      "767ef726ea4043b4bd7c6b0f73b270ed",
      "20e85561c2124141aabbab86676c1b51",
      "692651ce795140678e362d262ccd8695",
      "080ef53e67744f7d9e37a7153688a5dc"
     ]
    },
    "executionInfo": {
     "elapsed": 5901,
     "status": "ok",
     "timestamp": 1640717602919,
     "user": {
      "displayName": "Daniel Stöcklein",
      "photoUrl": "https://lh3.googleusercontent.com/a-/AOh14Gi33pVgYI64xYI25ZQ0bqhA_UOee29NpS9DkGmi=s64",
      "userId": "00224803795401246365"
     },
     "user_tz": -60
    },
    "id": "476534eb",
    "outputId": "a7c38c90-dfdd-4416-a5db-3c56bbf452e6"
   },
   "outputs": [
    {
     "name": "stdout",
     "output_type": "stream",
     "text": [
      "Downloading http://fashion-mnist.s3-website.eu-central-1.amazonaws.com/train-images-idx3-ubyte.gz\n",
      "Downloading http://fashion-mnist.s3-website.eu-central-1.amazonaws.com/train-images-idx3-ubyte.gz to ..\\datasets/FashionMNIST/raw/train-images-idx3-ubyte.gz\n"
     ]
    },
    {
     "data": {
      "application/vnd.jupyter.widget-view+json": {
       "model_id": "078837b295564314bfe4add510b41ee7",
       "version_major": 2,
       "version_minor": 0
      },
      "text/plain": [
       "  0%|          | 0/26421880 [00:00<?, ?it/s]"
      ]
     },
     "metadata": {},
     "output_type": "display_data"
    },
    {
     "name": "stdout",
     "output_type": "stream",
     "text": [
      "Extracting ..\\datasets/FashionMNIST/raw/train-images-idx3-ubyte.gz to ..\\datasets/FashionMNIST/raw\n",
      "\n",
      "Downloading http://fashion-mnist.s3-website.eu-central-1.amazonaws.com/train-labels-idx1-ubyte.gz\n",
      "Downloading http://fashion-mnist.s3-website.eu-central-1.amazonaws.com/train-labels-idx1-ubyte.gz to ..\\datasets/FashionMNIST/raw/train-labels-idx1-ubyte.gz\n"
     ]
    },
    {
     "data": {
      "application/vnd.jupyter.widget-view+json": {
       "model_id": "76b6e2f2febf4e36b662076f8ac33b78",
       "version_major": 2,
       "version_minor": 0
      },
      "text/plain": [
       "  0%|          | 0/29515 [00:00<?, ?it/s]"
      ]
     },
     "metadata": {},
     "output_type": "display_data"
    },
    {
     "name": "stdout",
     "output_type": "stream",
     "text": [
      "Extracting ..\\datasets/FashionMNIST/raw/train-labels-idx1-ubyte.gz to ..\\datasets/FashionMNIST/raw\n",
      "\n",
      "Downloading http://fashion-mnist.s3-website.eu-central-1.amazonaws.com/t10k-images-idx3-ubyte.gz\n",
      "Downloading http://fashion-mnist.s3-website.eu-central-1.amazonaws.com/t10k-images-idx3-ubyte.gz to ..\\datasets/FashionMNIST/raw/t10k-images-idx3-ubyte.gz\n"
     ]
    },
    {
     "data": {
      "application/vnd.jupyter.widget-view+json": {
       "model_id": "b42129555f7e404691537437a2d9a408",
       "version_major": 2,
       "version_minor": 0
      },
      "text/plain": [
       "  0%|          | 0/4422102 [00:00<?, ?it/s]"
      ]
     },
     "metadata": {},
     "output_type": "display_data"
    },
    {
     "name": "stdout",
     "output_type": "stream",
     "text": [
      "Extracting ..\\datasets/FashionMNIST/raw/t10k-images-idx3-ubyte.gz to ..\\datasets/FashionMNIST/raw\n",
      "\n",
      "Downloading http://fashion-mnist.s3-website.eu-central-1.amazonaws.com/t10k-labels-idx1-ubyte.gz\n",
      "Downloading http://fashion-mnist.s3-website.eu-central-1.amazonaws.com/t10k-labels-idx1-ubyte.gz to ..\\datasets/FashionMNIST/raw/t10k-labels-idx1-ubyte.gz\n"
     ]
    },
    {
     "data": {
      "application/vnd.jupyter.widget-view+json": {
       "model_id": "f7126ff68a9144e1b698385d37a25127",
       "version_major": 2,
       "version_minor": 0
      },
      "text/plain": [
       "  0%|          | 0/5148 [00:00<?, ?it/s]"
      ]
     },
     "metadata": {},
     "output_type": "display_data"
    },
    {
     "name": "stdout",
     "output_type": "stream",
     "text": [
      "Extracting ..\\datasets/FashionMNIST/raw/t10k-labels-idx1-ubyte.gz to ..\\datasets/FashionMNIST/raw\n",
      "\n"
     ]
    }
   ],
   "source": [
    "mnist_train = datasets.FashionMNIST(\n",
    "    root='..\\datasets', \n",
    "    train=True, \n",
    "    download=True, \n",
    "    transform=transforms.ToTensor()\n",
    ")\n",
    "\n",
    "mnist_test = datasets.FashionMNIST(\n",
    "    root='..\\datasets', \n",
    "    train=False, \n",
    "    download=True, \n",
    "    transform=transforms.ToTensor()\n",
    ")"
   ]
  },
  {
   "cell_type": "markdown",
   "id": "2de41fb1",
   "metadata": {
    "id": "2de41fb1"
   },
   "source": [
    "## 2. Preparing DataLoader"
   ]
  },
  {
   "cell_type": "code",
   "execution_count": 7,
   "id": "ff48f4cd",
   "metadata": {
    "executionInfo": {
     "elapsed": 175,
     "status": "ok",
     "timestamp": 1640717605861,
     "user": {
      "displayName": "Daniel Stöcklein",
      "photoUrl": "https://lh3.googleusercontent.com/a-/AOh14Gi33pVgYI64xYI25ZQ0bqhA_UOee29NpS9DkGmi=s64",
      "userId": "00224803795401246365"
     },
     "user_tz": -60
    },
    "id": "ff48f4cd"
   },
   "outputs": [],
   "source": [
    "def dloaders(batch_size):\n",
    "    train_loader = DataLoader(mnist_train, batch_size=batch_size, shuffle=True)\n",
    "    test_loader = DataLoader(mnist_test, batch_size=batch_size, shuffle=False)\n",
    "    return train_loader, test_loader"
   ]
  },
  {
   "cell_type": "markdown",
   "id": "3207060d",
   "metadata": {
    "id": "3207060d"
   },
   "source": [
    "## 3. Model definition"
   ]
  },
  {
   "cell_type": "markdown",
   "id": "8621044d",
   "metadata": {
    "id": "8621044d"
   },
   "source": [
    "### 3.1 Dense Layer\n",
    "``DenseLayer`` is the implementation of a single layer inside a ``DenseBlock``. \n",
    "- batch normalization\n",
    "- ReLU\n",
    "- 3x3 convolution"
   ]
  },
  {
   "cell_type": "code",
   "execution_count": 8,
   "id": "147862f6",
   "metadata": {
    "executionInfo": {
     "elapsed": 181,
     "status": "ok",
     "timestamp": 1640717607551,
     "user": {
      "displayName": "Daniel Stöcklein",
      "photoUrl": "https://lh3.googleusercontent.com/a-/AOh14Gi33pVgYI64xYI25ZQ0bqhA_UOee29NpS9DkGmi=s64",
      "userId": "00224803795401246365"
     },
     "user_tz": -60
    },
    "id": "147862f6"
   },
   "outputs": [],
   "source": [
    "class DenseLayer(nn.Module):\n",
    "    \n",
    "    def __init__(self, input_channels, output_channels):\n",
    "        super(DenseLayer, self).__init__()\n",
    "        \n",
    "        self.layer = nn.Sequential(\n",
    "            nn.BatchNorm2d(input_channels),\n",
    "            nn.ReLU(),\n",
    "            nn.Conv2d(input_channels, output_channels, kernel_size=3, padding=1)\n",
    "        )\n",
    "        \n",
    "    def forward(self, x):\n",
    "        out = self.layer(x)\n",
    "        out = torch.cat((out, x), dim=1)\n",
    "        return out"
   ]
  },
  {
   "cell_type": "markdown",
   "id": "e30b27e6",
   "metadata": {
    "id": "e30b27e6"
   },
   "source": [
    "### 3.2 Dense Block\n",
    "``DenseBlock`` contains multiple ``DenseLayers`` applied in a sequence. Each dense layser has input:\n",
    "- original input + concatination of previous layers"
   ]
  },
  {
   "cell_type": "code",
   "execution_count": 9,
   "id": "83306cb3",
   "metadata": {
    "executionInfo": {
     "elapsed": 297,
     "status": "ok",
     "timestamp": 1640717608881,
     "user": {
      "displayName": "Daniel Stöcklein",
      "photoUrl": "https://lh3.googleusercontent.com/a-/AOh14Gi33pVgYI64xYI25ZQ0bqhA_UOee29NpS9DkGmi=s64",
      "userId": "00224803795401246365"
     },
     "user_tz": -60
    },
    "id": "83306cb3"
   },
   "outputs": [],
   "source": [
    "class DenseBlock(nn.Module):\n",
    "    \n",
    "    def __init__(self, input_channels, output_channels, num_layers):\n",
    "        super(DenseBlock, self).__init__()\n",
    "        \n",
    "        layers = []\n",
    "        for layer_index in range(num_layers): # e.g 5 repitions when num_layers = 5\n",
    "            layers.append(\n",
    "                DenseLayer(\n",
    "                    input_channels + layer_index * output_channels,\n",
    "                    output_channels\n",
    "                )\n",
    "            )\n",
    "            \n",
    "        # https://discuss.pytorch.org/t/append-for-nn-sequential-or-directly-converting-nn-modulelist-to-nn-sequential/7104\n",
    "        self.block = nn.Sequential(*layers) \n",
    "        \n",
    "    def forward(self, x):\n",
    "        out = self.block(x)\n",
    "        return out"
   ]
  },
  {
   "cell_type": "markdown",
   "id": "90e25d48",
   "metadata": {
    "id": "90e25d48"
   },
   "source": [
    "### 3.3 Transition Layer\n",
    "Transition layer to perform downsampling. Reducing the dimensionality using a 1v1 conv layer. Average pooling to reduce height and width dimension."
   ]
  },
  {
   "cell_type": "code",
   "execution_count": 10,
   "id": "f7a3f37c",
   "metadata": {
    "executionInfo": {
     "elapsed": 1,
     "status": "ok",
     "timestamp": 1640717609776,
     "user": {
      "displayName": "Daniel Stöcklein",
      "photoUrl": "https://lh3.googleusercontent.com/a-/AOh14Gi33pVgYI64xYI25ZQ0bqhA_UOee29NpS9DkGmi=s64",
      "userId": "00224803795401246365"
     },
     "user_tz": -60
    },
    "id": "f7a3f37c"
   },
   "outputs": [],
   "source": [
    "class TransitionLayer(nn.Module):\n",
    "    \n",
    "    def __init__(self, input_channels, output_channels):\n",
    "        super(TransitionLayer, self).__init__()\n",
    "\n",
    "        self.transition = nn.Sequential(\n",
    "            nn.BatchNorm2d(input_channels),\n",
    "            nn.ReLU(),\n",
    "            nn.Conv2d(input_channels, output_channels, kernel_size=1),\n",
    "            nn.AvgPool2d(kernel_size=2, stride=2)\n",
    "        )      \n",
    "        \n",
    "    def forward(self, x):\n",
    "        out = self.transition(x)\n",
    "        return out"
   ]
  },
  {
   "cell_type": "markdown",
   "id": "2c611d38",
   "metadata": {
    "id": "2c611d38"
   },
   "source": [
    "### 3.4 Net\n",
    "- Before the first DenseBlock the inputs are passed through 3x3 convolution (preserving spatial dimensions) with 4 output channels and average pooling with stride 2 (no padding) to reduce the size.\n",
    "- After that the blocks should be build and transition layers applied\n",
    "- Finally, apply global average pooling, flatten the output and pass it as input to FC layer\n",
    "- Some code snippets from\n",
    "- - https://amaarora.github.io/2020/08/02/densenets.html\n",
    "- - https://towardsdatascience.com/simple-implementation-of-densely-connected-convolutional-networks-in-pytorch-3846978f2f36"
   ]
  },
  {
   "cell_type": "code",
   "execution_count": 11,
   "id": "516b1093",
   "metadata": {
    "executionInfo": {
     "elapsed": 192,
     "status": "ok",
     "timestamp": 1640717611717,
     "user": {
      "displayName": "Daniel Stöcklein",
      "photoUrl": "https://lh3.googleusercontent.com/a-/AOh14Gi33pVgYI64xYI25ZQ0bqhA_UOee29NpS9DkGmi=s64",
      "userId": "00224803795401246365"
     },
     "user_tz": -60
    },
    "id": "516b1093"
   },
   "outputs": [],
   "source": [
    "class DenseNet(nn.Module):\n",
    "    def __init__(self, input_channels, num_classes):\n",
    "        super(DenseNet, self).__init__()\n",
    "        \n",
    "        output_channels = 4\n",
    "        growth_rate = 32\n",
    "        num_layers_per_block = [3, 3] # 3 layers and 2 blocks\n",
    "        \n",
    "        self.net_input = nn.Sequential(\n",
    "            nn.Conv2d(in_channels=input_channels, out_channels=output_channels, kernel_size=3),\n",
    "            nn.AvgPool2d(kernel_size=3, stride=2)\n",
    "        )\n",
    "        \n",
    "        blocks = []\n",
    "        for block_index, num_layers in enumerate(num_layers_per_block):\n",
    "            blocks.append(\n",
    "                DenseBlock(output_channels, growth_rate, num_layers)\n",
    "            )\n",
    "            output_channels += num_layers * growth_rate \n",
    "            \n",
    "            if block_index < len(num_layers_per_block) - 1:\n",
    "                blocks.append(\n",
    "                    TransitionLayer(output_channels, 4)\n",
    "                )\n",
    "                output_channels = 4\n",
    "                \n",
    "        self.blocks = nn.Sequential(*blocks)\n",
    "        \n",
    "        self.net_output = nn.Sequential(\n",
    "            nn.BatchNorm2d(output_channels),\n",
    "            nn.ReLU(),\n",
    "            nn.AdaptiveMaxPool2d((1, 1)),\n",
    "            nn.Flatten(),\n",
    "            nn.Linear(output_channels, num_classes)\n",
    "        )\n",
    "        \n",
    "    def forward(self, x):  \n",
    "        out = self.net_input(x)\n",
    "        out = self.blocks(out)\n",
    "        out = self.net_output(out)\n",
    "        return out"
   ]
  },
  {
   "cell_type": "markdown",
   "id": "bc7c5e85",
   "metadata": {
    "id": "bc7c5e85"
   },
   "source": [
    "## 4. Answers to questions"
   ]
  },
  {
   "cell_type": "markdown",
   "id": "f34779cd",
   "metadata": {
    "id": "f34779cd"
   },
   "source": [
    "First, print the model to see how it looks like."
   ]
  },
  {
   "cell_type": "code",
   "execution_count": 12,
   "id": "cdb39a64",
   "metadata": {
    "colab": {
     "base_uri": "https://localhost:8080/"
    },
    "executionInfo": {
     "elapsed": 174,
     "status": "ok",
     "timestamp": 1640717613621,
     "user": {
      "displayName": "Daniel Stöcklein",
      "photoUrl": "https://lh3.googleusercontent.com/a-/AOh14Gi33pVgYI64xYI25ZQ0bqhA_UOee29NpS9DkGmi=s64",
      "userId": "00224803795401246365"
     },
     "user_tz": -60
    },
    "id": "cdb39a64",
    "outputId": "6d44a21f-4f19-4fc9-e53d-65bc921b5120",
    "scrolled": true
   },
   "outputs": [
    {
     "name": "stdout",
     "output_type": "stream",
     "text": [
      "DenseNet(\n",
      "  (net_input): Sequential(\n",
      "    (0): Conv2d(1, 4, kernel_size=(3, 3), stride=(1, 1))\n",
      "    (1): AvgPool2d(kernel_size=3, stride=2, padding=0)\n",
      "  )\n",
      "  (blocks): Sequential(\n",
      "    (0): DenseBlock(\n",
      "      (block): Sequential(\n",
      "        (0): DenseLayer(\n",
      "          (layer): Sequential(\n",
      "            (0): BatchNorm2d(4, eps=1e-05, momentum=0.1, affine=True, track_running_stats=True)\n",
      "            (1): ReLU()\n",
      "            (2): Conv2d(4, 32, kernel_size=(3, 3), stride=(1, 1), padding=(1, 1))\n",
      "          )\n",
      "        )\n",
      "        (1): DenseLayer(\n",
      "          (layer): Sequential(\n",
      "            (0): BatchNorm2d(36, eps=1e-05, momentum=0.1, affine=True, track_running_stats=True)\n",
      "            (1): ReLU()\n",
      "            (2): Conv2d(36, 32, kernel_size=(3, 3), stride=(1, 1), padding=(1, 1))\n",
      "          )\n",
      "        )\n",
      "        (2): DenseLayer(\n",
      "          (layer): Sequential(\n",
      "            (0): BatchNorm2d(68, eps=1e-05, momentum=0.1, affine=True, track_running_stats=True)\n",
      "            (1): ReLU()\n",
      "            (2): Conv2d(68, 32, kernel_size=(3, 3), stride=(1, 1), padding=(1, 1))\n",
      "          )\n",
      "        )\n",
      "      )\n",
      "    )\n",
      "    (1): TransitionLayer(\n",
      "      (transition): Sequential(\n",
      "        (0): BatchNorm2d(100, eps=1e-05, momentum=0.1, affine=True, track_running_stats=True)\n",
      "        (1): ReLU()\n",
      "        (2): Conv2d(100, 4, kernel_size=(1, 1), stride=(1, 1))\n",
      "        (3): AvgPool2d(kernel_size=2, stride=2, padding=0)\n",
      "      )\n",
      "    )\n",
      "    (2): DenseBlock(\n",
      "      (block): Sequential(\n",
      "        (0): DenseLayer(\n",
      "          (layer): Sequential(\n",
      "            (0): BatchNorm2d(4, eps=1e-05, momentum=0.1, affine=True, track_running_stats=True)\n",
      "            (1): ReLU()\n",
      "            (2): Conv2d(4, 32, kernel_size=(3, 3), stride=(1, 1), padding=(1, 1))\n",
      "          )\n",
      "        )\n",
      "        (1): DenseLayer(\n",
      "          (layer): Sequential(\n",
      "            (0): BatchNorm2d(36, eps=1e-05, momentum=0.1, affine=True, track_running_stats=True)\n",
      "            (1): ReLU()\n",
      "            (2): Conv2d(36, 32, kernel_size=(3, 3), stride=(1, 1), padding=(1, 1))\n",
      "          )\n",
      "        )\n",
      "        (2): DenseLayer(\n",
      "          (layer): Sequential(\n",
      "            (0): BatchNorm2d(68, eps=1e-05, momentum=0.1, affine=True, track_running_stats=True)\n",
      "            (1): ReLU()\n",
      "            (2): Conv2d(68, 32, kernel_size=(3, 3), stride=(1, 1), padding=(1, 1))\n",
      "          )\n",
      "        )\n",
      "      )\n",
      "    )\n",
      "  )\n",
      "  (net_output): Sequential(\n",
      "    (0): BatchNorm2d(100, eps=1e-05, momentum=0.1, affine=True, track_running_stats=True)\n",
      "    (1): ReLU()\n",
      "    (2): AdaptiveMaxPool2d(output_size=(1, 1))\n",
      "    (3): Flatten(start_dim=1, end_dim=-1)\n",
      "    (4): Linear(in_features=100, out_features=10, bias=True)\n",
      "  )\n",
      ")\n"
     ]
    }
   ],
   "source": [
    "model = DenseNet(1, 10)\n",
    "print(model)"
   ]
  },
  {
   "cell_type": "markdown",
   "id": "560d4806",
   "metadata": {
    "id": "560d4806"
   },
   "source": [
    "### Dataset description\n",
    "- training set: 60.000 images\n",
    "- test set: 10.000 images\n",
    "- number of channels: 1 (greyscale)\n",
    "- height: 28px\n",
    "- width: 28px\n",
    "- features: 28x28px = 784\n",
    "- outputs: 10 categories\n",
    "\n",
    "https://github.com/zalandoresearch/fashion-mnist"
   ]
  },
  {
   "cell_type": "code",
   "execution_count": 13,
   "id": "3d55dde8",
   "metadata": {
    "colab": {
     "base_uri": "https://localhost:8080/"
    },
    "executionInfo": {
     "elapsed": 194,
     "status": "ok",
     "timestamp": 1640717615259,
     "user": {
      "displayName": "Daniel Stöcklein",
      "photoUrl": "https://lh3.googleusercontent.com/a-/AOh14Gi33pVgYI64xYI25ZQ0bqhA_UOee29NpS9DkGmi=s64",
      "userId": "00224803795401246365"
     },
     "user_tz": -60
    },
    "id": "3d55dde8",
    "outputId": "9cd7bb43-1e3c-4c70-b66c-69bbc74488f8"
   },
   "outputs": [
    {
     "name": "stdout",
     "output_type": "stream",
     "text": [
      "torch.Size([1, 28, 28])\n"
     ]
    }
   ],
   "source": [
    "print(mnist_train[1][0].shape)"
   ]
  },
  {
   "cell_type": "markdown",
   "id": "d8e263f2",
   "metadata": {
    "id": "d8e263f2"
   },
   "source": [
    "Test scenario according to defined ``DenseNet``"
   ]
  },
  {
   "cell_type": "code",
   "execution_count": 14,
   "id": "a156fa01",
   "metadata": {
    "executionInfo": {
     "elapsed": 190,
     "status": "ok",
     "timestamp": 1640717616720,
     "user": {
      "displayName": "Daniel Stöcklein",
      "photoUrl": "https://lh3.googleusercontent.com/a-/AOh14Gi33pVgYI64xYI25ZQ0bqhA_UOee29NpS9DkGmi=s64",
      "userId": "00224803795401246365"
     },
     "user_tz": -60
    },
    "id": "a156fa01"
   },
   "outputs": [],
   "source": [
    "train_loader, test_loader = dloaders(batch_size=50) # data iters\n",
    "\n",
    "first_conv = nn.Sequential(\n",
    "    nn.Conv2d(in_channels=1, out_channels=4, kernel_size=3),\n",
    "    nn.AvgPool2d(kernel_size=3, stride=2)\n",
    ")"
   ]
  },
  {
   "cell_type": "code",
   "execution_count": 15,
   "id": "1352af05",
   "metadata": {
    "executionInfo": {
     "elapsed": 202,
     "status": "ok",
     "timestamp": 1640717617201,
     "user": {
      "displayName": "Daniel Stöcklein",
      "photoUrl": "https://lh3.googleusercontent.com/a-/AOh14Gi33pVgYI64xYI25ZQ0bqhA_UOee29NpS9DkGmi=s64",
      "userId": "00224803795401246365"
     },
     "user_tz": -60
    },
    "id": "1352af05"
   },
   "outputs": [],
   "source": [
    "net_output = nn.Sequential(\n",
    "            nn.BatchNorm2d(100),\n",
    "            nn.ReLU(),\n",
    "            nn.AdaptiveMaxPool2d((1, 1))\n",
    ")"
   ]
  },
  {
   "cell_type": "markdown",
   "id": "5f4c4f43",
   "metadata": {
    "id": "5f4c4f43"
   },
   "source": [
    "Pass one batch to the network and print out shapes"
   ]
  },
  {
   "cell_type": "code",
   "execution_count": 16,
   "id": "59ceca4e",
   "metadata": {
    "colab": {
     "base_uri": "https://localhost:8080/"
    },
    "executionInfo": {
     "elapsed": 466,
     "status": "ok",
     "timestamp": 1640717618897,
     "user": {
      "displayName": "Daniel Stöcklein",
      "photoUrl": "https://lh3.googleusercontent.com/a-/AOh14Gi33pVgYI64xYI25ZQ0bqhA_UOee29NpS9DkGmi=s64",
      "userId": "00224803795401246365"
     },
     "user_tz": -60
    },
    "id": "59ceca4e",
    "outputId": "1a7b2b5e-eef0-499e-8387-92d2429e48cb"
   },
   "outputs": [
    {
     "name": "stdout",
     "output_type": "stream",
     "text": [
      "input:  torch.Size([50, 1, 28, 28]) \n",
      "\n",
      "After first conv:  torch.Size([50, 4, 12, 12]) \n",
      "\n",
      "Out first block:  torch.Size([50, 100, 12, 12])\n",
      "After transition:  torch.Size([50, 4, 6, 6]) \n",
      "\n",
      "Out second block:  torch.Size([50, 100, 6, 6]) \n",
      "\n",
      "input to FC:  torch.Size([50, 100, 1, 1])\n",
      "flattened input to FC:  torch.Size([50, 100])\n"
     ]
    }
   ],
   "source": [
    "for batch_index, (features, labels) in enumerate(train_loader):\n",
    "    print(\"input: \", features.shape, \"\\n\")\n",
    "    \n",
    "    x = first_conv(features)\n",
    "    print(\"After first conv: \", x.shape, \"\\n\")\n",
    "    \n",
    "    block = DenseBlock(4, 32, 3)\n",
    "    x = block(x)\n",
    "    print(\"Out first block: \", x.shape)\n",
    "    block = TransitionLayer(100, 4)\n",
    "    x = block(x)\n",
    "    print(\"After transition: \", x.shape, \"\\n\")\n",
    "    \n",
    "    block = DenseBlock(4, 32, 3)\n",
    "    x = block(x)\n",
    "    print(\"Out second block: \", x.shape, \"\\n\")\n",
    "    \n",
    "    x = net_output(x)\n",
    "    print(\"input to FC: \", x.shape)\n",
    "    x = torch.flatten(x, start_dim=1)\n",
    "    print(\"flattened input to FC: \", x.shape)\n",
    "    \n",
    "    logits = model(features)\n",
    "    break"
   ]
  },
  {
   "cell_type": "markdown",
   "id": "69ae1509",
   "metadata": {
    "id": "69ae1509"
   },
   "source": [
    "**4.1**: The spatial dimension of the first DenseBlock is ``12x12`` with ``4`` input channels and ``100`` output channels.\n",
    "\n",
    "- Conv2d: ``n - f + 1`` = 28 - 3 + 1 = 26x26\n",
    "- AveragePooling: ``floor((input + 2*pad - filter) / stride) + 1`` = (26 + 0 - 3 / 2) + 1 = 12x12\n",
    "https://stats.stackexchange.com/questions/223630/fractional-output-dimensions-of-sliding-windows-convolutions-pooling-etc-in\n",
    "\n",
    "**4.2**: The spatial dimension of the second DenseBlock is ``6x6``.\n",
    "\n",
    "**4.3**: The input dimension of the final FC layer is ``100``."
   ]
  },
  {
   "cell_type": "markdown",
   "id": "b9b8922c",
   "metadata": {
    "id": "b9b8922c"
   },
   "source": [
    "## 5. Metrics\n",
    "- computes accuracy and returns ``list(correct, wrong, accuracy)``"
   ]
  },
  {
   "cell_type": "code",
   "execution_count": 17,
   "id": "364d1c31",
   "metadata": {
    "executionInfo": {
     "elapsed": 178,
     "status": "ok",
     "timestamp": 1640717622597,
     "user": {
      "displayName": "Daniel Stöcklein",
      "photoUrl": "https://lh3.googleusercontent.com/a-/AOh14Gi33pVgYI64xYI25ZQ0bqhA_UOee29NpS9DkGmi=s64",
      "userId": "00224803795401246365"
     },
     "user_tz": -60
    },
    "id": "364d1c31"
   },
   "outputs": [],
   "source": [
    "def comp_accuracy(model, data_loader):\n",
    "    correct = 0\n",
    "    wrong = 0\n",
    "    num_examples = 0\n",
    "    \n",
    "    # turn on eval mode if model Inherits from nn.Module\n",
    "    if isinstance(model, nn.Module):\n",
    "        model.eval()\n",
    "    \n",
    "    with torch.no_grad():\n",
    "        for batch_index, (features, labels) in enumerate(data_loader):\n",
    "            features = features.to(device)\n",
    "            labels = labels.to(device)\n",
    "\n",
    "            logits = model(features)\n",
    "            _, predictions = torch.max(logits, dim=1) # single class with highest probability. simply retain indices\n",
    "\n",
    "            num_examples += labels.size(0)\n",
    "\n",
    "            correct += (predictions == labels).sum().float()\n",
    "            wrong += (predictions != labels).sum().float()\n",
    "            \n",
    "        accuracy = correct / num_examples * 100      \n",
    "        \n",
    "    return correct, wrong, accuracy"
   ]
  },
  {
   "cell_type": "markdown",
   "id": "368d0f2a",
   "metadata": {
    "id": "368d0f2a"
   },
   "source": [
    "## 5. Training"
   ]
  },
  {
   "cell_type": "code",
   "execution_count": 18,
   "id": "fc6e765d",
   "metadata": {
    "executionInfo": {
     "elapsed": 185,
     "status": "ok",
     "timestamp": 1640717624001,
     "user": {
      "displayName": "Daniel Stöcklein",
      "photoUrl": "https://lh3.googleusercontent.com/a-/AOh14Gi33pVgYI64xYI25ZQ0bqhA_UOee29NpS9DkGmi=s64",
      "userId": "00224803795401246365"
     },
     "user_tz": -60
    },
    "id": "fc6e765d"
   },
   "outputs": [],
   "source": [
    "def fit(model, train_loader, epochs, learning_rate, loss_func=nn.CrossEntropyLoss(), opt_func=torch.optim.SGD):\n",
    "    \n",
    "    optimizer = opt_func(model.parameters(), learning_rate) # objective function\n",
    "    \n",
    "    model = model.to(device)\n",
    "    \n",
    "    start = time.time() # measure time\n",
    "    \n",
    "    for epoch in range(epochs):\n",
    "        \n",
    "        model = model.train()\n",
    "              \n",
    "        for batch_index, (features, labels) in enumerate(train_loader):\n",
    "            \n",
    "            # gpu usage if possible\n",
    "            features = features.to(device)\n",
    "            labels = labels.to(device)\n",
    "            \n",
    "            # 1. forward\n",
    "            logits = model(features)\n",
    "\n",
    "            # 2. compute objective function (softmax, cross entropy)\n",
    "            cost = loss_func(logits, labels)\n",
    "\n",
    "            # 3. cleaning gradients\n",
    "            optimizer.zero_grad() \n",
    "\n",
    "            # 4. accumulate partial derivatives\n",
    "            cost.backward() \n",
    "\n",
    "            # 5. step in the opposite direction of the gradient\n",
    "            optimizer.step() \n",
    "            \n",
    "            if not batch_index % 250:\n",
    "                print ('Epoch: {}/{} | Batch {}/{} | Cost: {:.4f}'.format(\n",
    "                    epoch+1,\n",
    "                    epochs,\n",
    "                    batch_index,\n",
    "                    len(train_loader),\n",
    "                    cost\n",
    "                ))\n",
    "        \n",
    "        correct, wrong, accuracy = comp_accuracy(model, train_loader)\n",
    "        print ('Training: Correct[{:.0f}] | Wrong[{:.0f}] | Accuracy[{:.2f}%]'.format(\n",
    "            correct,\n",
    "            wrong,\n",
    "            accuracy\n",
    "        ), '\\n')\n",
    "      \n",
    "    correct, wrong, accuracy = comp_accuracy(model, test_loader)  \n",
    "    print ('Test: Correct[{:.0f}] | Wrong[{:.0f}] | Accuracy[{:.2f}%]'.format(\n",
    "        correct,\n",
    "        wrong,\n",
    "        accuracy\n",
    "    ), '\\n')\n",
    "    \n",
    "    end = time.time()\n",
    "    print('Training time: {:.2f} seconds on {}'.format(\n",
    "        end - start, \n",
    "        device\n",
    "    ))    "
   ]
  },
  {
   "cell_type": "markdown",
   "id": "96b9701e",
   "metadata": {
    "id": "96b9701e"
   },
   "source": [
    "## 6. Playground"
   ]
  },
  {
   "cell_type": "markdown",
   "id": "fe3b6113",
   "metadata": {
    "id": "fe3b6113"
   },
   "source": [
    "### 1. Attempt"
   ]
  },
  {
   "cell_type": "code",
   "execution_count": 19,
   "id": "0fc1eb92",
   "metadata": {
    "executionInfo": {
     "elapsed": 184,
     "status": "ok",
     "timestamp": 1640717626248,
     "user": {
      "displayName": "Daniel Stöcklein",
      "photoUrl": "https://lh3.googleusercontent.com/a-/AOh14Gi33pVgYI64xYI25ZQ0bqhA_UOee29NpS9DkGmi=s64",
      "userId": "00224803795401246365"
     },
     "user_tz": -60
    },
    "id": "0fc1eb92"
   },
   "outputs": [],
   "source": [
    "batch_size = 50\n",
    "epochs = 10\n",
    "learning_rate = 0.01\n",
    "\n",
    "train_loader, test_loader = dloaders(batch_size=batch_size) # data iters"
   ]
  },
  {
   "cell_type": "code",
   "execution_count": 20,
   "id": "03a6c39e",
   "metadata": {
    "colab": {
     "base_uri": "https://localhost:8080/"
    },
    "executionInfo": {
     "elapsed": 336231,
     "status": "ok",
     "timestamp": 1640717966814,
     "user": {
      "displayName": "Daniel Stöcklein",
      "photoUrl": "https://lh3.googleusercontent.com/a-/AOh14Gi33pVgYI64xYI25ZQ0bqhA_UOee29NpS9DkGmi=s64",
      "userId": "00224803795401246365"
     },
     "user_tz": -60
    },
    "id": "03a6c39e",
    "outputId": "125642fa-8ee1-4999-e4f7-004ca8bbbccf",
    "scrolled": false
   },
   "outputs": [
    {
     "name": "stdout",
     "output_type": "stream",
     "text": [
      "Epoch: 1/10 | Batch 0/1200 | Cost: 3.1749\n",
      "Epoch: 1/10 | Batch 250/1200 | Cost: 0.5342\n",
      "Epoch: 1/10 | Batch 500/1200 | Cost: 0.7364\n",
      "Epoch: 1/10 | Batch 750/1200 | Cost: 0.3925\n",
      "Epoch: 1/10 | Batch 1000/1200 | Cost: 0.4919\n",
      "Training: Correct[51068] | Wrong[8932] | Accuracy[85.11%] \n",
      "\n",
      "Epoch: 2/10 | Batch 0/1200 | Cost: 0.4710\n",
      "Epoch: 2/10 | Batch 250/1200 | Cost: 0.4769\n",
      "Epoch: 2/10 | Batch 500/1200 | Cost: 0.5527\n",
      "Epoch: 2/10 | Batch 750/1200 | Cost: 0.2541\n",
      "Epoch: 2/10 | Batch 1000/1200 | Cost: 0.2001\n",
      "Training: Correct[52215] | Wrong[7785] | Accuracy[87.03%] \n",
      "\n",
      "Epoch: 3/10 | Batch 0/1200 | Cost: 0.2712\n",
      "Epoch: 3/10 | Batch 250/1200 | Cost: 0.3581\n",
      "Epoch: 3/10 | Batch 500/1200 | Cost: 0.4133\n",
      "Epoch: 3/10 | Batch 750/1200 | Cost: 0.4042\n",
      "Epoch: 3/10 | Batch 1000/1200 | Cost: 0.3779\n",
      "Training: Correct[53182] | Wrong[6818] | Accuracy[88.64%] \n",
      "\n",
      "Epoch: 4/10 | Batch 0/1200 | Cost: 0.2638\n",
      "Epoch: 4/10 | Batch 250/1200 | Cost: 0.2775\n",
      "Epoch: 4/10 | Batch 500/1200 | Cost: 0.3864\n",
      "Epoch: 4/10 | Batch 750/1200 | Cost: 0.1042\n",
      "Epoch: 4/10 | Batch 1000/1200 | Cost: 0.3703\n",
      "Training: Correct[53689] | Wrong[6311] | Accuracy[89.48%] \n",
      "\n",
      "Epoch: 5/10 | Batch 0/1200 | Cost: 0.2528\n",
      "Epoch: 5/10 | Batch 250/1200 | Cost: 0.2725\n",
      "Epoch: 5/10 | Batch 500/1200 | Cost: 0.2661\n",
      "Epoch: 5/10 | Batch 750/1200 | Cost: 0.3795\n",
      "Epoch: 5/10 | Batch 1000/1200 | Cost: 0.2516\n",
      "Training: Correct[53476] | Wrong[6524] | Accuracy[89.13%] \n",
      "\n",
      "Epoch: 6/10 | Batch 0/1200 | Cost: 0.2132\n",
      "Epoch: 6/10 | Batch 250/1200 | Cost: 0.1842\n",
      "Epoch: 6/10 | Batch 500/1200 | Cost: 0.3212\n",
      "Epoch: 6/10 | Batch 750/1200 | Cost: 0.3541\n",
      "Epoch: 6/10 | Batch 1000/1200 | Cost: 0.1150\n",
      "Training: Correct[53825] | Wrong[6175] | Accuracy[89.71%] \n",
      "\n",
      "Epoch: 7/10 | Batch 0/1200 | Cost: 0.6734\n",
      "Epoch: 7/10 | Batch 250/1200 | Cost: 0.2808\n",
      "Epoch: 7/10 | Batch 500/1200 | Cost: 0.2795\n",
      "Epoch: 7/10 | Batch 750/1200 | Cost: 0.1770\n",
      "Epoch: 7/10 | Batch 1000/1200 | Cost: 0.1329\n",
      "Training: Correct[54221] | Wrong[5779] | Accuracy[90.37%] \n",
      "\n",
      "Epoch: 8/10 | Batch 0/1200 | Cost: 0.1800\n",
      "Epoch: 8/10 | Batch 250/1200 | Cost: 0.2410\n",
      "Epoch: 8/10 | Batch 500/1200 | Cost: 0.3423\n",
      "Epoch: 8/10 | Batch 750/1200 | Cost: 0.1618\n",
      "Epoch: 8/10 | Batch 1000/1200 | Cost: 0.3522\n",
      "Training: Correct[53806] | Wrong[6194] | Accuracy[89.68%] \n",
      "\n",
      "Epoch: 9/10 | Batch 0/1200 | Cost: 0.1586\n",
      "Epoch: 9/10 | Batch 250/1200 | Cost: 0.4407\n",
      "Epoch: 9/10 | Batch 500/1200 | Cost: 0.2417\n",
      "Epoch: 9/10 | Batch 750/1200 | Cost: 0.3852\n",
      "Epoch: 9/10 | Batch 1000/1200 | Cost: 0.4392\n",
      "Training: Correct[54081] | Wrong[5919] | Accuracy[90.14%] \n",
      "\n",
      "Epoch: 10/10 | Batch 0/1200 | Cost: 0.2161\n",
      "Epoch: 10/10 | Batch 250/1200 | Cost: 0.3027\n",
      "Epoch: 10/10 | Batch 500/1200 | Cost: 0.2673\n",
      "Epoch: 10/10 | Batch 750/1200 | Cost: 0.3766\n",
      "Epoch: 10/10 | Batch 1000/1200 | Cost: 0.2869\n",
      "Training: Correct[55034] | Wrong[4966] | Accuracy[91.72%] \n",
      "\n",
      "Test: Correct[8867] | Wrong[1133] | Accuracy[88.67%] \n",
      "\n",
      "Training time: 327.72 seconds on cuda\n"
     ]
    }
   ],
   "source": [
    "model = DenseNet(1, 10)\n",
    "fit(model, train_loader, epochs, learning_rate) # training"
   ]
  },
  {
   "cell_type": "markdown",
   "id": "ba491c58",
   "metadata": {
    "id": "ba491c58"
   },
   "source": [
    "### Summary 1. Attempt\n",
    "With a learning rate of 0.01, 10 epochs and a batch size of 50 our model was able to reach a accuracy of around ~89% on the test set with 10.000 samples. The training time decreased from CPU runtime 1400 seconds (previous experiments) to 328 seconds on gpu. The training accuracy only slightly increased per epoch, the model was able to perform well on the first epoch already.\n",
    "\n",
    "The model from problem 1 with the same hyperparameters reached ~82% on training aswell as on the testdata. "
   ]
  },
  {
   "cell_type": "markdown",
   "id": "5cd7bb94",
   "metadata": {
    "id": "5cd7bb94"
   },
   "source": [
    "### 2. Attempt"
   ]
  },
  {
   "cell_type": "code",
   "execution_count": 21,
   "id": "12f5f564",
   "metadata": {
    "executionInfo": {
     "elapsed": 208,
     "status": "ok",
     "timestamp": 1640718444533,
     "user": {
      "displayName": "Daniel Stöcklein",
      "photoUrl": "https://lh3.googleusercontent.com/a-/AOh14Gi33pVgYI64xYI25ZQ0bqhA_UOee29NpS9DkGmi=s64",
      "userId": "00224803795401246365"
     },
     "user_tz": -60
    },
    "id": "12f5f564"
   },
   "outputs": [],
   "source": [
    "batch_size = 256\n",
    "epochs = 25\n",
    "learning_rate = 0.1\n",
    "\n",
    "train_loader, test_loader = dloaders(batch_size=batch_size) # data iters"
   ]
  },
  {
   "cell_type": "code",
   "execution_count": 22,
   "id": "035f71af",
   "metadata": {
    "colab": {
     "base_uri": "https://localhost:8080/"
    },
    "executionInfo": {
     "elapsed": 429531,
     "status": "ok",
     "timestamp": 1640718875877,
     "user": {
      "displayName": "Daniel Stöcklein",
      "photoUrl": "https://lh3.googleusercontent.com/a-/AOh14Gi33pVgYI64xYI25ZQ0bqhA_UOee29NpS9DkGmi=s64",
      "userId": "00224803795401246365"
     },
     "user_tz": -60
    },
    "id": "035f71af",
    "outputId": "9c8aa7c8-e202-4662-f427-97547c207ff2"
   },
   "outputs": [
    {
     "name": "stdout",
     "output_type": "stream",
     "text": [
      "Epoch: 1/25 | Batch 0/235 | Cost: 0.2595\n",
      "Training: Correct[52356] | Wrong[7644] | Accuracy[87.26%] \n",
      "\n",
      "Epoch: 2/25 | Batch 0/235 | Cost: 0.2926\n",
      "Training: Correct[51623] | Wrong[8377] | Accuracy[86.04%] \n",
      "\n",
      "Epoch: 3/25 | Batch 0/235 | Cost: 0.3176\n",
      "Training: Correct[52008] | Wrong[7992] | Accuracy[86.68%] \n",
      "\n",
      "Epoch: 4/25 | Batch 0/235 | Cost: 0.3194\n",
      "Training: Correct[48938] | Wrong[11062] | Accuracy[81.56%] \n",
      "\n",
      "Epoch: 5/25 | Batch 0/235 | Cost: 0.3901\n",
      "Training: Correct[54177] | Wrong[5823] | Accuracy[90.29%] \n",
      "\n",
      "Epoch: 6/25 | Batch 0/235 | Cost: 0.2424\n",
      "Training: Correct[54168] | Wrong[5832] | Accuracy[90.28%] \n",
      "\n",
      "Epoch: 7/25 | Batch 0/235 | Cost: 0.2849\n",
      "Training: Correct[52503] | Wrong[7497] | Accuracy[87.50%] \n",
      "\n",
      "Epoch: 8/25 | Batch 0/235 | Cost: 0.4506\n",
      "Training: Correct[55061] | Wrong[4939] | Accuracy[91.77%] \n",
      "\n",
      "Epoch: 9/25 | Batch 0/235 | Cost: 0.1927\n",
      "Training: Correct[50876] | Wrong[9124] | Accuracy[84.79%] \n",
      "\n",
      "Epoch: 10/25 | Batch 0/235 | Cost: 0.2504\n",
      "Training: Correct[50124] | Wrong[9876] | Accuracy[83.54%] \n",
      "\n",
      "Epoch: 11/25 | Batch 0/235 | Cost: 0.3784\n",
      "Training: Correct[54626] | Wrong[5374] | Accuracy[91.04%] \n",
      "\n",
      "Epoch: 12/25 | Batch 0/235 | Cost: 0.2043\n",
      "Training: Correct[55028] | Wrong[4972] | Accuracy[91.71%] \n",
      "\n",
      "Epoch: 13/25 | Batch 0/235 | Cost: 0.2615\n",
      "Training: Correct[55847] | Wrong[4153] | Accuracy[93.08%] \n",
      "\n",
      "Epoch: 14/25 | Batch 0/235 | Cost: 0.1888\n",
      "Training: Correct[53134] | Wrong[6866] | Accuracy[88.56%] \n",
      "\n",
      "Epoch: 15/25 | Batch 0/235 | Cost: 0.2187\n",
      "Training: Correct[54913] | Wrong[5087] | Accuracy[91.52%] \n",
      "\n",
      "Epoch: 16/25 | Batch 0/235 | Cost: 0.1563\n",
      "Training: Correct[56298] | Wrong[3702] | Accuracy[93.83%] \n",
      "\n",
      "Epoch: 17/25 | Batch 0/235 | Cost: 0.1727\n",
      "Training: Correct[55315] | Wrong[4685] | Accuracy[92.19%] \n",
      "\n",
      "Epoch: 18/25 | Batch 0/235 | Cost: 0.1317\n",
      "Training: Correct[54646] | Wrong[5354] | Accuracy[91.08%] \n",
      "\n",
      "Epoch: 19/25 | Batch 0/235 | Cost: 0.1941\n",
      "Training: Correct[56006] | Wrong[3994] | Accuracy[93.34%] \n",
      "\n",
      "Epoch: 20/25 | Batch 0/235 | Cost: 0.1776\n",
      "Training: Correct[55699] | Wrong[4301] | Accuracy[92.83%] \n",
      "\n",
      "Epoch: 21/25 | Batch 0/235 | Cost: 0.2562\n",
      "Training: Correct[54602] | Wrong[5398] | Accuracy[91.00%] \n",
      "\n",
      "Epoch: 22/25 | Batch 0/235 | Cost: 0.1517\n",
      "Training: Correct[55680] | Wrong[4320] | Accuracy[92.80%] \n",
      "\n",
      "Epoch: 23/25 | Batch 0/235 | Cost: 0.1177\n",
      "Training: Correct[56437] | Wrong[3563] | Accuracy[94.06%] \n",
      "\n",
      "Epoch: 24/25 | Batch 0/235 | Cost: 0.1443\n",
      "Training: Correct[54971] | Wrong[5029] | Accuracy[91.62%] \n",
      "\n",
      "Epoch: 25/25 | Batch 0/235 | Cost: 0.1798\n",
      "Training: Correct[56725] | Wrong[3275] | Accuracy[94.54%] \n",
      "\n",
      "Test: Correct[8828] | Wrong[1172] | Accuracy[88.28%] \n",
      "\n",
      "Training time: 429.33 seconds on cuda\n"
     ]
    }
   ],
   "source": [
    "fit(model, train_loader, epochs, learning_rate) # training"
   ]
  },
  {
   "cell_type": "markdown",
   "id": "kUQNjAiIfLch",
   "metadata": {
    "id": "kUQNjAiIfLch"
   },
   "source": [
    "### Summary 2. Attempt\n",
    "The model was not able to reach higher accuracy on the test data even though we used more epochs here. That probably due to the higher batch size. Considering the higher training time, this was a worse attempt than the first."
   ]
  }
 ],
 "metadata": {
  "accelerator": "GPU",
  "colab": {
   "collapsed_sections": [],
   "name": "problem_03_densenet.ipynb",
   "provenance": []
  },
  "kernelspec": {
   "display_name": "Python 3 (ipykernel)",
   "language": "python",
   "name": "python3"
  },
  "language_info": {
   "codemirror_mode": {
    "name": "ipython",
    "version": 3
   },
   "file_extension": ".py",
   "mimetype": "text/x-python",
   "name": "python",
   "nbconvert_exporter": "python",
   "pygments_lexer": "ipython3",
   "version": "3.8.0"
  },
  "widgets": {
   "application/vnd.jupyter.widget-state+json": {
    "01be35cf81564ebe967144db0b71b2b0": {
     "model_module": "@jupyter-widgets/base",
     "model_module_version": "1.2.0",
     "model_name": "LayoutModel",
     "state": {
      "_model_module": "@jupyter-widgets/base",
      "_model_module_version": "1.2.0",
      "_model_name": "LayoutModel",
      "_view_count": null,
      "_view_module": "@jupyter-widgets/base",
      "_view_module_version": "1.2.0",
      "_view_name": "LayoutView",
      "align_content": null,
      "align_items": null,
      "align_self": null,
      "border": null,
      "bottom": null,
      "display": null,
      "flex": null,
      "flex_flow": null,
      "grid_area": null,
      "grid_auto_columns": null,
      "grid_auto_flow": null,
      "grid_auto_rows": null,
      "grid_column": null,
      "grid_gap": null,
      "grid_row": null,
      "grid_template_areas": null,
      "grid_template_columns": null,
      "grid_template_rows": null,
      "height": null,
      "justify_content": null,
      "justify_items": null,
      "left": null,
      "margin": null,
      "max_height": null,
      "max_width": null,
      "min_height": null,
      "min_width": null,
      "object_fit": null,
      "object_position": null,
      "order": null,
      "overflow": null,
      "overflow_x": null,
      "overflow_y": null,
      "padding": null,
      "right": null,
      "top": null,
      "visibility": null,
      "width": null
     }
    },
    "049d25ecd0004293a5691577cb382743": {
     "model_module": "@jupyter-widgets/base",
     "model_module_version": "1.2.0",
     "model_name": "LayoutModel",
     "state": {
      "_model_module": "@jupyter-widgets/base",
      "_model_module_version": "1.2.0",
      "_model_name": "LayoutModel",
      "_view_count": null,
      "_view_module": "@jupyter-widgets/base",
      "_view_module_version": "1.2.0",
      "_view_name": "LayoutView",
      "align_content": null,
      "align_items": null,
      "align_self": null,
      "border": null,
      "bottom": null,
      "display": null,
      "flex": null,
      "flex_flow": null,
      "grid_area": null,
      "grid_auto_columns": null,
      "grid_auto_flow": null,
      "grid_auto_rows": null,
      "grid_column": null,
      "grid_gap": null,
      "grid_row": null,
      "grid_template_areas": null,
      "grid_template_columns": null,
      "grid_template_rows": null,
      "height": null,
      "justify_content": null,
      "justify_items": null,
      "left": null,
      "margin": null,
      "max_height": null,
      "max_width": null,
      "min_height": null,
      "min_width": null,
      "object_fit": null,
      "object_position": null,
      "order": null,
      "overflow": null,
      "overflow_x": null,
      "overflow_y": null,
      "padding": null,
      "right": null,
      "top": null,
      "visibility": null,
      "width": null
     }
    },
    "078837b295564314bfe4add510b41ee7": {
     "model_module": "@jupyter-widgets/controls",
     "model_module_version": "1.5.0",
     "model_name": "HBoxModel",
     "state": {
      "_dom_classes": [],
      "_model_module": "@jupyter-widgets/controls",
      "_model_module_version": "1.5.0",
      "_model_name": "HBoxModel",
      "_view_count": null,
      "_view_module": "@jupyter-widgets/controls",
      "_view_module_version": "1.5.0",
      "_view_name": "HBoxView",
      "box_style": "",
      "children": [
       "IPY_MODEL_8260840741b64bba8f86c4824f62e6e8",
       "IPY_MODEL_4e9b2dd8d82f4a54ad588faa59f36cd1",
       "IPY_MODEL_56266b6cd715457885e4796b617bd58a"
      ],
      "layout": "IPY_MODEL_a6f99b6638c647a49948f422564e8223"
     }
    },
    "080ef53e67744f7d9e37a7153688a5dc": {
     "model_module": "@jupyter-widgets/base",
     "model_module_version": "1.2.0",
     "model_name": "LayoutModel",
     "state": {
      "_model_module": "@jupyter-widgets/base",
      "_model_module_version": "1.2.0",
      "_model_name": "LayoutModel",
      "_view_count": null,
      "_view_module": "@jupyter-widgets/base",
      "_view_module_version": "1.2.0",
      "_view_name": "LayoutView",
      "align_content": null,
      "align_items": null,
      "align_self": null,
      "border": null,
      "bottom": null,
      "display": null,
      "flex": null,
      "flex_flow": null,
      "grid_area": null,
      "grid_auto_columns": null,
      "grid_auto_flow": null,
      "grid_auto_rows": null,
      "grid_column": null,
      "grid_gap": null,
      "grid_row": null,
      "grid_template_areas": null,
      "grid_template_columns": null,
      "grid_template_rows": null,
      "height": null,
      "justify_content": null,
      "justify_items": null,
      "left": null,
      "margin": null,
      "max_height": null,
      "max_width": null,
      "min_height": null,
      "min_width": null,
      "object_fit": null,
      "object_position": null,
      "order": null,
      "overflow": null,
      "overflow_x": null,
      "overflow_y": null,
      "padding": null,
      "right": null,
      "top": null,
      "visibility": null,
      "width": null
     }
    },
    "0b04085544144998bbe9c253f35b8968": {
     "model_module": "@jupyter-widgets/controls",
     "model_module_version": "1.5.0",
     "model_name": "DescriptionStyleModel",
     "state": {
      "_model_module": "@jupyter-widgets/controls",
      "_model_module_version": "1.5.0",
      "_model_name": "DescriptionStyleModel",
      "_view_count": null,
      "_view_module": "@jupyter-widgets/base",
      "_view_module_version": "1.2.0",
      "_view_name": "StyleView",
      "description_width": ""
     }
    },
    "157b509c66764e8397f6a7e89ce5f4ed": {
     "model_module": "@jupyter-widgets/controls",
     "model_module_version": "1.5.0",
     "model_name": "DescriptionStyleModel",
     "state": {
      "_model_module": "@jupyter-widgets/controls",
      "_model_module_version": "1.5.0",
      "_model_name": "DescriptionStyleModel",
      "_view_count": null,
      "_view_module": "@jupyter-widgets/base",
      "_view_module_version": "1.2.0",
      "_view_name": "StyleView",
      "description_width": ""
     }
    },
    "18fefd9cfb1c4ebb997041deb6fe09a3": {
     "model_module": "@jupyter-widgets/controls",
     "model_module_version": "1.5.0",
     "model_name": "HTMLModel",
     "state": {
      "_dom_classes": [],
      "_model_module": "@jupyter-widgets/controls",
      "_model_module_version": "1.5.0",
      "_model_name": "HTMLModel",
      "_view_count": null,
      "_view_module": "@jupyter-widgets/controls",
      "_view_module_version": "1.5.0",
      "_view_name": "HTMLView",
      "description": "",
      "description_tooltip": null,
      "layout": "IPY_MODEL_f8e1cca2e4fb4df48fbf580957b1c688",
      "placeholder": "​",
      "style": "IPY_MODEL_2aeed5c1922a43569830360d5e54d435",
      "value": " 29696/? [00:00&lt;00:00, 125314.38it/s]"
     }
    },
    "20e85561c2124141aabbab86676c1b51": {
     "model_module": "@jupyter-widgets/base",
     "model_module_version": "1.2.0",
     "model_name": "LayoutModel",
     "state": {
      "_model_module": "@jupyter-widgets/base",
      "_model_module_version": "1.2.0",
      "_model_name": "LayoutModel",
      "_view_count": null,
      "_view_module": "@jupyter-widgets/base",
      "_view_module_version": "1.2.0",
      "_view_name": "LayoutView",
      "align_content": null,
      "align_items": null,
      "align_self": null,
      "border": null,
      "bottom": null,
      "display": null,
      "flex": null,
      "flex_flow": null,
      "grid_area": null,
      "grid_auto_columns": null,
      "grid_auto_flow": null,
      "grid_auto_rows": null,
      "grid_column": null,
      "grid_gap": null,
      "grid_row": null,
      "grid_template_areas": null,
      "grid_template_columns": null,
      "grid_template_rows": null,
      "height": null,
      "justify_content": null,
      "justify_items": null,
      "left": null,
      "margin": null,
      "max_height": null,
      "max_width": null,
      "min_height": null,
      "min_width": null,
      "object_fit": null,
      "object_position": null,
      "order": null,
      "overflow": null,
      "overflow_x": null,
      "overflow_y": null,
      "padding": null,
      "right": null,
      "top": null,
      "visibility": null,
      "width": null
     }
    },
    "2aeed5c1922a43569830360d5e54d435": {
     "model_module": "@jupyter-widgets/controls",
     "model_module_version": "1.5.0",
     "model_name": "DescriptionStyleModel",
     "state": {
      "_model_module": "@jupyter-widgets/controls",
      "_model_module_version": "1.5.0",
      "_model_name": "DescriptionStyleModel",
      "_view_count": null,
      "_view_module": "@jupyter-widgets/base",
      "_view_module_version": "1.2.0",
      "_view_name": "StyleView",
      "description_width": ""
     }
    },
    "3f782d881eff4e9ba248547e62ca2602": {
     "model_module": "@jupyter-widgets/base",
     "model_module_version": "1.2.0",
     "model_name": "LayoutModel",
     "state": {
      "_model_module": "@jupyter-widgets/base",
      "_model_module_version": "1.2.0",
      "_model_name": "LayoutModel",
      "_view_count": null,
      "_view_module": "@jupyter-widgets/base",
      "_view_module_version": "1.2.0",
      "_view_name": "LayoutView",
      "align_content": null,
      "align_items": null,
      "align_self": null,
      "border": null,
      "bottom": null,
      "display": null,
      "flex": null,
      "flex_flow": null,
      "grid_area": null,
      "grid_auto_columns": null,
      "grid_auto_flow": null,
      "grid_auto_rows": null,
      "grid_column": null,
      "grid_gap": null,
      "grid_row": null,
      "grid_template_areas": null,
      "grid_template_columns": null,
      "grid_template_rows": null,
      "height": null,
      "justify_content": null,
      "justify_items": null,
      "left": null,
      "margin": null,
      "max_height": null,
      "max_width": null,
      "min_height": null,
      "min_width": null,
      "object_fit": null,
      "object_position": null,
      "order": null,
      "overflow": null,
      "overflow_x": null,
      "overflow_y": null,
      "padding": null,
      "right": null,
      "top": null,
      "visibility": null,
      "width": null
     }
    },
    "466783dea9fd4fd992e51420e0a5ecd3": {
     "model_module": "@jupyter-widgets/controls",
     "model_module_version": "1.5.0",
     "model_name": "HTMLModel",
     "state": {
      "_dom_classes": [],
      "_model_module": "@jupyter-widgets/controls",
      "_model_module_version": "1.5.0",
      "_model_name": "HTMLModel",
      "_view_count": null,
      "_view_module": "@jupyter-widgets/controls",
      "_view_module_version": "1.5.0",
      "_view_name": "HTMLView",
      "description": "",
      "description_tooltip": null,
      "layout": "IPY_MODEL_6366af7160264495affbc203f54f2a5b",
      "placeholder": "​",
      "style": "IPY_MODEL_fe5a4b83eae946b386183c7bdbb1e918",
      "value": " 4422656/? [00:00&lt;00:00, 8785870.85it/s]"
     }
    },
    "4e9b2dd8d82f4a54ad588faa59f36cd1": {
     "model_module": "@jupyter-widgets/controls",
     "model_module_version": "1.5.0",
     "model_name": "FloatProgressModel",
     "state": {
      "_dom_classes": [],
      "_model_module": "@jupyter-widgets/controls",
      "_model_module_version": "1.5.0",
      "_model_name": "FloatProgressModel",
      "_view_count": null,
      "_view_module": "@jupyter-widgets/controls",
      "_view_module_version": "1.5.0",
      "_view_name": "ProgressView",
      "bar_style": "success",
      "description": "",
      "description_tooltip": null,
      "layout": "IPY_MODEL_b8ba1d0e2ed44c40b0f2f5bca10acc5f",
      "max": 26421880,
      "min": 0,
      "orientation": "horizontal",
      "style": "IPY_MODEL_95376b991275409fabdfd56a433151e6",
      "value": 26421880
     }
    },
    "50b421d53a7e40adb72d719c0b1e50fb": {
     "model_module": "@jupyter-widgets/base",
     "model_module_version": "1.2.0",
     "model_name": "LayoutModel",
     "state": {
      "_model_module": "@jupyter-widgets/base",
      "_model_module_version": "1.2.0",
      "_model_name": "LayoutModel",
      "_view_count": null,
      "_view_module": "@jupyter-widgets/base",
      "_view_module_version": "1.2.0",
      "_view_name": "LayoutView",
      "align_content": null,
      "align_items": null,
      "align_self": null,
      "border": null,
      "bottom": null,
      "display": null,
      "flex": null,
      "flex_flow": null,
      "grid_area": null,
      "grid_auto_columns": null,
      "grid_auto_flow": null,
      "grid_auto_rows": null,
      "grid_column": null,
      "grid_gap": null,
      "grid_row": null,
      "grid_template_areas": null,
      "grid_template_columns": null,
      "grid_template_rows": null,
      "height": null,
      "justify_content": null,
      "justify_items": null,
      "left": null,
      "margin": null,
      "max_height": null,
      "max_width": null,
      "min_height": null,
      "min_width": null,
      "object_fit": null,
      "object_position": null,
      "order": null,
      "overflow": null,
      "overflow_x": null,
      "overflow_y": null,
      "padding": null,
      "right": null,
      "top": null,
      "visibility": null,
      "width": null
     }
    },
    "5432f0d137864be08bdd9a479a48a7ab": {
     "model_module": "@jupyter-widgets/controls",
     "model_module_version": "1.5.0",
     "model_name": "FloatProgressModel",
     "state": {
      "_dom_classes": [],
      "_model_module": "@jupyter-widgets/controls",
      "_model_module_version": "1.5.0",
      "_model_name": "FloatProgressModel",
      "_view_count": null,
      "_view_module": "@jupyter-widgets/controls",
      "_view_module_version": "1.5.0",
      "_view_name": "ProgressView",
      "bar_style": "success",
      "description": "",
      "description_tooltip": null,
      "layout": "IPY_MODEL_20e85561c2124141aabbab86676c1b51",
      "max": 5148,
      "min": 0,
      "orientation": "horizontal",
      "style": "IPY_MODEL_767ef726ea4043b4bd7c6b0f73b270ed",
      "value": 5148
     }
    },
    "56266b6cd715457885e4796b617bd58a": {
     "model_module": "@jupyter-widgets/controls",
     "model_module_version": "1.5.0",
     "model_name": "HTMLModel",
     "state": {
      "_dom_classes": [],
      "_model_module": "@jupyter-widgets/controls",
      "_model_module_version": "1.5.0",
      "_model_name": "HTMLModel",
      "_view_count": null,
      "_view_module": "@jupyter-widgets/controls",
      "_view_module_version": "1.5.0",
      "_view_name": "HTMLView",
      "description": "",
      "description_tooltip": null,
      "layout": "IPY_MODEL_5fcb861e262c4b60bdd65555be18ee9f",
      "placeholder": "​",
      "style": "IPY_MODEL_ffe08acd76084cf39e983d841a667692",
      "value": " 26422272/? [00:01&lt;00:00, 23003151.21it/s]"
     }
    },
    "562cb99c1aa6472aab761ceb7649426e": {
     "model_module": "@jupyter-widgets/controls",
     "model_module_version": "1.5.0",
     "model_name": "HTMLModel",
     "state": {
      "_dom_classes": [],
      "_model_module": "@jupyter-widgets/controls",
      "_model_module_version": "1.5.0",
      "_model_name": "HTMLModel",
      "_view_count": null,
      "_view_module": "@jupyter-widgets/controls",
      "_view_module_version": "1.5.0",
      "_view_name": "HTMLView",
      "description": "",
      "description_tooltip": null,
      "layout": "IPY_MODEL_5faf990d74244ff9bcd2decd975a3433",
      "placeholder": "​",
      "style": "IPY_MODEL_b2b9391c90254ffeb360be874c943a19",
      "value": ""
     }
    },
    "5ac945ac6a624ef98b71564350abf3ba": {
     "model_module": "@jupyter-widgets/controls",
     "model_module_version": "1.5.0",
     "model_name": "HTMLModel",
     "state": {
      "_dom_classes": [],
      "_model_module": "@jupyter-widgets/controls",
      "_model_module_version": "1.5.0",
      "_model_name": "HTMLModel",
      "_view_count": null,
      "_view_module": "@jupyter-widgets/controls",
      "_view_module_version": "1.5.0",
      "_view_name": "HTMLView",
      "description": "",
      "description_tooltip": null,
      "layout": "IPY_MODEL_01be35cf81564ebe967144db0b71b2b0",
      "placeholder": "​",
      "style": "IPY_MODEL_cc4941b945ed4f6ab16c2a3cc776407b",
      "value": ""
     }
    },
    "5faf990d74244ff9bcd2decd975a3433": {
     "model_module": "@jupyter-widgets/base",
     "model_module_version": "1.2.0",
     "model_name": "LayoutModel",
     "state": {
      "_model_module": "@jupyter-widgets/base",
      "_model_module_version": "1.2.0",
      "_model_name": "LayoutModel",
      "_view_count": null,
      "_view_module": "@jupyter-widgets/base",
      "_view_module_version": "1.2.0",
      "_view_name": "LayoutView",
      "align_content": null,
      "align_items": null,
      "align_self": null,
      "border": null,
      "bottom": null,
      "display": null,
      "flex": null,
      "flex_flow": null,
      "grid_area": null,
      "grid_auto_columns": null,
      "grid_auto_flow": null,
      "grid_auto_rows": null,
      "grid_column": null,
      "grid_gap": null,
      "grid_row": null,
      "grid_template_areas": null,
      "grid_template_columns": null,
      "grid_template_rows": null,
      "height": null,
      "justify_content": null,
      "justify_items": null,
      "left": null,
      "margin": null,
      "max_height": null,
      "max_width": null,
      "min_height": null,
      "min_width": null,
      "object_fit": null,
      "object_position": null,
      "order": null,
      "overflow": null,
      "overflow_x": null,
      "overflow_y": null,
      "padding": null,
      "right": null,
      "top": null,
      "visibility": null,
      "width": null
     }
    },
    "5fcb861e262c4b60bdd65555be18ee9f": {
     "model_module": "@jupyter-widgets/base",
     "model_module_version": "1.2.0",
     "model_name": "LayoutModel",
     "state": {
      "_model_module": "@jupyter-widgets/base",
      "_model_module_version": "1.2.0",
      "_model_name": "LayoutModel",
      "_view_count": null,
      "_view_module": "@jupyter-widgets/base",
      "_view_module_version": "1.2.0",
      "_view_name": "LayoutView",
      "align_content": null,
      "align_items": null,
      "align_self": null,
      "border": null,
      "bottom": null,
      "display": null,
      "flex": null,
      "flex_flow": null,
      "grid_area": null,
      "grid_auto_columns": null,
      "grid_auto_flow": null,
      "grid_auto_rows": null,
      "grid_column": null,
      "grid_gap": null,
      "grid_row": null,
      "grid_template_areas": null,
      "grid_template_columns": null,
      "grid_template_rows": null,
      "height": null,
      "justify_content": null,
      "justify_items": null,
      "left": null,
      "margin": null,
      "max_height": null,
      "max_width": null,
      "min_height": null,
      "min_width": null,
      "object_fit": null,
      "object_position": null,
      "order": null,
      "overflow": null,
      "overflow_x": null,
      "overflow_y": null,
      "padding": null,
      "right": null,
      "top": null,
      "visibility": null,
      "width": null
     }
    },
    "6366af7160264495affbc203f54f2a5b": {
     "model_module": "@jupyter-widgets/base",
     "model_module_version": "1.2.0",
     "model_name": "LayoutModel",
     "state": {
      "_model_module": "@jupyter-widgets/base",
      "_model_module_version": "1.2.0",
      "_model_name": "LayoutModel",
      "_view_count": null,
      "_view_module": "@jupyter-widgets/base",
      "_view_module_version": "1.2.0",
      "_view_name": "LayoutView",
      "align_content": null,
      "align_items": null,
      "align_self": null,
      "border": null,
      "bottom": null,
      "display": null,
      "flex": null,
      "flex_flow": null,
      "grid_area": null,
      "grid_auto_columns": null,
      "grid_auto_flow": null,
      "grid_auto_rows": null,
      "grid_column": null,
      "grid_gap": null,
      "grid_row": null,
      "grid_template_areas": null,
      "grid_template_columns": null,
      "grid_template_rows": null,
      "height": null,
      "justify_content": null,
      "justify_items": null,
      "left": null,
      "margin": null,
      "max_height": null,
      "max_width": null,
      "min_height": null,
      "min_width": null,
      "object_fit": null,
      "object_position": null,
      "order": null,
      "overflow": null,
      "overflow_x": null,
      "overflow_y": null,
      "padding": null,
      "right": null,
      "top": null,
      "visibility": null,
      "width": null
     }
    },
    "692651ce795140678e362d262ccd8695": {
     "model_module": "@jupyter-widgets/controls",
     "model_module_version": "1.5.0",
     "model_name": "DescriptionStyleModel",
     "state": {
      "_model_module": "@jupyter-widgets/controls",
      "_model_module_version": "1.5.0",
      "_model_name": "DescriptionStyleModel",
      "_view_count": null,
      "_view_module": "@jupyter-widgets/base",
      "_view_module_version": "1.2.0",
      "_view_name": "StyleView",
      "description_width": ""
     }
    },
    "767ef726ea4043b4bd7c6b0f73b270ed": {
     "model_module": "@jupyter-widgets/controls",
     "model_module_version": "1.5.0",
     "model_name": "ProgressStyleModel",
     "state": {
      "_model_module": "@jupyter-widgets/controls",
      "_model_module_version": "1.5.0",
      "_model_name": "ProgressStyleModel",
      "_view_count": null,
      "_view_module": "@jupyter-widgets/base",
      "_view_module_version": "1.2.0",
      "_view_name": "StyleView",
      "bar_color": null,
      "description_width": ""
     }
    },
    "76b6e2f2febf4e36b662076f8ac33b78": {
     "model_module": "@jupyter-widgets/controls",
     "model_module_version": "1.5.0",
     "model_name": "HBoxModel",
     "state": {
      "_dom_classes": [],
      "_model_module": "@jupyter-widgets/controls",
      "_model_module_version": "1.5.0",
      "_model_name": "HBoxModel",
      "_view_count": null,
      "_view_module": "@jupyter-widgets/controls",
      "_view_module_version": "1.5.0",
      "_view_name": "HBoxView",
      "box_style": "",
      "children": [
       "IPY_MODEL_562cb99c1aa6472aab761ceb7649426e",
       "IPY_MODEL_e0eaacfd13f544a8af82a71563a18492",
       "IPY_MODEL_18fefd9cfb1c4ebb997041deb6fe09a3"
      ],
      "layout": "IPY_MODEL_edeebcad6abd477bbd75dff0d71b4dde"
     }
    },
    "79d81c9e2ada45fd864af1710c109384": {
     "model_module": "@jupyter-widgets/controls",
     "model_module_version": "1.5.0",
     "model_name": "ProgressStyleModel",
     "state": {
      "_model_module": "@jupyter-widgets/controls",
      "_model_module_version": "1.5.0",
      "_model_name": "ProgressStyleModel",
      "_view_count": null,
      "_view_module": "@jupyter-widgets/base",
      "_view_module_version": "1.2.0",
      "_view_name": "StyleView",
      "bar_color": null,
      "description_width": ""
     }
    },
    "8260840741b64bba8f86c4824f62e6e8": {
     "model_module": "@jupyter-widgets/controls",
     "model_module_version": "1.5.0",
     "model_name": "HTMLModel",
     "state": {
      "_dom_classes": [],
      "_model_module": "@jupyter-widgets/controls",
      "_model_module_version": "1.5.0",
      "_model_name": "HTMLModel",
      "_view_count": null,
      "_view_module": "@jupyter-widgets/controls",
      "_view_module_version": "1.5.0",
      "_view_name": "HTMLView",
      "description": "",
      "description_tooltip": null,
      "layout": "IPY_MODEL_ea40dfb78ad142558fcdd4749dfb7401",
      "placeholder": "​",
      "style": "IPY_MODEL_157b509c66764e8397f6a7e89ce5f4ed",
      "value": ""
     }
    },
    "8511dec74e504c3d8a96a77484ba96be": {
     "model_module": "@jupyter-widgets/controls",
     "model_module_version": "1.5.0",
     "model_name": "FloatProgressModel",
     "state": {
      "_dom_classes": [],
      "_model_module": "@jupyter-widgets/controls",
      "_model_module_version": "1.5.0",
      "_model_name": "FloatProgressModel",
      "_view_count": null,
      "_view_module": "@jupyter-widgets/controls",
      "_view_module_version": "1.5.0",
      "_view_name": "ProgressView",
      "bar_style": "success",
      "description": "",
      "description_tooltip": null,
      "layout": "IPY_MODEL_50b421d53a7e40adb72d719c0b1e50fb",
      "max": 4422102,
      "min": 0,
      "orientation": "horizontal",
      "style": "IPY_MODEL_94341c237e084023958ecd3122e14f49",
      "value": 4422102
     }
    },
    "94341c237e084023958ecd3122e14f49": {
     "model_module": "@jupyter-widgets/controls",
     "model_module_version": "1.5.0",
     "model_name": "ProgressStyleModel",
     "state": {
      "_model_module": "@jupyter-widgets/controls",
      "_model_module_version": "1.5.0",
      "_model_name": "ProgressStyleModel",
      "_view_count": null,
      "_view_module": "@jupyter-widgets/base",
      "_view_module_version": "1.2.0",
      "_view_name": "StyleView",
      "bar_color": null,
      "description_width": ""
     }
    },
    "95376b991275409fabdfd56a433151e6": {
     "model_module": "@jupyter-widgets/controls",
     "model_module_version": "1.5.0",
     "model_name": "ProgressStyleModel",
     "state": {
      "_model_module": "@jupyter-widgets/controls",
      "_model_module_version": "1.5.0",
      "_model_name": "ProgressStyleModel",
      "_view_count": null,
      "_view_module": "@jupyter-widgets/base",
      "_view_module_version": "1.2.0",
      "_view_name": "StyleView",
      "bar_color": null,
      "description_width": ""
     }
    },
    "a16e7415c45e46f685192aaccabb2b27": {
     "model_module": "@jupyter-widgets/controls",
     "model_module_version": "1.5.0",
     "model_name": "HTMLModel",
     "state": {
      "_dom_classes": [],
      "_model_module": "@jupyter-widgets/controls",
      "_model_module_version": "1.5.0",
      "_model_name": "HTMLModel",
      "_view_count": null,
      "_view_module": "@jupyter-widgets/controls",
      "_view_module_version": "1.5.0",
      "_view_name": "HTMLView",
      "description": "",
      "description_tooltip": null,
      "layout": "IPY_MODEL_080ef53e67744f7d9e37a7153688a5dc",
      "placeholder": "​",
      "style": "IPY_MODEL_692651ce795140678e362d262ccd8695",
      "value": " 6144/? [00:00&lt;00:00, 94537.21it/s]"
     }
    },
    "a6f99b6638c647a49948f422564e8223": {
     "model_module": "@jupyter-widgets/base",
     "model_module_version": "1.2.0",
     "model_name": "LayoutModel",
     "state": {
      "_model_module": "@jupyter-widgets/base",
      "_model_module_version": "1.2.0",
      "_model_name": "LayoutModel",
      "_view_count": null,
      "_view_module": "@jupyter-widgets/base",
      "_view_module_version": "1.2.0",
      "_view_name": "LayoutView",
      "align_content": null,
      "align_items": null,
      "align_self": null,
      "border": null,
      "bottom": null,
      "display": null,
      "flex": null,
      "flex_flow": null,
      "grid_area": null,
      "grid_auto_columns": null,
      "grid_auto_flow": null,
      "grid_auto_rows": null,
      "grid_column": null,
      "grid_gap": null,
      "grid_row": null,
      "grid_template_areas": null,
      "grid_template_columns": null,
      "grid_template_rows": null,
      "height": null,
      "justify_content": null,
      "justify_items": null,
      "left": null,
      "margin": null,
      "max_height": null,
      "max_width": null,
      "min_height": null,
      "min_width": null,
      "object_fit": null,
      "object_position": null,
      "order": null,
      "overflow": null,
      "overflow_x": null,
      "overflow_y": null,
      "padding": null,
      "right": null,
      "top": null,
      "visibility": null,
      "width": null
     }
    },
    "ae2df34fefd143538ea8bae2d32ba982": {
     "model_module": "@jupyter-widgets/base",
     "model_module_version": "1.2.0",
     "model_name": "LayoutModel",
     "state": {
      "_model_module": "@jupyter-widgets/base",
      "_model_module_version": "1.2.0",
      "_model_name": "LayoutModel",
      "_view_count": null,
      "_view_module": "@jupyter-widgets/base",
      "_view_module_version": "1.2.0",
      "_view_name": "LayoutView",
      "align_content": null,
      "align_items": null,
      "align_self": null,
      "border": null,
      "bottom": null,
      "display": null,
      "flex": null,
      "flex_flow": null,
      "grid_area": null,
      "grid_auto_columns": null,
      "grid_auto_flow": null,
      "grid_auto_rows": null,
      "grid_column": null,
      "grid_gap": null,
      "grid_row": null,
      "grid_template_areas": null,
      "grid_template_columns": null,
      "grid_template_rows": null,
      "height": null,
      "justify_content": null,
      "justify_items": null,
      "left": null,
      "margin": null,
      "max_height": null,
      "max_width": null,
      "min_height": null,
      "min_width": null,
      "object_fit": null,
      "object_position": null,
      "order": null,
      "overflow": null,
      "overflow_x": null,
      "overflow_y": null,
      "padding": null,
      "right": null,
      "top": null,
      "visibility": null,
      "width": null
     }
    },
    "b2b9391c90254ffeb360be874c943a19": {
     "model_module": "@jupyter-widgets/controls",
     "model_module_version": "1.5.0",
     "model_name": "DescriptionStyleModel",
     "state": {
      "_model_module": "@jupyter-widgets/controls",
      "_model_module_version": "1.5.0",
      "_model_name": "DescriptionStyleModel",
      "_view_count": null,
      "_view_module": "@jupyter-widgets/base",
      "_view_module_version": "1.2.0",
      "_view_name": "StyleView",
      "description_width": ""
     }
    },
    "b42129555f7e404691537437a2d9a408": {
     "model_module": "@jupyter-widgets/controls",
     "model_module_version": "1.5.0",
     "model_name": "HBoxModel",
     "state": {
      "_dom_classes": [],
      "_model_module": "@jupyter-widgets/controls",
      "_model_module_version": "1.5.0",
      "_model_name": "HBoxModel",
      "_view_count": null,
      "_view_module": "@jupyter-widgets/controls",
      "_view_module_version": "1.5.0",
      "_view_name": "HBoxView",
      "box_style": "",
      "children": [
       "IPY_MODEL_c017a064939e49aca5eac687949feaf1",
       "IPY_MODEL_8511dec74e504c3d8a96a77484ba96be",
       "IPY_MODEL_466783dea9fd4fd992e51420e0a5ecd3"
      ],
      "layout": "IPY_MODEL_ae2df34fefd143538ea8bae2d32ba982"
     }
    },
    "b8ba1d0e2ed44c40b0f2f5bca10acc5f": {
     "model_module": "@jupyter-widgets/base",
     "model_module_version": "1.2.0",
     "model_name": "LayoutModel",
     "state": {
      "_model_module": "@jupyter-widgets/base",
      "_model_module_version": "1.2.0",
      "_model_name": "LayoutModel",
      "_view_count": null,
      "_view_module": "@jupyter-widgets/base",
      "_view_module_version": "1.2.0",
      "_view_name": "LayoutView",
      "align_content": null,
      "align_items": null,
      "align_self": null,
      "border": null,
      "bottom": null,
      "display": null,
      "flex": null,
      "flex_flow": null,
      "grid_area": null,
      "grid_auto_columns": null,
      "grid_auto_flow": null,
      "grid_auto_rows": null,
      "grid_column": null,
      "grid_gap": null,
      "grid_row": null,
      "grid_template_areas": null,
      "grid_template_columns": null,
      "grid_template_rows": null,
      "height": null,
      "justify_content": null,
      "justify_items": null,
      "left": null,
      "margin": null,
      "max_height": null,
      "max_width": null,
      "min_height": null,
      "min_width": null,
      "object_fit": null,
      "object_position": null,
      "order": null,
      "overflow": null,
      "overflow_x": null,
      "overflow_y": null,
      "padding": null,
      "right": null,
      "top": null,
      "visibility": null,
      "width": null
     }
    },
    "bda4043101ba4ba3b9dbee949f1e9d3e": {
     "model_module": "@jupyter-widgets/base",
     "model_module_version": "1.2.0",
     "model_name": "LayoutModel",
     "state": {
      "_model_module": "@jupyter-widgets/base",
      "_model_module_version": "1.2.0",
      "_model_name": "LayoutModel",
      "_view_count": null,
      "_view_module": "@jupyter-widgets/base",
      "_view_module_version": "1.2.0",
      "_view_name": "LayoutView",
      "align_content": null,
      "align_items": null,
      "align_self": null,
      "border": null,
      "bottom": null,
      "display": null,
      "flex": null,
      "flex_flow": null,
      "grid_area": null,
      "grid_auto_columns": null,
      "grid_auto_flow": null,
      "grid_auto_rows": null,
      "grid_column": null,
      "grid_gap": null,
      "grid_row": null,
      "grid_template_areas": null,
      "grid_template_columns": null,
      "grid_template_rows": null,
      "height": null,
      "justify_content": null,
      "justify_items": null,
      "left": null,
      "margin": null,
      "max_height": null,
      "max_width": null,
      "min_height": null,
      "min_width": null,
      "object_fit": null,
      "object_position": null,
      "order": null,
      "overflow": null,
      "overflow_x": null,
      "overflow_y": null,
      "padding": null,
      "right": null,
      "top": null,
      "visibility": null,
      "width": null
     }
    },
    "c017a064939e49aca5eac687949feaf1": {
     "model_module": "@jupyter-widgets/controls",
     "model_module_version": "1.5.0",
     "model_name": "HTMLModel",
     "state": {
      "_dom_classes": [],
      "_model_module": "@jupyter-widgets/controls",
      "_model_module_version": "1.5.0",
      "_model_name": "HTMLModel",
      "_view_count": null,
      "_view_module": "@jupyter-widgets/controls",
      "_view_module_version": "1.5.0",
      "_view_name": "HTMLView",
      "description": "",
      "description_tooltip": null,
      "layout": "IPY_MODEL_049d25ecd0004293a5691577cb382743",
      "placeholder": "​",
      "style": "IPY_MODEL_0b04085544144998bbe9c253f35b8968",
      "value": ""
     }
    },
    "cc4941b945ed4f6ab16c2a3cc776407b": {
     "model_module": "@jupyter-widgets/controls",
     "model_module_version": "1.5.0",
     "model_name": "DescriptionStyleModel",
     "state": {
      "_model_module": "@jupyter-widgets/controls",
      "_model_module_version": "1.5.0",
      "_model_name": "DescriptionStyleModel",
      "_view_count": null,
      "_view_module": "@jupyter-widgets/base",
      "_view_module_version": "1.2.0",
      "_view_name": "StyleView",
      "description_width": ""
     }
    },
    "e0eaacfd13f544a8af82a71563a18492": {
     "model_module": "@jupyter-widgets/controls",
     "model_module_version": "1.5.0",
     "model_name": "FloatProgressModel",
     "state": {
      "_dom_classes": [],
      "_model_module": "@jupyter-widgets/controls",
      "_model_module_version": "1.5.0",
      "_model_name": "FloatProgressModel",
      "_view_count": null,
      "_view_module": "@jupyter-widgets/controls",
      "_view_module_version": "1.5.0",
      "_view_name": "ProgressView",
      "bar_style": "success",
      "description": "",
      "description_tooltip": null,
      "layout": "IPY_MODEL_bda4043101ba4ba3b9dbee949f1e9d3e",
      "max": 29515,
      "min": 0,
      "orientation": "horizontal",
      "style": "IPY_MODEL_79d81c9e2ada45fd864af1710c109384",
      "value": 29515
     }
    },
    "ea40dfb78ad142558fcdd4749dfb7401": {
     "model_module": "@jupyter-widgets/base",
     "model_module_version": "1.2.0",
     "model_name": "LayoutModel",
     "state": {
      "_model_module": "@jupyter-widgets/base",
      "_model_module_version": "1.2.0",
      "_model_name": "LayoutModel",
      "_view_count": null,
      "_view_module": "@jupyter-widgets/base",
      "_view_module_version": "1.2.0",
      "_view_name": "LayoutView",
      "align_content": null,
      "align_items": null,
      "align_self": null,
      "border": null,
      "bottom": null,
      "display": null,
      "flex": null,
      "flex_flow": null,
      "grid_area": null,
      "grid_auto_columns": null,
      "grid_auto_flow": null,
      "grid_auto_rows": null,
      "grid_column": null,
      "grid_gap": null,
      "grid_row": null,
      "grid_template_areas": null,
      "grid_template_columns": null,
      "grid_template_rows": null,
      "height": null,
      "justify_content": null,
      "justify_items": null,
      "left": null,
      "margin": null,
      "max_height": null,
      "max_width": null,
      "min_height": null,
      "min_width": null,
      "object_fit": null,
      "object_position": null,
      "order": null,
      "overflow": null,
      "overflow_x": null,
      "overflow_y": null,
      "padding": null,
      "right": null,
      "top": null,
      "visibility": null,
      "width": null
     }
    },
    "edeebcad6abd477bbd75dff0d71b4dde": {
     "model_module": "@jupyter-widgets/base",
     "model_module_version": "1.2.0",
     "model_name": "LayoutModel",
     "state": {
      "_model_module": "@jupyter-widgets/base",
      "_model_module_version": "1.2.0",
      "_model_name": "LayoutModel",
      "_view_count": null,
      "_view_module": "@jupyter-widgets/base",
      "_view_module_version": "1.2.0",
      "_view_name": "LayoutView",
      "align_content": null,
      "align_items": null,
      "align_self": null,
      "border": null,
      "bottom": null,
      "display": null,
      "flex": null,
      "flex_flow": null,
      "grid_area": null,
      "grid_auto_columns": null,
      "grid_auto_flow": null,
      "grid_auto_rows": null,
      "grid_column": null,
      "grid_gap": null,
      "grid_row": null,
      "grid_template_areas": null,
      "grid_template_columns": null,
      "grid_template_rows": null,
      "height": null,
      "justify_content": null,
      "justify_items": null,
      "left": null,
      "margin": null,
      "max_height": null,
      "max_width": null,
      "min_height": null,
      "min_width": null,
      "object_fit": null,
      "object_position": null,
      "order": null,
      "overflow": null,
      "overflow_x": null,
      "overflow_y": null,
      "padding": null,
      "right": null,
      "top": null,
      "visibility": null,
      "width": null
     }
    },
    "f7126ff68a9144e1b698385d37a25127": {
     "model_module": "@jupyter-widgets/controls",
     "model_module_version": "1.5.0",
     "model_name": "HBoxModel",
     "state": {
      "_dom_classes": [],
      "_model_module": "@jupyter-widgets/controls",
      "_model_module_version": "1.5.0",
      "_model_name": "HBoxModel",
      "_view_count": null,
      "_view_module": "@jupyter-widgets/controls",
      "_view_module_version": "1.5.0",
      "_view_name": "HBoxView",
      "box_style": "",
      "children": [
       "IPY_MODEL_5ac945ac6a624ef98b71564350abf3ba",
       "IPY_MODEL_5432f0d137864be08bdd9a479a48a7ab",
       "IPY_MODEL_a16e7415c45e46f685192aaccabb2b27"
      ],
      "layout": "IPY_MODEL_3f782d881eff4e9ba248547e62ca2602"
     }
    },
    "f8e1cca2e4fb4df48fbf580957b1c688": {
     "model_module": "@jupyter-widgets/base",
     "model_module_version": "1.2.0",
     "model_name": "LayoutModel",
     "state": {
      "_model_module": "@jupyter-widgets/base",
      "_model_module_version": "1.2.0",
      "_model_name": "LayoutModel",
      "_view_count": null,
      "_view_module": "@jupyter-widgets/base",
      "_view_module_version": "1.2.0",
      "_view_name": "LayoutView",
      "align_content": null,
      "align_items": null,
      "align_self": null,
      "border": null,
      "bottom": null,
      "display": null,
      "flex": null,
      "flex_flow": null,
      "grid_area": null,
      "grid_auto_columns": null,
      "grid_auto_flow": null,
      "grid_auto_rows": null,
      "grid_column": null,
      "grid_gap": null,
      "grid_row": null,
      "grid_template_areas": null,
      "grid_template_columns": null,
      "grid_template_rows": null,
      "height": null,
      "justify_content": null,
      "justify_items": null,
      "left": null,
      "margin": null,
      "max_height": null,
      "max_width": null,
      "min_height": null,
      "min_width": null,
      "object_fit": null,
      "object_position": null,
      "order": null,
      "overflow": null,
      "overflow_x": null,
      "overflow_y": null,
      "padding": null,
      "right": null,
      "top": null,
      "visibility": null,
      "width": null
     }
    },
    "fe5a4b83eae946b386183c7bdbb1e918": {
     "model_module": "@jupyter-widgets/controls",
     "model_module_version": "1.5.0",
     "model_name": "DescriptionStyleModel",
     "state": {
      "_model_module": "@jupyter-widgets/controls",
      "_model_module_version": "1.5.0",
      "_model_name": "DescriptionStyleModel",
      "_view_count": null,
      "_view_module": "@jupyter-widgets/base",
      "_view_module_version": "1.2.0",
      "_view_name": "StyleView",
      "description_width": ""
     }
    },
    "ffe08acd76084cf39e983d841a667692": {
     "model_module": "@jupyter-widgets/controls",
     "model_module_version": "1.5.0",
     "model_name": "DescriptionStyleModel",
     "state": {
      "_model_module": "@jupyter-widgets/controls",
      "_model_module_version": "1.5.0",
      "_model_name": "DescriptionStyleModel",
      "_view_count": null,
      "_view_module": "@jupyter-widgets/base",
      "_view_module_version": "1.2.0",
      "_view_name": "StyleView",
      "description_width": ""
     }
    }
   }
  }
 },
 "nbformat": 4,
 "nbformat_minor": 5
}
