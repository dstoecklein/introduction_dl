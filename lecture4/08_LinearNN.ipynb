{
 "cells": [
  {
   "cell_type": "markdown",
   "id": "1ba5073d",
   "metadata": {
    "slideshow": {
     "slide_type": "slide"
    }
   },
   "source": [
    "## Problem description\n",
    "\n",
    "Predict the price of flat in Wurzbrug based on its size (in sqm) and time since last renovation (in yrs).\n",
    "\n",
    "* input: $\\mathbf{x} \\in \\mathbb{R}^2$, each example $\\mathbf{x}$ consists of 2 features\n",
    "* output: $y \\in \\mathbb{R}$, single output (price)\n",
    "* Thus the dataset matrix = $\\mathbf{X} \\in \\mathbb{R}^{x \\times 2}$"
   ]
  },
  {
   "cell_type": "code",
   "execution_count": 98,
   "id": "43228f27",
   "metadata": {},
   "outputs": [],
   "source": [
    "# import torch\n",
    "# --- YOUR CODE HERE ---\n",
    "import torch\n",
    "import random\n",
    "from matplotlib import pyplot as plt\n",
    "%matplotlib inline"
   ]
  },
  {
   "cell_type": "markdown",
   "id": "24aefcdc",
   "metadata": {
    "slideshow": {
     "slide_type": "slide"
    }
   },
   "source": [
    "### Generate synthetic data\n",
    "\n",
    "Generate some data which are a bit similar to reality:\n",
    "\n",
    "* sizes from normal distribution with mean 70 and std 20\n",
    "* years from normal distribution with mean 5 and std 2\n",
    "* clamp the input data into reasonable values (e.g. sizes btw $[20, 150]$, years btw $[0, 10]$)"
   ]
  },
  {
   "cell_type": "code",
   "execution_count": 99,
   "id": "e7856f59",
   "metadata": {},
   "outputs": [
    {
     "data": {
      "text/plain": [
       "torch.Size([1000, 2])"
      ]
     },
     "execution_count": 99,
     "metadata": {},
     "output_type": "execute_result"
    }
   ],
   "source": [
    "# Fix number of data examples (e.g. to 1000)\n",
    "# --- YOUR CODE HERE ---\n",
    "num_samples = 1000\n",
    "\n",
    "# generate random input data\n",
    "# --- YOUR CODE HERE ---\n",
    "sizes = torch.normal(mean=70, std=20, size=(num_samples, 1))\n",
    "years = torch.normal(mean=5, std=2, size=(num_samples, 1))\n",
    "\n",
    "sizes = torch.clamp(sizes, min=20, max=150)\n",
    "years = torch.clamp(years, min=0, max=10)\n",
    "\n",
    "# make sure the inputs are a single tensor with 2 colums\n",
    "# --- YOUR CODE HERE ---\n",
    "features = torch.cat((sizes, years),dim=1)\n",
    "features.shape"
   ]
  },
  {
   "cell_type": "markdown",
   "id": "3ad9d2f3",
   "metadata": {
    "slideshow": {
     "slide_type": "slide"
    }
   },
   "source": [
    "### Generate synthetic labels\n",
    "\n",
    "We are working with liner model so assume labels are generated as $y = \\mathbf{x}^T \\mathbf{w} + b + e$, where $e$ is random gaussian noise.\n",
    "\n",
    "Fix true parameters to the following values:\n",
    "\n",
    "* weight for size = 10.\n",
    "* weight for years = -20.\n",
    "* bias = 100\n",
    "* random noise is Gaussian with mean 0. and standard deviation 5."
   ]
  },
  {
   "cell_type": "code",
   "execution_count": 115,
   "id": "3ce447a9",
   "metadata": {},
   "outputs": [
    {
     "data": {
      "text/plain": [
       "tensor([[ 692.6934],\n",
       "        [1072.4030],\n",
       "        [ 530.9484],\n",
       "        ...,\n",
       "        [ 678.9172],\n",
       "        [ 933.4548],\n",
       "        [ 620.8697]])"
      ]
     },
     "execution_count": 115,
     "metadata": {},
     "output_type": "execute_result"
    }
   ],
   "source": [
    "# fix true parameters for the linear regression\n",
    "true_w = torch.tensor([10.0, -20.0])\n",
    "\n",
    "# bias\n",
    "true_b = 100.0\n",
    "\n",
    "#noise\n",
    "noise = torch.normal(mean=0, std=5, size=labels.shape)\n",
    "\n",
    "# generate outputs from linear regression model y = x^T w + b + e\n",
    "labels = torch.matmul(features, true_w) + true_b + noise\n",
    "labels = labels.reshape((-1, 1))\n",
    "labels"
   ]
  },
  {
   "cell_type": "markdown",
   "id": "1e08a482",
   "metadata": {
    "slideshow": {
     "slide_type": "slide"
    }
   },
   "source": [
    "### Plot data\n",
    "\n",
    "Use matplotlib library to plot a scatter graph of price against the size of the apartment"
   ]
  },
  {
   "cell_type": "code",
   "execution_count": 101,
   "id": "9fbba92c",
   "metadata": {},
   "outputs": [
    {
     "data": {
      "text/plain": [
       "<matplotlib.collections.PathCollection at 0x2498da8b250>"
      ]
     },
     "execution_count": 101,
     "metadata": {},
     "output_type": "execute_result"
    },
    {
     "data": {
      "image/png": "[encoded data removed]",
      "text/plain": [
       "<Figure size 432x288 with 1 Axes>"
      ]
     },
     "metadata": {
      "needs_background": "light"
     },
     "output_type": "display_data"
    }
   ],
   "source": [
    "# use matplilib to plot a scatter of price against the size\n",
    "# --- YOUR CODE HERE ---\n",
    "plt.scatter(sizes.detach().numpy(), labels.detach().numpy(), .5) # detach tensor graphs and convert to ndarray"
   ]
  },
  {
   "cell_type": "markdown",
   "id": "cf76e855",
   "metadata": {
    "slideshow": {
     "slide_type": "slide"
    }
   },
   "source": [
    "### Data loading\n",
    "\n",
    "Write a generator to load batches of data. It shall recieve as arguments the data inputs, outputs and the batch size and yield a batch of examples at every call, where batch is a tuple of inputs and outputs in the batch. Remember to shuffle the data at the initiation of the generator so that you do not get always the same batches.\n",
    "\n",
    "- iterator: Iterates over a list\n",
    "- generator: Generates a list\n",
    "\n",
    "- *param*: inputs, outputs, batch_size\n",
    "- *yield*: batch (inputs, outputs)\n",
    "\n",
    "\n",
    "- range: \n",
    "- - start: Starting number of the sequence.\n",
    "- - stop: Generate numbers up to, but not including this number.\n",
    "- - step: Difference between each number in the sequence.\n",
    "\n",
    "\n",
    "- min:\n",
    "- - return the lowest number of an iterable"
   ]
  },
  {
   "cell_type": "code",
   "execution_count": 102,
   "id": "dfe4e6d2",
   "metadata": {},
   "outputs": [],
   "source": [
    "# define a function (generator) iter_data(inputs, outputs, batch_size) -> (batch_inputs, batch_outputs)\n",
    "# --- YOUR CODE HERE ---\n",
    "import random\n",
    "\n",
    "def generator(features, labels, batch_size):\n",
    "    num_examples = len(features) # just assign lenght of our input to a variable\n",
    "    indices = list(range(num_examples)) # create a list of indices with respect to the number of examples (0,1,...,999)\n",
    "    random.shuffle(indices)\n",
    "    for i in range(0, num_examples, batch_size): # with batch_size 10 -> i=0, i=10, i=20, ... i=990\n",
    "        # define range of batch\n",
    "        # with batch_size 10 & num_examples 1000 \n",
    "            # (0 + 10, 1000) = 10, (10 + 10, 1000) = 20, ..., (1000 + 10, 1000) = 1000 \n",
    "        end = min(i + batch_size, num_examples)\n",
    "\n",
    "        # create a tensor out of the list with indices from the examples\n",
    "        batch_indices = torch.tensor(indices[i:end]) \n",
    "        yield features[batch_indices], labels[batch_indices]\n"
   ]
  },
  {
   "cell_type": "markdown",
   "id": "cc8b399f",
   "metadata": {
    "slideshow": {
     "slide_type": "slide"
    }
   },
   "source": [
    "### Iterate through data\n",
    "\n",
    "Check your generator works by iterating once through all the data and printing out the batch at every iteration."
   ]
  },
  {
   "cell_type": "markdown",
   "id": "db2b8e70",
   "metadata": {
    "slideshow": {
     "slide_type": "slide"
    }
   },
   "source": [
    "### Model definition\n",
    "\n",
    "We work with linear regression so we need to define a linear regression model as $\\hat{y} = \\mathbf{x}^T \\mathbf{w} + b$.\n",
    "Here $\\mathbf{w}$ and $b$ are the unknown parameters that we need to learn."
   ]
  },
  {
   "cell_type": "code",
   "execution_count": 103,
   "id": "17472385",
   "metadata": {},
   "outputs": [],
   "source": [
    "# define a function lin_reg(inputs, weight, bias) -> y_hat \n",
    "# --- YOUR CODE HERE ---\n",
    "def lin_reg(features, weights, bias):\n",
    "    return torch.matmul(features, weights) + bias"
   ]
  },
  {
   "cell_type": "markdown",
   "id": "c5854c0e",
   "metadata": {
    "slideshow": {
     "slide_type": "slide"
    }
   },
   "source": [
    "### Loss function definition\n",
    "\n",
    "We use squared error loss function $$\\mathcal{L} = \\frac{1}{n} \\sum_{i = 1}^{n} \\frac{1}{2}(\\hat{y}^{(i)} - y^{(i)})^2$$"
   ]
  },
  {
   "cell_type": "code",
   "execution_count": 104,
   "id": "93ffec61",
   "metadata": {},
   "outputs": [],
   "source": [
    "# define a function loss_func(labels, preds) -> error\n",
    "# --- YOUR CODE HERE ---\n",
    "def mse_loss(y, y_pred):\n",
    "    return ((y - y_pred)**2).mean()"
   ]
  },
  {
   "cell_type": "markdown",
   "id": "e4c1f9bd",
   "metadata": {
    "slideshow": {
     "slide_type": "slide"
    }
   },
   "source": [
    "### Optimization algorithm\n",
    "\n",
    "We will use minibatch stochastic gradient descent to update the parameters. The function should update the parameter values by a small step opposite to the gradient direction (which indicates the steepest increase). $\\mathbf{w} \\leftarrow \\mathbf{w} - \\alpha \\nabla_w$"
   ]
  },
  {
   "cell_type": "code",
   "execution_count": 105,
   "id": "ab4c6864",
   "metadata": {},
   "outputs": [],
   "source": [
    "# define a function sgd_step(params, learn_rate, batch_size) that does one step in the gradient updates\n",
    "# --- YOUR CODE HERE ---\n",
    "def sgd(params, learn_rate, batch_size):\n",
    "    for param in params:\n",
    "        with torch.no_grad(): #we dont want the optimization in the computational graph\n",
    "            param -= param.grad * learn_rate / batch_size #divide by batch_size because last batch may not be the same size as others\n",
    "            param.grad.zero_() #for every step we want just the gradient, otherwise it would sum up"
   ]
  },
  {
   "cell_type": "markdown",
   "id": "83785d2c",
   "metadata": {
    "slideshow": {
     "slide_type": "slide"
    }
   },
   "source": [
    "### Model training\n",
    "\n",
    "After all the pieces are ready, we implemen the main training loop. It needs to do the following:\n",
    "\n",
    "* initiate randomly the linear model parameters $(\\mathbf{w}, b)$\n",
    "* repeat for each epoch (unitl done)\n",
    "    * load batch of data\n",
    "    * do linear model precitions with current parameter values\n",
    "    * calculate loss\n",
    "    * get gradients\n",
    "    * update parameter values"
   ]
  },
  {
   "cell_type": "code",
   "execution_count": 106,
   "id": "e7bde345",
   "metadata": {},
   "outputs": [
    {
     "data": {
      "text/plain": [
       "[<matplotlib.lines.Line2D at 0x2498db0c0d0>]"
      ]
     },
     "execution_count": 106,
     "metadata": {},
     "output_type": "execute_result"
    },
    {
     "data": {
      "image/png": "[encoded data removed]",
      "text/plain": [
       "<Figure size 432x288 with 1 Axes>"
      ]
     },
     "metadata": {
      "needs_background": "light"
     },
     "output_type": "display_data"
    }
   ],
   "source": [
    "w = torch.randn(2, requires_grad=True)\n",
    "b = torch.randn(1, requires_grad=True)\n",
    "\n",
    "epochs = 1000\n",
    "batch_size = 64\n",
    "learning_rate = 0.01\n",
    "\n",
    "losses = []\n",
    "\n",
    "# write the training procedure\n",
    "# --- YOUR CODE HERE ---\n",
    "for epoch in range(epochs):\n",
    "    ll = 0\n",
    "    for i, batch in enumerate(generator(features, labels, batch_size)):\n",
    "        #for X, y in generator(features, labels, batch_size):\n",
    "        y_pred = lin_reg(X, w, b)\n",
    "        batch_loss = mse_loss(y, y_pred)\n",
    "        ll += batch_loss\n",
    "        batch_loss.backward()\n",
    "        sgd([w, b], learning_rate, len(X))\n",
    "    losses.append(ll.item() / i) #average loss\n",
    "        #print(batch_loss)\n",
    "plt.plot(losses[2:])"
   ]
  },
  {
   "cell_type": "code",
   "execution_count": 107,
   "id": "82178881",
   "metadata": {},
   "outputs": [
    {
     "data": {
      "text/plain": [
       "(tensor([ 4.7987, 30.5786], requires_grad=True),\n",
       " tensor([167.7081], requires_grad=True))"
      ]
     },
     "execution_count": 107,
     "metadata": {},
     "output_type": "execute_result"
    }
   ],
   "source": [
    "w, b"
   ]
  },
  {
   "cell_type": "code",
   "execution_count": 108,
   "id": "7d57ad2e",
   "metadata": {},
   "outputs": [
    {
     "data": {
      "text/plain": [
       "(tensor([ 10., -20.]), 100.0)"
      ]
     },
     "execution_count": 108,
     "metadata": {},
     "output_type": "execute_result"
    }
   ],
   "source": [
    "true_w, true_b"
   ]
  },
  {
   "cell_type": "markdown",
   "id": "8cfdcc68",
   "metadata": {
    "slideshow": {
     "slide_type": "slide"
    }
   },
   "source": [
    "### Normalize input data\n",
    "\n",
    "It is usually better to normalize your input data to remove any scaling differences. The normalized data shall have zero mean $\\mu$ and standard deviation $\\sigma$ 1.\n",
    "$$x_{norm} = \\frac{x - \\mu(x)}{\\sigma(x)}$$"
   ]
  },
  {
   "cell_type": "code",
   "execution_count": 109,
   "id": "d2699487",
   "metadata": {},
   "outputs": [
    {
     "data": {
      "text/plain": [
       "tensor([1., 1.])"
      ]
     },
     "execution_count": 109,
     "metadata": {},
     "output_type": "execute_result"
    }
   ],
   "source": [
    "mn = features.mean(dim=0)\n",
    "xn = features - mn\n",
    "xn.mean(dim=0)\n",
    "\n",
    "std = torch.std(xn, dim=0) #man kann std auch über features berechnen, ist das gleiche\n",
    "xn = xn/std\n",
    "xn.std(dim=0)"
   ]
  },
  {
   "cell_type": "markdown",
   "id": "db6f68ed",
   "metadata": {
    "slideshow": {
     "slide_type": "slide"
    }
   },
   "source": [
    "### Plot data again\n",
    "\n",
    "Just to check the result of the normalization step, plot again the scatter of price agains the normalized size."
   ]
  },
  {
   "cell_type": "code",
   "execution_count": 110,
   "id": "53ec05ee",
   "metadata": {
    "slideshow": {
     "slide_type": "-"
    }
   },
   "outputs": [],
   "source": [
    "# --- YOUR CODE HERE ---\n",
    "#plt.scatter(xn.detach().numpy(), labels.detach().numpy(), .5)"
   ]
  },
  {
   "cell_type": "markdown",
   "id": "cb9eff53",
   "metadata": {
    "slideshow": {
     "slide_type": "slide"
    }
   },
   "source": [
    "### Train over normalized data"
   ]
  },
  {
   "cell_type": "code",
   "execution_count": 111,
   "id": "cc17d40a",
   "metadata": {},
   "outputs": [
    {
     "data": {
      "text/plain": [
       "[<matplotlib.lines.Line2D at 0x2498db63dc0>]"
      ]
     },
     "execution_count": 111,
     "metadata": {},
     "output_type": "execute_result"
    },
    {
     "data": {
      "image/png": "[encoded data removed]",
      "text/plain": [
       "<Figure size 432x288 with 1 Axes>"
      ]
     },
     "metadata": {
      "needs_background": "light"
     },
     "output_type": "display_data"
    }
   ],
   "source": [
    "w = torch.randn(2, requires_grad=True)\n",
    "b = torch.randn(1, requires_grad=True)\n",
    "\n",
    "epochs = 500\n",
    "batch_size = 64\n",
    "learning_rate = 0.01\n",
    "\n",
    "losses = []\n",
    "\n",
    "# write the training procedure\n",
    "# --- YOUR CODE HERE ---\n",
    "for epoch in range(epochs):\n",
    "    ll = 0\n",
    "    for i, batch in enumerate(generator(xn, labels, batch_size)):\n",
    "        #for X, y in generator(features, labels, batch_size):\n",
    "        y_pred = lin_reg(X, w, b)\n",
    "        batch_loss = mse_loss(y, y_pred)\n",
    "        ll += batch_loss\n",
    "        batch_loss.backward()\n",
    "        sgd([w, b], learning_rate, len(X))\n",
    "    losses.append(ll.item() / i) #average loss\n",
    "        #print(batch_loss)\n",
    "plt.plot(losses[2:])"
   ]
  },
  {
   "cell_type": "code",
   "execution_count": 112,
   "id": "cf1cb03b",
   "metadata": {},
   "outputs": [],
   "source": [
    "# Wir brauchen viel weniger epochs"
   ]
  },
  {
   "cell_type": "code",
   "execution_count": 113,
   "id": "5d9961a8",
   "metadata": {},
   "outputs": [
    {
     "data": {
      "text/plain": [
       "(tensor([ 5.5164, 35.1521], requires_grad=True),\n",
       " tensor([91.2353], requires_grad=True))"
      ]
     },
     "execution_count": 113,
     "metadata": {},
     "output_type": "execute_result"
    }
   ],
   "source": [
    "w, b"
   ]
  },
  {
   "cell_type": "code",
   "execution_count": 114,
   "id": "48cf6c91",
   "metadata": {},
   "outputs": [
    {
     "data": {
      "text/plain": [
       "(tensor([ 10., -20.]), 100.0)"
      ]
     },
     "execution_count": 114,
     "metadata": {},
     "output_type": "execute_result"
    }
   ],
   "source": [
    "true_w, true_b"
   ]
  },
  {
   "cell_type": "code",
   "execution_count": null,
   "id": "6bebc5e4",
   "metadata": {},
   "outputs": [],
   "source": []
  }
 ],
 "metadata": {
  "celltoolbar": "Slideshow",
  "kernelspec": {
   "display_name": "Python 3 (ipykernel)",
   "language": "python",
   "name": "python3"
  },
  "language_info": {
   "codemirror_mode": {
    "name": "ipython",
    "version": 3
   },
   "file_extension": ".py",
   "mimetype": "text/x-python",
   "name": "python",
   "nbconvert_exporter": "python",
   "pygments_lexer": "ipython3",
   "version": "3.9.7"
  }
 },
 "nbformat": 4,
 "nbformat_minor": 5
}
