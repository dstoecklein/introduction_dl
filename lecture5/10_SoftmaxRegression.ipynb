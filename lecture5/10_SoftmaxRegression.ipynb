{
 "cells": [
  {
   "cell_type": "markdown",
   "id": "07f0e3cd",
   "metadata": {
    "slideshow": {
     "slide_type": "slide"
    }
   },
   "source": [
    "# Softmax regression\n",
    "\n",
    "## Steps to do:\n",
    "\n",
    "1. get training data\n",
    "2. prepare data loading\n",
    "3. define model\n",
    "4. define optimization procedure\n",
    "5. train model (and evaluate)"
   ]
  },
  {
   "cell_type": "markdown",
   "id": "5e973148",
   "metadata": {
    "slideshow": {
     "slide_type": "slide"
    }
   },
   "source": [
    "### MNIST dataset\n",
    "\n",
    "Standard benchmark dataset for image classification - hand written digits: http://yann.lecun.com/exdb/mnist/\n",
    "\n",
    "We will use `torchvision.datasets` to load the data and explore its contents."
   ]
  },
  {
   "cell_type": "code",
   "execution_count": 19,
   "id": "07377382",
   "metadata": {},
   "outputs": [],
   "source": [
    "# Load the train and test MNIST data\n",
    "# --- YOUR CODE HERE ---\n",
    "import torch\n",
    "from torchvision import datasets, transforms\n",
    "\n",
    "mnist_train = datasets.MNIST(\"../datasets\", train=True, download=True, transform=transforms.ToTensor())"
   ]
  },
  {
   "cell_type": "code",
   "execution_count": 20,
   "id": "4bad38d0",
   "metadata": {},
   "outputs": [
    {
     "data": {
      "text/plain": [
       "(tensor([[[0.0000, 0.0000, 0.0000, 0.0000, 0.0000, 0.0000, 0.0000, 0.0000,\n",
       "           0.0000, 0.0000, 0.0000, 0.0000, 0.0000, 0.0000, 0.0000, 0.0000,\n",
       "           0.0000, 0.0000, 0.0000, 0.0000, 0.0000, 0.0000, 0.0000, 0.0000,\n",
       "           0.0000, 0.0000, 0.0000, 0.0000],\n",
       "          [0.0000, 0.0000, 0.0000, 0.0000, 0.0000, 0.0000, 0.0000, 0.0000,\n",
       "           0.0000, 0.0000, 0.0000, 0.0000, 0.0000, 0.0000, 0.0000, 0.0000,\n",
       "           0.0000, 0.0000, 0.0000, 0.0000, 0.0000, 0.0000, 0.0000, 0.0000,\n",
       "           0.0000, 0.0000, 0.0000, 0.0000],\n",
       "          [0.0000, 0.0000, 0.0000, 0.0000, 0.0000, 0.0000, 0.0000, 0.0000,\n",
       "           0.0000, 0.0000, 0.0000, 0.0000, 0.0000, 0.0000, 0.0000, 0.0000,\n",
       "           0.0000, 0.0000, 0.0000, 0.0000, 0.0000, 0.0000, 0.0000, 0.0000,\n",
       "           0.0000, 0.0000, 0.0000, 0.0000],\n",
       "          [0.0000, 0.0000, 0.0000, 0.0000, 0.0000, 0.0000, 0.0000, 0.0000,\n",
       "           0.0000, 0.0000, 0.0000, 0.0000, 0.0000, 0.0000, 0.0000, 0.0000,\n",
       "           0.0000, 0.0000, 0.0000, 0.0000, 0.0000, 0.0000, 0.0000, 0.0000,\n",
       "           0.0000, 0.0000, 0.0000, 0.0000],\n",
       "          [0.0000, 0.0000, 0.0000, 0.0000, 0.0000, 0.0000, 0.0000, 0.0000,\n",
       "           0.0000, 0.0000, 0.0000, 0.0000, 0.0000, 0.0000, 0.0000, 0.0000,\n",
       "           0.0000, 0.0000, 0.0000, 0.0000, 0.0000, 0.0000, 0.0000, 0.0000,\n",
       "           0.0000, 0.0000, 0.0000, 0.0000],\n",
       "          [0.0000, 0.0000, 0.0000, 0.0000, 0.0000, 0.0000, 0.0000, 0.0000,\n",
       "           0.0000, 0.0000, 0.0000, 0.0000, 0.0000, 0.0000, 0.0000, 0.0510,\n",
       "           0.0980, 0.3922, 0.4784, 0.0275, 0.0000, 0.0000, 0.0000, 0.0000,\n",
       "           0.0000, 0.0000, 0.0000, 0.0000],\n",
       "          [0.0000, 0.0000, 0.0000, 0.0000, 0.0000, 0.0000, 0.0000, 0.0000,\n",
       "           0.0000, 0.0000, 0.0000, 0.0000, 0.0000, 0.1294, 0.5922, 0.8157,\n",
       "           0.9882, 0.9882, 0.9882, 0.5725, 0.0000, 0.0000, 0.0000, 0.0000,\n",
       "           0.0000, 0.0000, 0.0000, 0.0000],\n",
       "          [0.0000, 0.0000, 0.0000, 0.0000, 0.0000, 0.0000, 0.0000, 0.0000,\n",
       "           0.0000, 0.0000, 0.0000, 0.1569, 0.5961, 0.9569, 0.9882, 0.9922,\n",
       "           0.8784, 0.8275, 0.9882, 0.9098, 0.1569, 0.0000, 0.0000, 0.0000,\n",
       "           0.0000, 0.0000, 0.0000, 0.0000],\n",
       "          [0.0000, 0.0000, 0.0000, 0.0000, 0.0000, 0.0000, 0.0000, 0.0000,\n",
       "           0.0000, 0.0588, 0.5961, 0.9373, 0.9882, 0.9882, 0.9882, 0.8471,\n",
       "           0.1216, 0.1451, 0.9882, 0.9882, 0.2353, 0.0000, 0.0000, 0.0000,\n",
       "           0.0000, 0.0000, 0.0000, 0.0000],\n",
       "          [0.0000, 0.0000, 0.0000, 0.0000, 0.0000, 0.0000, 0.0000, 0.0000,\n",
       "           0.0000, 0.3765, 0.9882, 0.9882, 0.9882, 0.9882, 0.8510, 0.1137,\n",
       "           0.0000, 0.1451, 0.9882, 0.9882, 0.2353, 0.0000, 0.0000, 0.0000,\n",
       "           0.0000, 0.0000, 0.0000, 0.0000],\n",
       "          [0.0000, 0.0000, 0.0000, 0.0000, 0.0000, 0.0000, 0.0000, 0.0000,\n",
       "           0.0000, 0.7098, 0.9882, 0.9882, 0.8627, 0.6549, 0.1176, 0.0000,\n",
       "           0.0000, 0.3020, 0.9882, 0.9882, 0.2353, 0.0000, 0.0000, 0.0000,\n",
       "           0.0000, 0.0000, 0.0000, 0.0000],\n",
       "          [0.0000, 0.0000, 0.0000, 0.0000, 0.0000, 0.0000, 0.0000, 0.0000,\n",
       "           0.0000, 0.1020, 0.5020, 0.2275, 0.0863, 0.0000, 0.0000, 0.0000,\n",
       "           0.0000, 0.3922, 0.9882, 0.9882, 0.2353, 0.0000, 0.0000, 0.0000,\n",
       "           0.0000, 0.0000, 0.0000, 0.0000],\n",
       "          [0.0000, 0.0000, 0.0000, 0.0000, 0.0000, 0.0000, 0.0000, 0.0000,\n",
       "           0.0000, 0.0000, 0.0000, 0.0000, 0.0000, 0.0000, 0.0000, 0.0000,\n",
       "           0.0000, 0.6157, 0.9882, 0.9882, 0.2353, 0.0000, 0.0000, 0.0000,\n",
       "           0.0000, 0.0000, 0.0000, 0.0000],\n",
       "          [0.0000, 0.0000, 0.0000, 0.0000, 0.0000, 0.0000, 0.0000, 0.0000,\n",
       "           0.0000, 0.0000, 0.0000, 0.0000, 0.0000, 0.4314, 0.4745, 0.4784,\n",
       "           0.4745, 0.7922, 0.9882, 0.7608, 0.0118, 0.0000, 0.0000, 0.0000,\n",
       "           0.0000, 0.0000, 0.0000, 0.0000],\n",
       "          [0.0000, 0.0000, 0.0000, 0.0000, 0.0000, 0.0000, 0.0000, 0.0000,\n",
       "           0.0000, 0.0000, 0.0392, 0.2078, 0.7020, 0.9922, 0.9922, 1.0000,\n",
       "           0.9922, 0.9922, 0.8941, 0.1373, 0.0000, 0.0000, 0.0000, 0.0000,\n",
       "           0.0000, 0.0000, 0.0000, 0.0000],\n",
       "          [0.0000, 0.0000, 0.0000, 0.0000, 0.0000, 0.0000, 0.0000, 0.0000,\n",
       "           0.0196, 0.2118, 0.8902, 0.9882, 0.9529, 0.8941, 0.6667, 0.9490,\n",
       "           0.9882, 0.9882, 0.9059, 0.4588, 0.0235, 0.0000, 0.0000, 0.0000,\n",
       "           0.0000, 0.0000, 0.0000, 0.0000],\n",
       "          [0.0000, 0.0000, 0.0000, 0.0000, 0.0000, 0.0000, 0.0000, 0.0235,\n",
       "           0.3059, 0.9882, 0.9882, 0.4902, 0.2314, 0.0000, 0.0706, 0.8157,\n",
       "           0.9882, 0.9882, 0.9882, 0.9882, 0.3412, 0.0275, 0.0000, 0.0000,\n",
       "           0.0000, 0.0000, 0.0000, 0.0000],\n",
       "          [0.0000, 0.0000, 0.0000, 0.0000, 0.0000, 0.0000, 0.0196, 0.5294,\n",
       "           0.9882, 0.9882, 0.7059, 0.0627, 0.0000, 0.0824, 0.7961, 0.9922,\n",
       "           0.9686, 0.5059, 0.6784, 0.9882, 0.9882, 0.7216, 0.2588, 0.1922,\n",
       "           0.1922, 0.0000, 0.0000, 0.0000],\n",
       "          [0.0000, 0.0000, 0.0000, 0.0000, 0.0000, 0.0118, 0.5333, 0.9882,\n",
       "           0.9451, 0.4157, 0.0667, 0.0000, 0.2078, 0.7843, 0.9882, 0.8471,\n",
       "           0.2549, 0.0000, 0.0549, 0.2824, 0.6392, 0.9451, 0.9882, 0.9882,\n",
       "           0.8745, 0.0000, 0.0000, 0.0000],\n",
       "          [0.0000, 0.0000, 0.0000, 0.0000, 0.0000, 0.4118, 0.9882, 0.9490,\n",
       "           0.3451, 0.0706, 0.2863, 0.6667, 0.9569, 0.9882, 0.4941, 0.1137,\n",
       "           0.0000, 0.0000, 0.0000, 0.0000, 0.0000, 0.3490, 0.7059, 0.7059,\n",
       "           0.1451, 0.0000, 0.0000, 0.0000],\n",
       "          [0.0000, 0.0000, 0.0000, 0.0000, 0.0000, 0.9059, 0.9882, 0.9608,\n",
       "           0.8039, 0.8471, 0.9882, 0.9882, 0.9882, 0.4863, 0.0118, 0.0000,\n",
       "           0.0000, 0.0000, 0.0000, 0.0000, 0.0000, 0.0000, 0.0000, 0.0000,\n",
       "           0.0000, 0.0000, 0.0000, 0.0000],\n",
       "          [0.0000, 0.0000, 0.0000, 0.0000, 0.0000, 0.8118, 0.9882, 0.9882,\n",
       "           0.9882, 0.9882, 0.6980, 0.4549, 0.1412, 0.0157, 0.0000, 0.0000,\n",
       "           0.0000, 0.0000, 0.0000, 0.0000, 0.0000, 0.0000, 0.0000, 0.0000,\n",
       "           0.0000, 0.0000, 0.0000, 0.0000],\n",
       "          [0.0000, 0.0000, 0.0000, 0.0000, 0.0000, 0.0510, 0.3647, 0.5608,\n",
       "           0.4745, 0.0902, 0.0235, 0.0000, 0.0000, 0.0000, 0.0000, 0.0000,\n",
       "           0.0000, 0.0000, 0.0000, 0.0000, 0.0000, 0.0000, 0.0000, 0.0000,\n",
       "           0.0000, 0.0000, 0.0000, 0.0000],\n",
       "          [0.0000, 0.0000, 0.0000, 0.0000, 0.0000, 0.0000, 0.0000, 0.0000,\n",
       "           0.0000, 0.0000, 0.0000, 0.0000, 0.0000, 0.0000, 0.0000, 0.0000,\n",
       "           0.0000, 0.0000, 0.0000, 0.0000, 0.0000, 0.0000, 0.0000, 0.0000,\n",
       "           0.0000, 0.0000, 0.0000, 0.0000],\n",
       "          [0.0000, 0.0000, 0.0000, 0.0000, 0.0000, 0.0000, 0.0000, 0.0000,\n",
       "           0.0000, 0.0000, 0.0000, 0.0000, 0.0000, 0.0000, 0.0000, 0.0000,\n",
       "           0.0000, 0.0000, 0.0000, 0.0000, 0.0000, 0.0000, 0.0000, 0.0000,\n",
       "           0.0000, 0.0000, 0.0000, 0.0000],\n",
       "          [0.0000, 0.0000, 0.0000, 0.0000, 0.0000, 0.0000, 0.0000, 0.0000,\n",
       "           0.0000, 0.0000, 0.0000, 0.0000, 0.0000, 0.0000, 0.0000, 0.0000,\n",
       "           0.0000, 0.0000, 0.0000, 0.0000, 0.0000, 0.0000, 0.0000, 0.0000,\n",
       "           0.0000, 0.0000, 0.0000, 0.0000],\n",
       "          [0.0000, 0.0000, 0.0000, 0.0000, 0.0000, 0.0000, 0.0000, 0.0000,\n",
       "           0.0000, 0.0000, 0.0000, 0.0000, 0.0000, 0.0000, 0.0000, 0.0000,\n",
       "           0.0000, 0.0000, 0.0000, 0.0000, 0.0000, 0.0000, 0.0000, 0.0000,\n",
       "           0.0000, 0.0000, 0.0000, 0.0000],\n",
       "          [0.0000, 0.0000, 0.0000, 0.0000, 0.0000, 0.0000, 0.0000, 0.0000,\n",
       "           0.0000, 0.0000, 0.0000, 0.0000, 0.0000, 0.0000, 0.0000, 0.0000,\n",
       "           0.0000, 0.0000, 0.0000, 0.0000, 0.0000, 0.0000, 0.0000, 0.0000,\n",
       "           0.0000, 0.0000, 0.0000, 0.0000]]]),\n",
       " 2)"
      ]
     },
     "execution_count": 20,
     "metadata": {},
     "output_type": "execute_result"
    }
   ],
   "source": [
    "mnist_train[5]"
   ]
  },
  {
   "cell_type": "code",
   "execution_count": 16,
   "id": "97073978",
   "metadata": {},
   "outputs": [
    {
     "data": {
      "image/png": "[encoded data removed]",
      "text/plain": [
       "<PIL.Image.Image image mode=L size=28x28 at 0x29E7AF60160>"
      ]
     },
     "metadata": {},
     "output_type": "display_data"
    },
    {
     "data": {
      "text/plain": [
       "2"
      ]
     },
     "metadata": {},
     "output_type": "display_data"
    },
    {
     "name": "stdout",
     "output_type": "stream",
     "text": [
      "None\n"
     ]
    }
   ],
   "source": [
    "# Explore loaded datasets (size, content)\n",
    "# --- YOUR CODE HERE ---\n",
    "display(mnist_train[5][0])\n",
    "print(display(mnist_train[5][1]))"
   ]
  },
  {
   "cell_type": "code",
   "execution_count": 25,
   "id": "cfbea659",
   "metadata": {},
   "outputs": [
    {
     "data": {
      "text/plain": [
       "<matplotlib.image.AxesImage at 0x29e00a3f550>"
      ]
     },
     "execution_count": 25,
     "metadata": {},
     "output_type": "execute_result"
    },
    {
     "data": {
      "image/png": "[encoded data removed]",
      "text/plain": [
       "<Figure size 432x288 with 1 Axes>"
      ]
     },
     "metadata": {
      "needs_background": "light"
     },
     "output_type": "display_data"
    }
   ],
   "source": [
    "# Display 10 data examples together with their labels\n",
    "# --- YOUR CODE HERE ---\n",
    "%matplotlib inline\n",
    "import matplotlib.pyplot as plt\n",
    "\n",
    "img = mnist_train[5][0]\n",
    "plt.imshow(img.squeeze())"
   ]
  },
  {
   "cell_type": "markdown",
   "id": "d4db87d7",
   "metadata": {
    "slideshow": {
     "slide_type": "slide"
    }
   },
   "source": [
    "### Data loading\n",
    "\n",
    "Use `torch.uitls.data.DataLoader` to prepare the batch loading"
   ]
  },
  {
   "cell_type": "code",
   "execution_count": null,
   "id": "e075831d",
   "metadata": {},
   "outputs": [],
   "source": [
    "# Construct train and test data loaders to provide batches of data\n",
    "# --- YOUR CODE HERE ---"
   ]
  },
  {
   "cell_type": "markdown",
   "id": "8ae7547d",
   "metadata": {
    "slideshow": {
     "slide_type": "slide"
    }
   },
   "source": [
    "### Model definition\n",
    "\n",
    "Linear model for logits $\\mathbf{\\hat{o}} = \\mathbf{x}^T \\mathbf{W} + \\mathbf{b}$ using `torch.nn` module and the `nn.Linear` layer therein."
   ]
  },
  {
   "cell_type": "code",
   "execution_count": null,
   "id": "15b6e5fb",
   "metadata": {},
   "outputs": [],
   "source": [
    "# Define linear model for probability logits\n",
    "# --- YOUR CODE HERE ---"
   ]
  },
  {
   "cell_type": "markdown",
   "id": "51c83e35",
   "metadata": {
    "slideshow": {
     "slide_type": "slide"
    }
   },
   "source": [
    "### Softmax probabilities\n",
    "\n",
    "We use softmax function to change logits into probabilities (sum to 1 accross rows)\n",
    "\n",
    "$$\\hat{y}_j = \\frac{e^{o_j}}{\\sum_j e^{o_j}}$$"
   ]
  },
  {
   "cell_type": "code",
   "execution_count": null,
   "id": "20f20e79",
   "metadata": {},
   "outputs": [],
   "source": [
    "# Define softmax function softmax(logits) -> probs\n",
    "# --- YOUR CODE HERE ---"
   ]
  },
  {
   "cell_type": "markdown",
   "id": "f8cfde76",
   "metadata": {},
   "source": [
    "### Cross-entropy loss\n",
    "\n",
    "For classification problems we use the cross-entropy loss function.\n",
    "\n",
    "$$\\mathcal{L} = - \\frac{1}{n} \\sum_{i = 1}^{n} \\sum_j^q y_j^{(i)} \\log \\hat{y}_j^{(i)} $$"
   ]
  },
  {
   "cell_type": "code",
   "execution_count": null,
   "id": "7dca8d5f",
   "metadata": {},
   "outputs": [],
   "source": [
    "# Define cross entropy loss function ce_loss(preds, targets) -> loss\n",
    "# --- YOUR CODE HERE ---"
   ]
  },
  {
   "cell_type": "markdown",
   "id": "4d53d205",
   "metadata": {},
   "source": [
    "### Optimization algorithm\n",
    "\n",
    "We use minibatch stochastic gradient descent predefined in the `nn.optim` module."
   ]
  },
  {
   "cell_type": "code",
   "execution_count": null,
   "id": "ddb6af88",
   "metadata": {},
   "outputs": [],
   "source": [
    "# instantiate optmizier as the torch.optim.SGD\n",
    "# --- YOUR CODE HERE --"
   ]
  },
  {
   "cell_type": "markdown",
   "id": "1ee5cc65",
   "metadata": {},
   "source": [
    "### Model training\n",
    "\n",
    "Follows the same logic as for linear regression problem"
   ]
  },
  {
   "cell_type": "code",
   "execution_count": null,
   "id": "8501788c",
   "metadata": {},
   "outputs": [],
   "source": [
    "# write the training procedure\n",
    "# --- YOUR CODE HERE ---"
   ]
  },
  {
   "cell_type": "markdown",
   "id": "2907d8e2",
   "metadata": {},
   "source": [
    "### Cross-entropy from torch API\n",
    "\n",
    "Cross entropy loss is defined in the `torch.nn` module."
   ]
  },
  {
   "cell_type": "code",
   "execution_count": null,
   "id": "df79d021",
   "metadata": {},
   "outputs": [],
   "source": [
    "# instantiate loss from torch.nn\n",
    "# --- YOUR CODE HERE ---"
   ]
  },
  {
   "cell_type": "markdown",
   "id": "3b4735af",
   "metadata": {},
   "source": [
    "### Put it all together\n",
    "\n",
    "Combine all steps above into a neat piece of code :)"
   ]
  },
  {
   "cell_type": "code",
   "execution_count": null,
   "id": "15c570c6",
   "metadata": {},
   "outputs": [],
   "source": [
    "# Combine all steps above into a piece of code relying on the torch API\n",
    "# --- YOUR CODE HERE ---"
   ]
  }
 ],
 "metadata": {
  "celltoolbar": "Slideshow",
  "kernelspec": {
   "display_name": "Python 3 (ipykernel)",
   "language": "python",
   "name": "python3"
  },
  "language_info": {
   "codemirror_mode": {
    "name": "ipython",
    "version": 3
   },
   "file_extension": ".py",
   "mimetype": "text/x-python",
   "name": "python",
   "nbconvert_exporter": "python",
   "pygments_lexer": "ipython3",
   "version": "3.8.10"
  }
 },
 "nbformat": 4,
 "nbformat_minor": 5
}
