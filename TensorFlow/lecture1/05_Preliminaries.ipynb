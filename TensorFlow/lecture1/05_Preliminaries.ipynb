{
 "cells": [
  {
   "cell_type": "code",
   "execution_count": 3,
   "id": "42c9ffc9-7df0-491c-bf79-1ca49f2f270b",
   "metadata": {},
   "outputs": [],
   "source": [
    "import tensorflow as tf\n",
    "import numpy as np"
   ]
  },
  {
   "cell_type": "code",
   "execution_count": 5,
   "id": "1afb67f2-7d7d-4972-aa5f-fd56dcd3974f",
   "metadata": {},
   "outputs": [
    {
     "data": {
      "text/plain": [
       "<tf.Tensor: shape=(12,), dtype=int32, numpy=array([ 0,  1,  2,  3,  4,  5,  6,  7,  8,  9, 10, 11], dtype=int32)>"
      ]
     },
     "execution_count": 5,
     "metadata": {},
     "output_type": "execute_result"
    }
   ],
   "source": [
    "x = tf.range(12)\n",
    "x"
   ]
  },
  {
   "cell_type": "code",
   "execution_count": 9,
   "id": "c002e077-5018-4769-aca2-a5675cb27e1d",
   "metadata": {},
   "outputs": [
    {
     "data": {
      "text/plain": [
       "TensorShape([12])"
      ]
     },
     "execution_count": 9,
     "metadata": {},
     "output_type": "execute_result"
    }
   ],
   "source": [
    "x.shape"
   ]
  },
  {
   "cell_type": "code",
   "execution_count": 13,
   "id": "88d4a042-f785-4eaf-809d-f3fb7a29b247",
   "metadata": {},
   "outputs": [
    {
     "data": {
      "text/plain": [
       "<tf.Tensor: shape=(3, 4), dtype=int32, numpy=\n",
       "array([[ 0,  1,  2,  3],\n",
       "       [ 4,  5,  6,  7],\n",
       "       [ 8,  9, 10, 11]], dtype=int32)>"
      ]
     },
     "execution_count": 13,
     "metadata": {},
     "output_type": "execute_result"
    }
   ],
   "source": [
    "# reshaping, same as torch.view\n",
    "tf.reshape(x, (3,4))"
   ]
  },
  {
   "cell_type": "code",
   "execution_count": 24,
   "id": "b7048cb5-ab51-47e9-8bad-fa7ee320b163",
   "metadata": {},
   "outputs": [
    {
     "data": {
      "text/plain": [
       "<tf.Tensor: shape=(4, 5), dtype=float32, numpy=\n",
       "array([[-0.52192146, -1.4679316 ,  1.1646323 ,  1.6414821 ,  2.5051131 ],\n",
       "       [ 0.85070467, -0.07886478,  0.13598397,  1.6870651 , -1.6859868 ],\n",
       "       [ 0.5486098 ,  0.22132479, -0.6173123 ,  0.5932094 ,  0.28985944],\n",
       "       [-0.6372998 ,  1.0456477 , -0.8238618 , -0.13781518, -0.7250436 ]],\n",
       "      dtype=float32)>"
      ]
     },
     "execution_count": 24,
     "metadata": {},
     "output_type": "execute_result"
    }
   ],
   "source": [
    "# create tensor with random values from normal distribution\n",
    "mymatrix = tf.random.normal((4,5))\n",
    "mymatrix"
   ]
  },
  {
   "cell_type": "code",
   "execution_count": 27,
   "id": "996b8aba-4206-4155-80ca-1161c20d79c1",
   "metadata": {},
   "outputs": [
    {
     "data": {
      "text/plain": [
       "<tf.Tensor: shape=(2, 3), dtype=int32, numpy=\n",
       "array([[2, 3, 5],\n",
       "       [1, 4, 7]], dtype=int32)>"
      ]
     },
     "execution_count": 27,
     "metadata": {},
     "output_type": "execute_result"
    }
   ],
   "source": [
    "# create tensor\n",
    "tf.constant(\n",
    "    [[2,3,5], [1,4,7]]\n",
    ")"
   ]
  },
  {
   "cell_type": "code",
   "execution_count": 31,
   "id": "4acc3cf6-111d-4026-b2fb-22239dcd4069",
   "metadata": {},
   "outputs": [
    {
     "data": {
      "text/plain": [
       "(<tf.Tensor: shape=(2, 3), dtype=float32, numpy=\n",
       " array([[ 0.3718474 ,  0.80327815, -0.55664325],\n",
       "        [ 1.0867642 , -0.506104  , -0.583742  ]], dtype=float32)>,\n",
       " <tf.Tensor: shape=(2, 3), dtype=float32, numpy=\n",
       " array([[6., 6., 6.],\n",
       "        [6., 6., 6.]], dtype=float32)>)"
      ]
     },
     "execution_count": 31,
     "metadata": {},
     "output_type": "execute_result"
    }
   ],
   "source": [
    "x = tf.random.normal((2, 3))\n",
    "y = tf.ones((2, 3)) * 6\n",
    "x, y"
   ]
  },
  {
   "cell_type": "code",
   "execution_count": 35,
   "id": "de8751ea-8985-44d3-aa5e-b171320d238f",
   "metadata": {},
   "outputs": [
    {
     "data": {
      "text/plain": [
       "<tf.Tensor: shape=(4, 3), dtype=float32, numpy=\n",
       "array([[ 0.3718474 ,  0.80327815, -0.55664325],\n",
       "       [ 1.0867642 , -0.506104  , -0.583742  ],\n",
       "       [ 6.        ,  6.        ,  6.        ],\n",
       "       [ 6.        ,  6.        ,  6.        ]], dtype=float32)>"
      ]
     },
     "execution_count": 35,
     "metadata": {},
     "output_type": "execute_result"
    }
   ],
   "source": [
    "tf.concat((x, y), axis=0)"
   ]
  },
  {
   "cell_type": "code",
   "execution_count": 36,
   "id": "a36b4446-68e1-4913-9236-e4b0a62990fc",
   "metadata": {},
   "outputs": [
    {
     "data": {
      "text/plain": [
       "<tf.Tensor: shape=(2, 6), dtype=float32, numpy=\n",
       "array([[ 0.3718474 ,  0.80327815, -0.55664325,  6.        ,  6.        ,\n",
       "         6.        ],\n",
       "       [ 1.0867642 , -0.506104  , -0.583742  ,  6.        ,  6.        ,\n",
       "         6.        ]], dtype=float32)>"
      ]
     },
     "execution_count": 36,
     "metadata": {},
     "output_type": "execute_result"
    }
   ],
   "source": [
    "tf.concat((x, y), axis=1)"
   ]
  },
  {
   "cell_type": "code",
   "execution_count": null,
   "id": "b3a9afd9-c18c-424e-82a0-8947490115a8",
   "metadata": {},
   "outputs": [],
   "source": []
  }
 ],
 "metadata": {
  "kernelspec": {
   "display_name": "data_science",
   "language": "python",
   "name": "data_science"
  },
  "language_info": {
   "codemirror_mode": {
    "name": "ipython",
    "version": 3
   },
   "file_extension": ".py",
   "mimetype": "text/x-python",
   "name": "python",
   "nbconvert_exporter": "python",
   "pygments_lexer": "ipython3",
   "version": "3.9.7"
  }
 },
 "nbformat": 4,
 "nbformat_minor": 5
}
