{
 "cells": [
  {
   "cell_type": "markdown",
   "id": "09213e4a",
   "metadata": {
    "slideshow": {
     "slide_type": "slide"
    }
   },
   "source": [
    "# Preliminaries\n",
    "\n",
    "* manipulating data\n",
    "* linear algebra\n",
    "* calculus\n",
    "* probablity\n",
    "\n",
    "Keep it to minimum to get you going. Following D2L book section 2. Preliminaries\n",
    "\n",
    "For more mathemtics you can check here: https://d2l.ai/chapter_appendix-mathematics-for-deep-learning/index.html"
   ]
  },
  {
   "cell_type": "markdown",
   "id": "9cb207dd",
   "metadata": {
    "slideshow": {
     "slide_type": "slide"
    }
   },
   "source": [
    "Throughot this course we will be working with PyTorch.\n",
    "https://pytorch.org/docs/stable/torch.html\n",
    "\n",
    "To get started you need to import it."
   ]
  },
  {
   "cell_type": "code",
   "execution_count": null,
   "id": "8b9fad3d",
   "metadata": {},
   "outputs": [],
   "source": [
    "import torch"
   ]
  },
  {
   "cell_type": "markdown",
   "id": "ab8a8484",
   "metadata": {
    "slideshow": {
     "slide_type": "slide"
    }
   },
   "source": [
    "## Data manipulation\n",
    "\n",
    "In PyTorch, basic object is $n$-dimensional `tensor`. It is a $n$-dimensional array of numbers. \n",
    "\n",
    "https://pytorch.org/docs/stable/tensors.html\n",
    "\n",
    "\n",
    "What is 1-dimensional array?\n",
    "\n",
    "What is 2-dimensional array?"
   ]
  },
  {
   "cell_type": "markdown",
   "id": "b6c58405",
   "metadata": {
    "slideshow": {
     "slide_type": "slide"
    }
   },
   "source": [
    "Let's **instantiate** and explore some basic tensors"
   ]
  },
  {
   "cell_type": "code",
   "execution_count": null,
   "id": "61edf5d7",
   "metadata": {},
   "outputs": [],
   "source": [
    "x = torch.arange(12)\n",
    "x"
   ]
  },
  {
   "cell_type": "code",
   "execution_count": null,
   "id": "75035e83",
   "metadata": {},
   "outputs": [],
   "source": [
    "print(x.shape)\n",
    "print(x.numel())"
   ]
  },
  {
   "cell_type": "markdown",
   "id": "809dba64",
   "metadata": {
    "slideshow": {
     "slide_type": "slide"
    }
   },
   "source": [
    "We can reshape vectors into matrices or other compatible shapes"
   ]
  },
  {
   "cell_type": "code",
   "execution_count": null,
   "id": "dd884264",
   "metadata": {},
   "outputs": [],
   "source": [
    "x.view(3, 4)"
   ]
  },
  {
   "cell_type": "code",
   "execution_count": null,
   "id": "f3b9ba58",
   "metadata": {},
   "outputs": [],
   "source": [
    "y = x.view(-1, 2, 3)\n",
    "y"
   ]
  },
  {
   "cell_type": "code",
   "execution_count": null,
   "id": "55905cf1",
   "metadata": {},
   "outputs": [],
   "source": [
    "y.view(12)"
   ]
  },
  {
   "cell_type": "markdown",
   "id": "78482fd4",
   "metadata": {
    "slideshow": {
     "slide_type": "slide"
    }
   },
   "source": [
    "Often we want to initiate the tensor with zeros, ones or some other constant."
   ]
  },
  {
   "cell_type": "code",
   "execution_count": null,
   "id": "de53e4fc",
   "metadata": {},
   "outputs": [],
   "source": [
    "torch.zeros(2, 3, 4)"
   ]
  },
  {
   "cell_type": "code",
   "execution_count": null,
   "id": "55dcc2fa",
   "metadata": {},
   "outputs": [],
   "source": [
    "torch.ones(2, 5) * 6."
   ]
  },
  {
   "cell_type": "markdown",
   "id": "fc5b1034",
   "metadata": {
    "slideshow": {
     "slide_type": "slide"
    }
   },
   "source": [
    "Or with random numbers or spefici numbers from a python list"
   ]
  },
  {
   "cell_type": "code",
   "execution_count": null,
   "id": "d9663e3e",
   "metadata": {},
   "outputs": [],
   "source": [
    "mymatrix = torch.randn(4, 5)\n",
    "mymatrix"
   ]
  },
  {
   "cell_type": "code",
   "execution_count": null,
   "id": "c9ced36f",
   "metadata": {},
   "outputs": [],
   "source": [
    "torch.tensor([[2,3,5],[1,4,7]])"
   ]
  },
  {
   "cell_type": "markdown",
   "id": "e5bffd31",
   "metadata": {
    "slideshow": {
     "slide_type": "slide"
    }
   },
   "source": [
    "We can perform basic **math operations**. https://pytorch.org/docs/stable/torch.html#math-operations\n",
    "\n",
    "Many of the basic ones are **pointwise (elementwise)** (`+`, `-`, `*`, `/`, `**`) scalar with array operation, two arrays of corresponding shape."
   ]
  },
  {
   "cell_type": "code",
   "execution_count": null,
   "id": "52aa6c53",
   "metadata": {},
   "outputs": [],
   "source": [
    "x, y = torch.randn(5), torch.ones(5) * 2.\n",
    "print(f\"Tensors x: {x}, y: {y}\")\n",
    "print(f\"addition: {x + y}\")\n",
    "print(f\"substraction: {x - y}\")\n",
    "print(f\"multiplication: {x * y}\")\n",
    "print(f\"division: {x / y}\")\n",
    "print(f\"exponentiaoin: {x**y}\")"
   ]
  },
  {
   "cell_type": "markdown",
   "id": "5ee2a25c",
   "metadata": {
    "slideshow": {
     "slide_type": "slide"
    }
   },
   "source": [
    "We can **concatenate** tensors"
   ]
  },
  {
   "cell_type": "code",
   "execution_count": null,
   "id": "623ed806",
   "metadata": {},
   "outputs": [],
   "source": [
    "x, y = torch.randn(2, 3), torch.ones(2, 3) * 6.\n",
    "torch.cat((x, y), dim=0), torch.cat((x, y), dim=1)"
   ]
  },
  {
   "cell_type": "markdown",
   "id": "e572d90e",
   "metadata": {
    "slideshow": {
     "slide_type": "-"
    }
   },
   "source": [
    "Perform **reduction** operations"
   ]
  },
  {
   "cell_type": "code",
   "execution_count": null,
   "id": "ae90e02f",
   "metadata": {},
   "outputs": [],
   "source": [
    "x = torch.arange(12)\n",
    "x.sum(), x.min(), x.max()"
   ]
  },
  {
   "cell_type": "markdown",
   "id": "8d802c35",
   "metadata": {
    "slideshow": {
     "slide_type": "slide"
    }
   },
   "source": [
    "And evaluate **comparison** operations"
   ]
  },
  {
   "cell_type": "code",
   "execution_count": null,
   "id": "5cc3e44f",
   "metadata": {},
   "outputs": [],
   "source": [
    "x, y = torch.randn(2, 3), torch.zeros(2, 3)\n",
    "x, y"
   ]
  },
  {
   "cell_type": "code",
   "execution_count": null,
   "id": "e1ab3bdb",
   "metadata": {},
   "outputs": [],
   "source": [
    "x == y, torch.gt(x, y)"
   ]
  },
  {
   "cell_type": "markdown",
   "id": "13a87857",
   "metadata": {
    "slideshow": {
     "slide_type": "slide"
    }
   },
   "source": [
    "Indexing and slicing: use `[]`, first element has index 0, `:` for range, `-1` for last element (and backwards), in range `a:b` selection starts from `a` (including `a`) and goes up to `b` (excluding `b`)"
   ]
  },
  {
   "cell_type": "code",
   "execution_count": null,
   "id": "a404b7d5",
   "metadata": {
    "slideshow": {
     "slide_type": "-"
    }
   },
   "outputs": [],
   "source": [
    "x = torch.arange(12)\n",
    "x"
   ]
  },
  {
   "cell_type": "code",
   "execution_count": null,
   "id": "d7637287",
   "metadata": {},
   "outputs": [],
   "source": [
    "x[:], x[5], x[1:5], x[-1], x[-2:]"
   ]
  },
  {
   "cell_type": "code",
   "execution_count": null,
   "id": "671c7b6c",
   "metadata": {},
   "outputs": [],
   "source": [
    "# regular steps\n",
    "x[0:9:2]"
   ]
  },
  {
   "cell_type": "markdown",
   "id": "9bd9b3a0",
   "metadata": {
    "slideshow": {
     "slide_type": "slide"
    }
   },
   "source": [
    "Convert to numpy array and vice versa"
   ]
  },
  {
   "cell_type": "code",
   "execution_count": null,
   "id": "b71f2e14",
   "metadata": {},
   "outputs": [],
   "source": [
    "x = torch.randn(3, 2)\n",
    "print(f\"x: {x}  has type {type(x)}\")"
   ]
  },
  {
   "cell_type": "code",
   "execution_count": null,
   "id": "5bb31b59",
   "metadata": {},
   "outputs": [],
   "source": [
    "y = x.numpy()\n",
    "print(f\"y: {y}  has type {type(y)}\")"
   ]
  },
  {
   "cell_type": "code",
   "execution_count": null,
   "id": "0f69a3f0",
   "metadata": {},
   "outputs": [],
   "source": [
    "z = x.sum()\n",
    "print(f\"y: {z}  has type {type(z)} {z.shape}, but as item is {type(z.item())}\")"
   ]
  },
  {
   "cell_type": "markdown",
   "id": "a46abf29",
   "metadata": {
    "slideshow": {
     "slide_type": "slide"
    }
   },
   "source": [
    "## Data loading and preprocessing\n",
    "\n",
    "We will mostly use inbuilt pytorch / torchvision datasets and functions\n",
    "\n",
    "Alternative is `Pandas` - figure out on your own when you need (starting point section 2.2 in D2L book)"
   ]
  },
  {
   "cell_type": "markdown",
   "id": "ab098154",
   "metadata": {
    "slideshow": {
     "slide_type": "slide"
    }
   },
   "source": [
    "## Linear algebra\n",
    "\n",
    "- *scalar*: single numerical quantity, e.g. $2.58$ or $1276$\n",
    "- *scalar variable* is a placeholder for a scalar, e.g $x$ or $a$\n",
    "- *space of real-value scalars* indicated by $\\mathbb{R}$ so that $x \\in \\mathbb{R}$ \n",
    "\n",
    "In PyTorch scalars are tensors with 1 element, they have no shape (size)."
   ]
  },
  {
   "cell_type": "code",
   "execution_count": null,
   "id": "ed7c4774",
   "metadata": {},
   "outputs": [],
   "source": [
    "x, y = torch.tensor(2.58), torch.tensor(1276)\n",
    "x, y"
   ]
  },
  {
   "cell_type": "code",
   "execution_count": null,
   "id": "c9603898",
   "metadata": {},
   "outputs": [],
   "source": [
    "x.shape, x.numel(), x.dtype, y.dtype"
   ]
  },
  {
   "cell_type": "markdown",
   "id": "e7d14a29",
   "metadata": {
    "slideshow": {
     "slide_type": "slide"
    }
   },
   "source": [
    "### Vectors\n",
    "\n",
    "List of scalars, 1d array, 1d `torch.tensor`; bold-face low-case &nbsp; &nbsp; $\\mathbf{x} =\\begin{bmatrix}x_{1}  \\\\x_{2}  \\\\ \\vdots  \\\\x_{n}\\end{bmatrix}, \\quad \\mathbf{x} \\in \\mathbb{R}^n$\n"
   ]
  },
  {
   "cell_type": "code",
   "execution_count": null,
   "id": "baaa339f",
   "metadata": {},
   "outputs": [],
   "source": [
    "x = torch.arange(5)\n",
    "x"
   ]
  },
  {
   "cell_type": "code",
   "execution_count": null,
   "id": "3e007c7e",
   "metadata": {},
   "outputs": [],
   "source": [
    "x.shape, x.numel(), len(x), x.dtype"
   ]
  },
  {
   "cell_type": "markdown",
   "id": "b9b43bea",
   "metadata": {
    "slideshow": {
     "slide_type": "slide"
    }
   },
   "source": [
    "### Matrices\n",
    "\n",
    "2d arrays, 2d `torch.tensor`; bold-face capital letter &nbsp; &nbsp; $\\mathbf{A}=\\begin{bmatrix} a_{11} & a_{12} & \\cdots & a_{1n} \\\\ a_{21} & a_{22} & \\cdots & a_{2n} \\\\ \\vdots & \\vdots & \\ddots & \\vdots \\\\ a_{m1} & a_{m2} & \\cdots & a_{mn} \\\\ \\end{bmatrix}, \\quad \\mathbf{A} \\in \\mathbb{R}^{m \\times n}$"
   ]
  },
  {
   "cell_type": "code",
   "execution_count": null,
   "id": "efdf06da",
   "metadata": {},
   "outputs": [],
   "source": [
    "A = torch.arange(12).view(3, 4)\n",
    "A"
   ]
  },
  {
   "cell_type": "code",
   "execution_count": null,
   "id": "f84edd73",
   "metadata": {},
   "outputs": [],
   "source": [
    "A.shape, A.numel(), len(A), A.dtype"
   ]
  },
  {
   "cell_type": "markdown",
   "id": "73a9407f",
   "metadata": {
    "slideshow": {
     "slide_type": "slide"
    }
   },
   "source": [
    "### Tensors\n",
    "\n",
    "Extension of matrices to higher $k > 2$ dimensions; special font &nbsp; &nbsp; $\\mathsf{X} \\in \\mathbb{R}^{n_1 \\times n_2 \\times \\ldots \\times n_k}$\n",
    "\n",
    "We have seen a 4d tensor (HCWH) in our image classification demo."
   ]
  },
  {
   "cell_type": "code",
   "execution_count": null,
   "id": "488bfcf2",
   "metadata": {},
   "outputs": [],
   "source": [
    "Z = torch.arange(24).view(-1, 3, 4)\n",
    "Z"
   ]
  },
  {
   "cell_type": "code",
   "execution_count": null,
   "id": "164c3ad8",
   "metadata": {},
   "outputs": [],
   "source": [
    "Z.shape, Z.numel(), len(Z), Z.dtype"
   ]
  }
 ],
 "metadata": {
  "kernelspec": {
   "display_name": "Python 3 (ipykernel)",
   "language": "python",
   "name": "python3"
  },
  "language_info": {
   "codemirror_mode": {
    "name": "ipython",
    "version": 3
   },
   "file_extension": ".py",
   "mimetype": "text/x-python",
   "name": "python",
   "nbconvert_exporter": "python",
   "pygments_lexer": "ipython3",
   "version": "3.9.7"
  }
 },
 "nbformat": 4,
 "nbformat_minor": 5
}
